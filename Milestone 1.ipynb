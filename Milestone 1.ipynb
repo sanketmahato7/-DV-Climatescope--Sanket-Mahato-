{
 "cells": [
  {
   "cell_type": "markdown",
   "id": "deafe8c3",
   "metadata": {},
   "source": [
    "Milestone 1: Data Preparation & Initial Analysis (ClimateScope)"
   ]
  },
  {
   "cell_type": "markdown",
   "id": "dd31cd25",
   "metadata": {},
   "source": [
    "1. Setup Environment"
   ]
  },
  {
   "cell_type": "code",
   "execution_count": null,
   "id": "6fcfe1fc",
   "metadata": {},
   "outputs": [],
   "source": [
    "import pandas as pd\n",
    "import numpy as np\n",
    "import matplotlib.pyplot as plt\n",
    "import seaborn as sns\n",
    "\n",
    "\n",
    "\n",
    "import plotly.express as px"
   ]
  },
  {
   "cell_type": "markdown",
   "id": "94996ada",
   "metadata": {},
   "source": [
    "2. Load Dataset"
   ]
  },
  {
   "cell_type": "code",
   "execution_count": 6,
   "id": "e9326f7b",
   "metadata": {},
   "outputs": [
    {
     "name": "stdout",
     "output_type": "stream",
     "text": [
      "Dataset loaded. Shape: (88273, 41)\n"
     ]
    },
    {
     "data": {
      "text/html": [
       "<div>\n",
       "<style scoped>\n",
       "    .dataframe tbody tr th:only-of-type {\n",
       "        vertical-align: middle;\n",
       "    }\n",
       "\n",
       "    .dataframe tbody tr th {\n",
       "        vertical-align: top;\n",
       "    }\n",
       "\n",
       "    .dataframe thead th {\n",
       "        text-align: right;\n",
       "    }\n",
       "</style>\n",
       "<table border=\"1\" class=\"dataframe\">\n",
       "  <thead>\n",
       "    <tr style=\"text-align: right;\">\n",
       "      <th></th>\n",
       "      <th>country</th>\n",
       "      <th>location_name</th>\n",
       "      <th>latitude</th>\n",
       "      <th>longitude</th>\n",
       "      <th>timezone</th>\n",
       "      <th>last_updated_epoch</th>\n",
       "      <th>last_updated</th>\n",
       "      <th>temperature_celsius</th>\n",
       "      <th>temperature_fahrenheit</th>\n",
       "      <th>condition_text</th>\n",
       "      <th>...</th>\n",
       "      <th>air_quality_PM2.5</th>\n",
       "      <th>air_quality_PM10</th>\n",
       "      <th>air_quality_us-epa-index</th>\n",
       "      <th>air_quality_gb-defra-index</th>\n",
       "      <th>sunrise</th>\n",
       "      <th>sunset</th>\n",
       "      <th>moonrise</th>\n",
       "      <th>moonset</th>\n",
       "      <th>moon_phase</th>\n",
       "      <th>moon_illumination</th>\n",
       "    </tr>\n",
       "  </thead>\n",
       "  <tbody>\n",
       "    <tr>\n",
       "      <th>0</th>\n",
       "      <td>Afghanistan</td>\n",
       "      <td>Kabul</td>\n",
       "      <td>34.52</td>\n",
       "      <td>69.18</td>\n",
       "      <td>Asia/Kabul</td>\n",
       "      <td>1715849100</td>\n",
       "      <td>2024-05-16 13:15</td>\n",
       "      <td>26.6</td>\n",
       "      <td>79.8</td>\n",
       "      <td>Partly Cloudy</td>\n",
       "      <td>...</td>\n",
       "      <td>8.4</td>\n",
       "      <td>26.6</td>\n",
       "      <td>1</td>\n",
       "      <td>1</td>\n",
       "      <td>04:50 AM</td>\n",
       "      <td>06:50 PM</td>\n",
       "      <td>12:12 PM</td>\n",
       "      <td>01:11 AM</td>\n",
       "      <td>Waxing Gibbous</td>\n",
       "      <td>55</td>\n",
       "    </tr>\n",
       "    <tr>\n",
       "      <th>1</th>\n",
       "      <td>Albania</td>\n",
       "      <td>Tirana</td>\n",
       "      <td>41.33</td>\n",
       "      <td>19.82</td>\n",
       "      <td>Europe/Tirane</td>\n",
       "      <td>1715849100</td>\n",
       "      <td>2024-05-16 10:45</td>\n",
       "      <td>19.0</td>\n",
       "      <td>66.2</td>\n",
       "      <td>Partly cloudy</td>\n",
       "      <td>...</td>\n",
       "      <td>1.1</td>\n",
       "      <td>2.0</td>\n",
       "      <td>1</td>\n",
       "      <td>1</td>\n",
       "      <td>05:21 AM</td>\n",
       "      <td>07:54 PM</td>\n",
       "      <td>12:58 PM</td>\n",
       "      <td>02:14 AM</td>\n",
       "      <td>Waxing Gibbous</td>\n",
       "      <td>55</td>\n",
       "    </tr>\n",
       "    <tr>\n",
       "      <th>2</th>\n",
       "      <td>Algeria</td>\n",
       "      <td>Algiers</td>\n",
       "      <td>36.76</td>\n",
       "      <td>3.05</td>\n",
       "      <td>Africa/Algiers</td>\n",
       "      <td>1715849100</td>\n",
       "      <td>2024-05-16 09:45</td>\n",
       "      <td>23.0</td>\n",
       "      <td>73.4</td>\n",
       "      <td>Sunny</td>\n",
       "      <td>...</td>\n",
       "      <td>10.4</td>\n",
       "      <td>18.4</td>\n",
       "      <td>1</td>\n",
       "      <td>1</td>\n",
       "      <td>05:40 AM</td>\n",
       "      <td>07:50 PM</td>\n",
       "      <td>01:15 PM</td>\n",
       "      <td>02:14 AM</td>\n",
       "      <td>Waxing Gibbous</td>\n",
       "      <td>55</td>\n",
       "    </tr>\n",
       "    <tr>\n",
       "      <th>3</th>\n",
       "      <td>Andorra</td>\n",
       "      <td>Andorra La Vella</td>\n",
       "      <td>42.50</td>\n",
       "      <td>1.52</td>\n",
       "      <td>Europe/Andorra</td>\n",
       "      <td>1715849100</td>\n",
       "      <td>2024-05-16 10:45</td>\n",
       "      <td>6.3</td>\n",
       "      <td>43.3</td>\n",
       "      <td>Light drizzle</td>\n",
       "      <td>...</td>\n",
       "      <td>0.7</td>\n",
       "      <td>0.9</td>\n",
       "      <td>1</td>\n",
       "      <td>1</td>\n",
       "      <td>06:31 AM</td>\n",
       "      <td>09:11 PM</td>\n",
       "      <td>02:12 PM</td>\n",
       "      <td>03:31 AM</td>\n",
       "      <td>Waxing Gibbous</td>\n",
       "      <td>55</td>\n",
       "    </tr>\n",
       "    <tr>\n",
       "      <th>4</th>\n",
       "      <td>Angola</td>\n",
       "      <td>Luanda</td>\n",
       "      <td>-8.84</td>\n",
       "      <td>13.23</td>\n",
       "      <td>Africa/Luanda</td>\n",
       "      <td>1715849100</td>\n",
       "      <td>2024-05-16 09:45</td>\n",
       "      <td>26.0</td>\n",
       "      <td>78.8</td>\n",
       "      <td>Partly cloudy</td>\n",
       "      <td>...</td>\n",
       "      <td>183.4</td>\n",
       "      <td>262.3</td>\n",
       "      <td>5</td>\n",
       "      <td>10</td>\n",
       "      <td>06:12 AM</td>\n",
       "      <td>05:55 PM</td>\n",
       "      <td>01:17 PM</td>\n",
       "      <td>12:38 AM</td>\n",
       "      <td>Waxing Gibbous</td>\n",
       "      <td>55</td>\n",
       "    </tr>\n",
       "  </tbody>\n",
       "</table>\n",
       "<p>5 rows × 41 columns</p>\n",
       "</div>"
      ],
      "text/plain": [
       "       country     location_name  latitude  longitude        timezone  \\\n",
       "0  Afghanistan             Kabul     34.52      69.18      Asia/Kabul   \n",
       "1      Albania            Tirana     41.33      19.82   Europe/Tirane   \n",
       "2      Algeria           Algiers     36.76       3.05  Africa/Algiers   \n",
       "3      Andorra  Andorra La Vella     42.50       1.52  Europe/Andorra   \n",
       "4       Angola            Luanda     -8.84      13.23   Africa/Luanda   \n",
       "\n",
       "   last_updated_epoch      last_updated  temperature_celsius  \\\n",
       "0          1715849100  2024-05-16 13:15                 26.6   \n",
       "1          1715849100  2024-05-16 10:45                 19.0   \n",
       "2          1715849100  2024-05-16 09:45                 23.0   \n",
       "3          1715849100  2024-05-16 10:45                  6.3   \n",
       "4          1715849100  2024-05-16 09:45                 26.0   \n",
       "\n",
       "   temperature_fahrenheit condition_text  ...  air_quality_PM2.5  \\\n",
       "0                    79.8  Partly Cloudy  ...                8.4   \n",
       "1                    66.2  Partly cloudy  ...                1.1   \n",
       "2                    73.4          Sunny  ...               10.4   \n",
       "3                    43.3  Light drizzle  ...                0.7   \n",
       "4                    78.8  Partly cloudy  ...              183.4   \n",
       "\n",
       "   air_quality_PM10  air_quality_us-epa-index air_quality_gb-defra-index  \\\n",
       "0              26.6                         1                          1   \n",
       "1               2.0                         1                          1   \n",
       "2              18.4                         1                          1   \n",
       "3               0.9                         1                          1   \n",
       "4             262.3                         5                         10   \n",
       "\n",
       "    sunrise    sunset  moonrise   moonset      moon_phase  moon_illumination  \n",
       "0  04:50 AM  06:50 PM  12:12 PM  01:11 AM  Waxing Gibbous                 55  \n",
       "1  05:21 AM  07:54 PM  12:58 PM  02:14 AM  Waxing Gibbous                 55  \n",
       "2  05:40 AM  07:50 PM  01:15 PM  02:14 AM  Waxing Gibbous                 55  \n",
       "3  06:31 AM  09:11 PM  02:12 PM  03:31 AM  Waxing Gibbous                 55  \n",
       "4  06:12 AM  05:55 PM  01:17 PM  12:38 AM  Waxing Gibbous                 55  \n",
       "\n",
       "[5 rows x 41 columns]"
      ]
     },
     "execution_count": 6,
     "metadata": {},
     "output_type": "execute_result"
    }
   ],
   "source": [
    "file_path = r\"D:\\infosys project\\archive\\GlobalWeatherRepository.csv\"\n",
    "df = pd.read_csv(file_path)\n",
    "\n",
    "print(\"Dataset loaded. Shape:\", df.shape)\n",
    "df.head()\n"
   ]
  },
  {
   "cell_type": "markdown",
   "id": "ad54fc22",
   "metadata": {},
   "source": [
    "3. Inspect Dataset Structure"
   ]
  },
  {
   "cell_type": "code",
   "execution_count": 5,
   "id": "3000c7d3",
   "metadata": {},
   "outputs": [
    {
     "name": "stdout",
     "output_type": "stream",
     "text": [
      "\n",
      "--- Dataset Info ---\n",
      "<class 'pandas.core.frame.DataFrame'>\n",
      "RangeIndex: 88273 entries, 0 to 88272\n",
      "Data columns (total 41 columns):\n",
      " #   Column                        Non-Null Count  Dtype  \n",
      "---  ------                        --------------  -----  \n",
      " 0   country                       88273 non-null  object \n",
      " 1   location_name                 88273 non-null  object \n",
      " 2   latitude                      88273 non-null  float64\n",
      " 3   longitude                     88273 non-null  float64\n",
      " 4   timezone                      88273 non-null  object \n",
      " 5   last_updated_epoch            88273 non-null  int64  \n",
      " 6   last_updated                  88273 non-null  object \n",
      " 7   temperature_celsius           88273 non-null  float64\n",
      " 8   temperature_fahrenheit        88273 non-null  float64\n",
      " 9   condition_text                88273 non-null  object \n",
      " 10  wind_mph                      88273 non-null  float64\n",
      " 11  wind_kph                      88273 non-null  float64\n",
      " 12  wind_degree                   88273 non-null  int64  \n",
      " 13  wind_direction                88273 non-null  object \n",
      " 14  pressure_mb                   88273 non-null  float64\n",
      " 15  pressure_in                   88273 non-null  float64\n",
      " 16  precip_mm                     88273 non-null  float64\n",
      " 17  precip_in                     88273 non-null  float64\n",
      " 18  humidity                      88273 non-null  int64  \n",
      " 19  cloud                         88273 non-null  int64  \n",
      " 20  feels_like_celsius            88273 non-null  float64\n",
      " 21  feels_like_fahrenheit         88273 non-null  float64\n",
      " 22  visibility_km                 88273 non-null  float64\n",
      " 23  visibility_miles              88273 non-null  float64\n",
      " 24  uv_index                      88273 non-null  float64\n",
      " 25  gust_mph                      88273 non-null  float64\n",
      " 26  gust_kph                      88273 non-null  float64\n",
      " 27  air_quality_Carbon_Monoxide   88273 non-null  float64\n",
      " 28  air_quality_Ozone             88273 non-null  float64\n",
      " 29  air_quality_Nitrogen_dioxide  88273 non-null  float64\n",
      " 30  air_quality_Sulphur_dioxide   88273 non-null  float64\n",
      " 31  air_quality_PM2.5             88273 non-null  float64\n",
      " 32  air_quality_PM10              88273 non-null  float64\n",
      " 33  air_quality_us-epa-index      88273 non-null  int64  \n",
      " 34  air_quality_gb-defra-index    88273 non-null  int64  \n",
      " 35  sunrise                       88273 non-null  object \n",
      " 36  sunset                        88273 non-null  object \n",
      " 37  moonrise                      88273 non-null  object \n",
      " 38  moonset                       88273 non-null  object \n",
      " 39  moon_phase                    88273 non-null  object \n",
      " 40  moon_illumination             88273 non-null  int64  \n",
      "dtypes: float64(23), int64(7), object(11)\n",
      "memory usage: 27.6+ MB\n",
      "None\n"
     ]
    }
   ],
   "source": [
    "print(\"\\n--- Dataset Info ---\")\n",
    "print(df.info())"
   ]
  },
  {
   "cell_type": "code",
   "execution_count": 6,
   "id": "9d22dbf3",
   "metadata": {},
   "outputs": [
    {
     "name": "stdout",
     "output_type": "stream",
     "text": [
      "\n",
      "--- Descriptive Stats ---\n",
      "         country location_name      latitude     longitude      timezone  \\\n",
      "count      88273         88273  88273.000000  88273.000000         88273   \n",
      "unique       210           248           NaN           NaN           196   \n",
      "top     Bulgaria         Kabul           NaN           NaN  Asia/Bangkok   \n",
      "freq         940           454           NaN           NaN          1763   \n",
      "mean         NaN           NaN     19.125848     22.172647           NaN   \n",
      "std          NaN           NaN     24.470798     65.836668           NaN   \n",
      "min          NaN           NaN    -41.300000   -175.200000           NaN   \n",
      "25%          NaN           NaN      3.750000     -6.836100           NaN   \n",
      "50%          NaN           NaN     17.250000     23.316700           NaN   \n",
      "75%          NaN           NaN     40.400000     50.580000           NaN   \n",
      "max          NaN           NaN     64.150000    179.220000           NaN   \n",
      "\n",
      "        last_updated_epoch      last_updated  temperature_celsius  \\\n",
      "count         8.827300e+04             88273         88273.000000   \n",
      "unique                 NaN             14850                  NaN   \n",
      "top                    NaN  2025-02-19 11:15                  NaN   \n",
      "freq                   NaN                44                  NaN   \n",
      "mean          1.735507e+09               NaN            22.681788   \n",
      "std           1.135389e+07               NaN             9.091355   \n",
      "min           1.715849e+09               NaN           -24.900000   \n",
      "25%           1.725710e+09               NaN            18.000000   \n",
      "50%           1.735555e+09               NaN            25.000000   \n",
      "75%           1.745313e+09               NaN            28.400000   \n",
      "max           1.755074e+09               NaN            49.200000   \n",
      "\n",
      "        temperature_fahrenheit condition_text  ...  air_quality_PM2.5  \\\n",
      "count             88273.000000          88273  ...       88273.000000   \n",
      "unique                     NaN             47  ...                NaN   \n",
      "top                        NaN  Partly cloudy  ...                NaN   \n",
      "freq                       NaN          28100  ...                NaN   \n",
      "mean                 72.828923            NaN  ...          26.212169   \n",
      "std                  16.364215            NaN  ...          41.510377   \n",
      "min                 -12.800000            NaN  ...           0.168000   \n",
      "25%                  64.400000            NaN  ...           7.030000   \n",
      "50%                  77.000000            NaN  ...          14.985000   \n",
      "75%                  83.100000            NaN  ...          30.340000   \n",
      "max                 120.600000            NaN  ...        1614.100000   \n",
      "\n",
      "        air_quality_PM10  air_quality_us-epa-index air_quality_gb-defra-index  \\\n",
      "count       88273.000000              88273.000000               88273.000000   \n",
      "unique               NaN                       NaN                        NaN   \n",
      "top                  NaN                       NaN                        NaN   \n",
      "freq                 NaN                       NaN                        NaN   \n",
      "mean           54.275850                  1.760504                   2.770020   \n",
      "std           163.172827                  0.988090                   2.590155   \n",
      "min         -1848.150000                  1.000000                   1.000000   \n",
      "25%            10.490000                  1.000000                   1.000000   \n",
      "50%            22.015000                  1.000000                   2.000000   \n",
      "75%            46.990000                  2.000000                   3.000000   \n",
      "max          6037.290000                  6.000000                  10.000000   \n",
      "\n",
      "         sunrise    sunset     moonrise     moonset      moon_phase  \\\n",
      "count      88273     88273        88273       88273           88273   \n",
      "unique       458       544         1441        1441               8   \n",
      "top     06:17 AM  06:28 PM  No moonrise  No moonset  Waxing Gibbous   \n",
      "freq         910       856         2912        2912           20156   \n",
      "mean         NaN       NaN          NaN         NaN             NaN   \n",
      "std          NaN       NaN          NaN         NaN             NaN   \n",
      "min          NaN       NaN          NaN         NaN             NaN   \n",
      "25%          NaN       NaN          NaN         NaN             NaN   \n",
      "50%          NaN       NaN          NaN         NaN             NaN   \n",
      "75%          NaN       NaN          NaN         NaN             NaN   \n",
      "max          NaN       NaN          NaN         NaN             NaN   \n",
      "\n",
      "        moon_illumination  \n",
      "count        88273.000000  \n",
      "unique                NaN  \n",
      "top                   NaN  \n",
      "freq                  NaN  \n",
      "mean            50.746616  \n",
      "std             35.125443  \n",
      "min              0.000000  \n",
      "25%             16.000000  \n",
      "50%             52.000000  \n",
      "75%             86.000000  \n",
      "max            100.000000  \n",
      "\n",
      "[11 rows x 41 columns]\n"
     ]
    }
   ],
   "source": [
    "print(\"\\n--- Descriptive Stats ---\")\n",
    "print(df.describe(include=\"all\"))"
   ]
  },
  {
   "cell_type": "code",
   "execution_count": 7,
   "id": "f293ce12",
   "metadata": {},
   "outputs": [
    {
     "name": "stdout",
     "output_type": "stream",
     "text": [
      "\n",
      "Columns: ['country', 'location_name', 'latitude', 'longitude', 'timezone', 'last_updated_epoch', 'last_updated', 'temperature_celsius', 'temperature_fahrenheit', 'condition_text', 'wind_mph', 'wind_kph', 'wind_degree', 'wind_direction', 'pressure_mb', 'pressure_in', 'precip_mm', 'precip_in', 'humidity', 'cloud', 'feels_like_celsius', 'feels_like_fahrenheit', 'visibility_km', 'visibility_miles', 'uv_index', 'gust_mph', 'gust_kph', 'air_quality_Carbon_Monoxide', 'air_quality_Ozone', 'air_quality_Nitrogen_dioxide', 'air_quality_Sulphur_dioxide', 'air_quality_PM2.5', 'air_quality_PM10', 'air_quality_us-epa-index', 'air_quality_gb-defra-index', 'sunrise', 'sunset', 'moonrise', 'moonset', 'moon_phase', 'moon_illumination']\n"
     ]
    }
   ],
   "source": [
    "# Preview column names\n",
    "print(\"\\nColumns:\", df.columns.tolist())"
   ]
  },
  {
   "cell_type": "markdown",
   "id": "60c34f8d",
   "metadata": {},
   "source": [
    "4. Check Missing Values & Anomalies"
   ]
  },
  {
   "cell_type": "code",
   "execution_count": 8,
   "id": "95c9b48b",
   "metadata": {},
   "outputs": [
    {
     "name": "stdout",
     "output_type": "stream",
     "text": [
      "\n",
      "--- Missing Values ---\n",
      "country                         0\n",
      "location_name                   0\n",
      "latitude                        0\n",
      "longitude                       0\n",
      "timezone                        0\n",
      "last_updated_epoch              0\n",
      "last_updated                    0\n",
      "temperature_celsius             0\n",
      "temperature_fahrenheit          0\n",
      "condition_text                  0\n",
      "wind_mph                        0\n",
      "wind_kph                        0\n",
      "wind_degree                     0\n",
      "wind_direction                  0\n",
      "pressure_mb                     0\n",
      "pressure_in                     0\n",
      "precip_mm                       0\n",
      "precip_in                       0\n",
      "humidity                        0\n",
      "cloud                           0\n",
      "feels_like_celsius              0\n",
      "feels_like_fahrenheit           0\n",
      "visibility_km                   0\n",
      "visibility_miles                0\n",
      "uv_index                        0\n",
      "gust_mph                        0\n",
      "gust_kph                        0\n",
      "air_quality_Carbon_Monoxide     0\n",
      "air_quality_Ozone               0\n",
      "air_quality_Nitrogen_dioxide    0\n",
      "air_quality_Sulphur_dioxide     0\n",
      "air_quality_PM2.5               0\n",
      "air_quality_PM10                0\n",
      "air_quality_us-epa-index        0\n",
      "air_quality_gb-defra-index      0\n",
      "sunrise                         0\n",
      "sunset                          0\n",
      "moonrise                        0\n",
      "moonset                         0\n",
      "moon_phase                      0\n",
      "moon_illumination               0\n",
      "dtype: int64\n"
     ]
    }
   ],
   "source": [
    "print(\"\\n--- Missing Values ---\")\n",
    "print(df.isnull().sum())"
   ]
  },
  {
   "cell_type": "code",
   "execution_count": 9,
   "id": "24c57b06",
   "metadata": {},
   "outputs": [
    {
     "name": "stdout",
     "output_type": "stream",
     "text": [
      "📊 Dataset Overview:\n"
     ]
    },
    {
     "data": {
      "text/html": [
       "<div>\n",
       "<style scoped>\n",
       "    .dataframe tbody tr th:only-of-type {\n",
       "        vertical-align: middle;\n",
       "    }\n",
       "\n",
       "    .dataframe tbody tr th {\n",
       "        vertical-align: top;\n",
       "    }\n",
       "\n",
       "    .dataframe thead th {\n",
       "        text-align: right;\n",
       "    }\n",
       "</style>\n",
       "<table border=\"1\" class=\"dataframe\">\n",
       "  <thead>\n",
       "    <tr style=\"text-align: right;\">\n",
       "      <th></th>\n",
       "      <th>Data Type</th>\n",
       "      <th>Unique Values</th>\n",
       "      <th>Min</th>\n",
       "      <th>Max</th>\n",
       "      <th>Mean</th>\n",
       "      <th>Median</th>\n",
       "    </tr>\n",
       "  </thead>\n",
       "  <tbody>\n",
       "    <tr>\n",
       "      <th>air_quality_Carbon_Monoxide</th>\n",
       "      <td>float64</td>\n",
       "      <td>3786</td>\n",
       "      <td>-9999.000</td>\n",
       "      <td>38879.398</td>\n",
       "      <td>517.197758</td>\n",
       "      <td>327.100</td>\n",
       "    </tr>\n",
       "    <tr>\n",
       "      <th>air_quality_Nitrogen_dioxide</th>\n",
       "      <td>float64</td>\n",
       "      <td>1709</td>\n",
       "      <td>0.000</td>\n",
       "      <td>427.700</td>\n",
       "      <td>15.485259</td>\n",
       "      <td>4.440</td>\n",
       "    </tr>\n",
       "    <tr>\n",
       "      <th>air_quality_Ozone</th>\n",
       "      <td>float64</td>\n",
       "      <td>635</td>\n",
       "      <td>0.000</td>\n",
       "      <td>480.700</td>\n",
       "      <td>63.691560</td>\n",
       "      <td>61.000</td>\n",
       "    </tr>\n",
       "    <tr>\n",
       "      <th>air_quality_PM10</th>\n",
       "      <td>float64</td>\n",
       "      <td>5263</td>\n",
       "      <td>-1848.150</td>\n",
       "      <td>6037.290</td>\n",
       "      <td>54.275850</td>\n",
       "      <td>22.015</td>\n",
       "    </tr>\n",
       "    <tr>\n",
       "      <th>air_quality_PM2.5</th>\n",
       "      <td>float64</td>\n",
       "      <td>3584</td>\n",
       "      <td>0.168</td>\n",
       "      <td>1614.100</td>\n",
       "      <td>26.212169</td>\n",
       "      <td>14.985</td>\n",
       "    </tr>\n",
       "    <tr>\n",
       "      <th>air_quality_Sulphur_dioxide</th>\n",
       "      <td>float64</td>\n",
       "      <td>1724</td>\n",
       "      <td>-9999.000</td>\n",
       "      <td>521.330</td>\n",
       "      <td>11.320585</td>\n",
       "      <td>2.405</td>\n",
       "    </tr>\n",
       "    <tr>\n",
       "      <th>air_quality_gb-defra-index</th>\n",
       "      <td>int64</td>\n",
       "      <td>10</td>\n",
       "      <td>1.000</td>\n",
       "      <td>10.000</td>\n",
       "      <td>2.770020</td>\n",
       "      <td>2.000</td>\n",
       "    </tr>\n",
       "    <tr>\n",
       "      <th>air_quality_us-epa-index</th>\n",
       "      <td>int64</td>\n",
       "      <td>6</td>\n",
       "      <td>1.000</td>\n",
       "      <td>6.000</td>\n",
       "      <td>1.760504</td>\n",
       "      <td>1.000</td>\n",
       "    </tr>\n",
       "    <tr>\n",
       "      <th>cloud</th>\n",
       "      <td>int64</td>\n",
       "      <td>101</td>\n",
       "      <td>0.000</td>\n",
       "      <td>100.000</td>\n",
       "      <td>39.467595</td>\n",
       "      <td>27.000</td>\n",
       "    </tr>\n",
       "    <tr>\n",
       "      <th>condition_text</th>\n",
       "      <td>object</td>\n",
       "      <td>47</td>\n",
       "      <td>NaN</td>\n",
       "      <td>NaN</td>\n",
       "      <td>NaN</td>\n",
       "      <td>NaN</td>\n",
       "    </tr>\n",
       "    <tr>\n",
       "      <th>country</th>\n",
       "      <td>object</td>\n",
       "      <td>210</td>\n",
       "      <td>NaN</td>\n",
       "      <td>NaN</td>\n",
       "      <td>NaN</td>\n",
       "      <td>NaN</td>\n",
       "    </tr>\n",
       "    <tr>\n",
       "      <th>feels_like_celsius</th>\n",
       "      <td>float64</td>\n",
       "      <td>767</td>\n",
       "      <td>-35.600</td>\n",
       "      <td>51.200</td>\n",
       "      <td>23.689406</td>\n",
       "      <td>26.000</td>\n",
       "    </tr>\n",
       "    <tr>\n",
       "      <th>feels_like_fahrenheit</th>\n",
       "      <td>float64</td>\n",
       "      <td>1300</td>\n",
       "      <td>-32.100</td>\n",
       "      <td>124.200</td>\n",
       "      <td>74.634577</td>\n",
       "      <td>78.700</td>\n",
       "    </tr>\n",
       "    <tr>\n",
       "      <th>gust_kph</th>\n",
       "      <td>float64</td>\n",
       "      <td>752</td>\n",
       "      <td>3.600</td>\n",
       "      <td>2970.400</td>\n",
       "      <td>18.752776</td>\n",
       "      <td>16.200</td>\n",
       "    </tr>\n",
       "    <tr>\n",
       "      <th>gust_mph</th>\n",
       "      <td>float64</td>\n",
       "      <td>498</td>\n",
       "      <td>2.200</td>\n",
       "      <td>1845.700</td>\n",
       "      <td>11.651214</td>\n",
       "      <td>10.000</td>\n",
       "    </tr>\n",
       "  </tbody>\n",
       "</table>\n",
       "</div>"
      ],
      "text/plain": [
       "                             Data Type  Unique Values       Min        Max  \\\n",
       "air_quality_Carbon_Monoxide    float64           3786 -9999.000  38879.398   \n",
       "air_quality_Nitrogen_dioxide   float64           1709     0.000    427.700   \n",
       "air_quality_Ozone              float64            635     0.000    480.700   \n",
       "air_quality_PM10               float64           5263 -1848.150   6037.290   \n",
       "air_quality_PM2.5              float64           3584     0.168   1614.100   \n",
       "air_quality_Sulphur_dioxide    float64           1724 -9999.000    521.330   \n",
       "air_quality_gb-defra-index       int64             10     1.000     10.000   \n",
       "air_quality_us-epa-index         int64              6     1.000      6.000   \n",
       "cloud                            int64            101     0.000    100.000   \n",
       "condition_text                  object             47       NaN        NaN   \n",
       "country                         object            210       NaN        NaN   \n",
       "feels_like_celsius             float64            767   -35.600     51.200   \n",
       "feels_like_fahrenheit          float64           1300   -32.100    124.200   \n",
       "gust_kph                       float64            752     3.600   2970.400   \n",
       "gust_mph                       float64            498     2.200   1845.700   \n",
       "\n",
       "                                    Mean   Median  \n",
       "air_quality_Carbon_Monoxide   517.197758  327.100  \n",
       "air_quality_Nitrogen_dioxide   15.485259    4.440  \n",
       "air_quality_Ozone              63.691560   61.000  \n",
       "air_quality_PM10               54.275850   22.015  \n",
       "air_quality_PM2.5              26.212169   14.985  \n",
       "air_quality_Sulphur_dioxide    11.320585    2.405  \n",
       "air_quality_gb-defra-index      2.770020    2.000  \n",
       "air_quality_us-epa-index        1.760504    1.000  \n",
       "cloud                          39.467595   27.000  \n",
       "condition_text                       NaN      NaN  \n",
       "country                              NaN      NaN  \n",
       "feels_like_celsius             23.689406   26.000  \n",
       "feels_like_fahrenheit          74.634577   78.700  \n",
       "gust_kph                       18.752776   16.200  \n",
       "gust_mph                       11.651214   10.000  "
      ]
     },
     "metadata": {},
     "output_type": "display_data"
    }
   ],
   "source": [
    "# Basic Dataset Summary\n",
    "summary = pd.DataFrame({\n",
    "    \"Data Type\": df.dtypes,\n",
    "    \"Unique Values\": df.nunique(),\n",
    "    \"Min\": df.min(numeric_only=True),\n",
    "    \"Max\": df.max(numeric_only=True),\n",
    "    \"Mean\": df.mean(numeric_only=True),\n",
    "    \"Median\": df.median(numeric_only=True)\n",
    "})\n",
    "\n",
    "print(\"📊 Dataset Overview:\")\n",
    "display(summary.head(15))  # show first 15 columns\n"
   ]
  },
  {
   "cell_type": "code",
   "execution_count": 15,
   "id": "6eb9dbdf",
   "metadata": {},
   "outputs": [
    {
     "name": "stdout",
     "output_type": "stream",
     "text": [
      "['country', 'location_name', 'latitude', 'longitude', 'timezone', 'last_updated_epoch', 'last_updated', 'temperature_celsius', 'temperature_fahrenheit', 'condition_text', 'wind_mph', 'wind_kph', 'wind_degree', 'wind_direction', 'pressure_mb', 'pressure_in', 'precip_mm', 'precip_in', 'humidity', 'cloud', 'feels_like_celsius', 'feels_like_fahrenheit', 'visibility_km', 'visibility_miles', 'uv_index', 'gust_mph', 'gust_kph', 'air_quality_Carbon_Monoxide', 'air_quality_Ozone', 'air_quality_Nitrogen_dioxide', 'air_quality_Sulphur_dioxide', 'air_quality_PM2.5', 'air_quality_PM10', 'air_quality_us-epa-index', 'air_quality_gb-defra-index', 'sunrise', 'sunset', 'moonrise', 'moonset', 'moon_phase', 'moon_illumination']\n"
     ]
    }
   ],
   "source": [
    "print(df.columns.tolist())\n"
   ]
  },
  {
   "cell_type": "code",
   "execution_count": 22,
   "id": "0093b349",
   "metadata": {},
   "outputs": [
    {
     "data": {
      "image/png": "[encoded data removed]",
      "text/plain": [
       "<Figure size 800x500 with 1 Axes>"
      ]
     },
     "metadata": {},
     "output_type": "display_data"
    }
   ],
   "source": [
    "plt.figure(figsize=(8,5))\n",
    "sns.histplot(df[\"temperature_celsius\"], bins=30, kde=True, color=\"skyblue\")\n",
    "plt.title(\"Temperature Distribution\")\n",
    "plt.xlabel(\"Temperature (°C)\")\n",
    "plt.ylabel(\"Frequency\")\n",
    "plt.show()\n"
   ]
  },
  {
   "cell_type": "code",
   "execution_count": 16,
   "id": "f795256e",
   "metadata": {},
   "outputs": [
    {
     "name": "stderr",
     "output_type": "stream",
     "text": [
      "C:\\Users\\sanke\\AppData\\Local\\Temp\\ipykernel_9264\\3421794479.py:6: FutureWarning: \n",
      "\n",
      "Passing `palette` without assigning `hue` is deprecated and will be removed in v0.14.0. Assign the `x` variable to `hue` and set `legend=False` for the same effect.\n",
      "\n",
      "  sns.barplot(x=top_countries.index, y=top_countries.values, palette=\"coolwarm\")\n"
     ]
    },
    {
     "data": {
      "image/png": "[encoded data removed]",
      "text/plain": [
       "<Figure size 1200x600 with 1 Axes>"
      ]
     },
     "metadata": {},
     "output_type": "display_data"
    }
   ],
   "source": [
    "plt.figure(figsize=(12,6))\n",
    "\n",
    "# Replace with the correct column name\n",
    "top_countries = df.groupby(\"country\")[\"temperature_celsius\"].mean().sort_values(ascending=False).head(10)\n",
    "\n",
    "sns.barplot(x=top_countries.index, y=top_countries.values, palette=\"coolwarm\")\n",
    "plt.title(\"Top 10 Countries by Average Temperature\")\n",
    "plt.ylabel(\"Avg Temperature (°C)\")\n",
    "plt.xticks(rotation=45)\n",
    "plt.show()\n"
   ]
  },
  {
   "cell_type": "code",
   "execution_count": 24,
   "id": "968de10e",
   "metadata": {},
   "outputs": [
    {
     "data": {
      "image/png": "[encoded data removed]",
      "text/plain": [
       "<Figure size 1200x600 with 1 Axes>"
      ]
     },
     "metadata": {},
     "output_type": "display_data"
    }
   ],
   "source": [
    "# Convert date column\n",
    "df[\"last_updated\"] = pd.to_datetime(df[\"last_updated\"], errors=\"coerce\")\n",
    "\n",
    "plt.figure(figsize=(12,6))\n",
    "sns.lineplot(x=\"last_updated\", y=\"temperature_celsius\", data=df.sample(500), hue=\"country\", legend=False)\n",
    "plt.title(\"Temperature Trends (Sample of 500 Records)\")\n",
    "plt.xlabel(\"Date\")\n",
    "plt.ylabel(\"Temperature (°C)\")\n",
    "plt.show()\n"
   ]
  },
  {
   "cell_type": "markdown",
   "id": "cd683d16",
   "metadata": {},
   "source": [
    "5. Handle Missing/Inconsistent Data"
   ]
  },
  {
   "cell_type": "code",
   "execution_count": 25,
   "id": "5bea6396",
   "metadata": {},
   "outputs": [
    {
     "name": "stdout",
     "output_type": "stream",
     "text": [
      "After cleaning, shape: (88273, 41)\n"
     ]
    }
   ],
   "source": [
    "# Interpolate missing values in temperature_celsius\n",
    "if \"temperature_celsius\" in df.columns:\n",
    "    df[\"temperature_celsius\"] = df[\"temperature_celsius\"].interpolate()\n",
    "\n",
    "# Drop rows with missing critical fields (last_updated, country)\n",
    "critical_cols = [col for col in [\"last_updated\", \"country\"] if col in df.columns]\n",
    "df = df.dropna(subset=critical_cols)\n",
    "\n",
    "print(\"After cleaning, shape:\", df.shape)\n"
   ]
  },
  {
   "cell_type": "markdown",
   "id": "57ab0e36",
   "metadata": {},
   "source": [
    "6. Convert Units & Normalize"
   ]
  },
  {
   "cell_type": "code",
   "execution_count": 14,
   "id": "940b68c4",
   "metadata": {},
   "outputs": [],
   "source": [
    "# Assume temperature is in Kelvin, convert to Celsius\n",
    "if \"temperature\" in df.columns and df['temperature'].max() > 200:\n",
    "    df['temperature'] = df['temperature'] - 273.15"
   ]
  },
  {
   "cell_type": "code",
   "execution_count": 26,
   "id": "5b322107",
   "metadata": {},
   "outputs": [
    {
     "name": "stdout",
     "output_type": "stream",
     "text": [
      "Normalized columns: ['temperature_celsius', 'humidity', 'precip_mm', 'wind_kph']\n"
     ]
    }
   ],
   "source": [
    "from sklearn.preprocessing import MinMaxScaler\n",
    "\n",
    "# Select numeric columns that exist in your dataset\n",
    "num_cols = [col for col in [\"temperature_celsius\", \"humidity\", \"precip_mm\", \"wind_kph\"] if col in df.columns]\n",
    "\n",
    "scaler = MinMaxScaler()\n",
    "df[num_cols] = scaler.fit_transform(df[num_cols])\n",
    "\n",
    "print(\"Normalized columns:\", num_cols)\n"
   ]
  },
  {
   "cell_type": "markdown",
   "id": "9dcdf459",
   "metadata": {},
   "source": [
    "7. Aggregation (Daily -> Monthly)"
   ]
  },
  {
   "cell_type": "code",
   "execution_count": 39,
   "id": "52c4e224",
   "metadata": {},
   "outputs": [
    {
     "name": "stdout",
     "output_type": "stream",
     "text": [
      "\n",
      "--- Monthly Aggregated Data ---\n",
      "  year_month      country  latitude  longitude  last_updated_epoch  \\\n",
      "0 2024-05-01  Afghanistan     34.52      69.18        1.716478e+09   \n",
      "1 2024-05-01      Albania     41.33      19.82        1.716478e+09   \n",
      "2 2024-05-01      Algeria     36.76       3.05        1.716478e+09   \n",
      "3 2024-05-01      Andorra     42.50       1.52        1.716478e+09   \n",
      "4 2024-05-01       Angola     -8.84      13.23        1.716478e+09   \n",
      "\n",
      "   temperature_celsius  temperature_fahrenheit   wind_mph  wind_kph  \\\n",
      "0             0.610066               68.523529   7.164706  0.002675   \n",
      "1             0.682147               78.164706   8.141176  0.003202   \n",
      "2             0.688497               79.011765  14.041176  0.006426   \n",
      "3             0.503691               54.335294   6.147059  0.002121   \n",
      "4             0.728586               84.364706  12.182353  0.005404   \n",
      "\n",
      "   wind_degree  ...   gust_kph  air_quality_Carbon_Monoxide  \\\n",
      "0   127.941176  ...  16.141176                  1424.094118   \n",
      "1   287.647059  ...  18.752941                   198.223529   \n",
      "2   182.352941  ...  28.741176                   233.758824   \n",
      "3   238.235294  ...  12.617647                   151.570588   \n",
      "4   266.294118  ...  28.670588                   730.600000   \n",
      "\n",
      "   air_quality_Ozone  air_quality_Nitrogen_dioxide  \\\n",
      "0          77.452941                     16.400000   \n",
      "1          87.723529                      3.511765   \n",
      "2         113.935294                     10.952941   \n",
      "3          68.900000                      0.741176   \n",
      "4         105.900000                     11.517647   \n",
      "\n",
      "   air_quality_Sulphur_dioxide  air_quality_PM2.5  air_quality_PM10  \\\n",
      "0                     0.588235           7.894118         17.411765   \n",
      "1                     0.447059          10.270588         24.552941   \n",
      "2                     3.382353           8.682353         18.005882   \n",
      "3                     0.141176           0.929412          1.211765   \n",
      "4                     5.976471          45.241176         92.688235   \n",
      "\n",
      "   air_quality_us-epa-index  air_quality_gb-defra-index  moon_illumination  \n",
      "0                  1.000000                    1.117647          78.647059  \n",
      "1                  1.352941                    1.588235          78.647059  \n",
      "2                  1.117647                    1.117647          78.647059  \n",
      "3                  1.000000                    1.000000          78.647059  \n",
      "4                  2.529412                    4.352941          78.647059  \n",
      "\n",
      "[5 rows x 32 columns]\n"
     ]
    }
   ],
   "source": [
    "# Ensure last_updated is datetime\n",
    "df[\"last_updated\"] = pd.to_datetime(df[\"last_updated\"], errors=\"coerce\")\n",
    "\n",
    "# Create a proper Year-Month datetime column (first day of month)\n",
    "df[\"year_month\"] = df[\"last_updated\"].dt.to_period(\"M\").dt.to_timestamp()\n",
    "\n",
    "# Aggregate by Year-Month and Country\n",
    "monthly_df = (\n",
    "    df.groupby([\"year_month\", \"country\"])\n",
    "    .mean(numeric_only=True)   # keep only numeric values\n",
    "    .reset_index()\n",
    ")\n",
    "\n",
    "print(\"\\n--- Monthly Aggregated Data ---\")\n",
    "print(monthly_df.head())\n"
   ]
  },
  {
   "cell_type": "markdown",
   "id": "c4ff1a7c",
   "metadata": {},
   "source": [
    "8. Save Cleaned Dataset"
   ]
  },
  {
   "cell_type": "code",
   "execution_count": 28,
   "id": "f88275a1",
   "metadata": {},
   "outputs": [
    {
     "name": "stdout",
     "output_type": "stream",
     "text": [
      "\n",
      "✅ Cleaned dataset saved as CSV & Parquet\n"
     ]
    }
   ],
   "source": [
    "monthly_df.to_csv(\"cleaned_weather.csv\", index=False)\n",
    "monthly_df.to_parquet(\"cleaned_weather.parquet\")\n",
    "\n",
    "print(\"\\n✅ Cleaned dataset saved as CSV & Parquet\")\n"
   ]
  },
  {
   "cell_type": "markdown",
   "id": "948b5357",
   "metadata": {},
   "source": [
    "9. Initial Visualizations"
   ]
  },
  {
   "cell_type": "code",
   "execution_count": 30,
   "id": "b2d67dca",
   "metadata": {},
   "outputs": [
    {
     "data": {
      "application/vnd.plotly.v1+json": {
       "config": {
        "plotlyServerURL": "https://plot.ly"
       },
       "data": [
        {
         "hovertemplate": "country=Afghanistan<br>year_month=%{x}<br>temperature_celsius=%{y}<extra></extra>",
         "legendgroup": "Afghanistan",
         "line": {
          "color": "#636efa",
          "dash": "solid"
         },
         "marker": {
          "symbol": "circle"
         },
         "mode": "lines",
         "name": "Afghanistan",
         "orientation": "v",
         "showlegend": true,
         "type": "scatter",
         "x": [
          "2024-05-01T00:00:00.000000000",
          "2024-06-01T00:00:00.000000000",
          "2024-07-01T00:00:00.000000000"
         ],
         "xaxis": "x",
         "y": {
          "bdata": "iGUM5qiF4z/eXMAg1s3lP7k98x56Reg/",
          "dtype": "f8"
         },
         "yaxis": "y"
        },
        {
         "hovertemplate": "country=Albania<br>year_month=%{x}<br>temperature_celsius=%{y}<extra></extra>",
         "legendgroup": "Albania",
         "line": {
          "color": "#EF553B",
          "dash": "solid"
         },
         "marker": {
          "symbol": "circle"
         },
         "mode": "lines",
         "name": "Albania",
         "orientation": "v",
         "showlegend": true,
         "type": "scatter",
         "x": [
          "2024-05-01T00:00:00.000000000",
          "2024-06-01T00:00:00.000000000",
          "2024-07-01T00:00:00.000000000"
         ],
         "xaxis": "x",
         "y": {
          "bdata": "rMaQ/CTU5T8qgUgcnBLoP46SEnkdtuk/",
          "dtype": "f8"
         },
         "yaxis": "y"
        },
        {
         "hovertemplate": "country=Algeria<br>year_month=%{x}<br>temperature_celsius=%{y}<extra></extra>",
         "legendgroup": "Algeria",
         "line": {
          "color": "#00cc96",
          "dash": "solid"
         },
         "marker": {
          "symbol": "circle"
         },
         "mode": "lines",
         "name": "Algeria",
         "orientation": "v",
         "showlegend": true,
         "type": "scatter",
         "x": [
          "2024-05-01T00:00:00.000000000",
          "2024-06-01T00:00:00.000000000",
          "2024-07-01T00:00:00.000000000"
         ],
         "xaxis": "x",
         "y": {
          "bdata": "CuiOaCsI5j/CbCrqG8zmP2L9Js4l1uc/",
          "dtype": "f8"
         },
         "yaxis": "y"
        },
        {
         "hovertemplate": "country=Andorra<br>year_month=%{x}<br>temperature_celsius=%{y}<extra></extra>",
         "legendgroup": "Andorra",
         "line": {
          "color": "#ab63fa",
          "dash": "solid"
         },
         "marker": {
          "symbol": "circle"
         },
         "mode": "lines",
         "name": "Andorra",
         "orientation": "v",
         "showlegend": true,
         "type": "scatter",
         "x": [
          "2024-05-01T00:00:00.000000000",
          "2024-06-01T00:00:00.000000000",
          "2024-07-01T00:00:00.000000000"
         ],
         "xaxis": "x",
         "y": {
          "bdata": "mLYrVT0e4D+xJBW+CUviPxZ+KEkzH+U/",
          "dtype": "f8"
         },
         "yaxis": "y"
        },
        {
         "hovertemplate": "country=Angola<br>year_month=%{x}<br>temperature_celsius=%{y}<extra></extra>",
         "legendgroup": "Angola",
         "line": {
          "color": "#FFA15A",
          "dash": "solid"
         },
         "marker": {
          "symbol": "circle"
         },
         "mode": "lines",
         "name": "Angola",
         "orientation": "v",
         "showlegend": true,
         "type": "scatter",
         "x": [
          "2024-05-01T00:00:00.000000000",
          "2024-06-01T00:00:00.000000000",
          "2024-07-01T00:00:00.000000000"
         ],
         "xaxis": "x",
         "y": {
          "bdata": "rxpD8pNQ5z+AY2C19zfmP4NDrTCqUuU/",
          "dtype": "f8"
         },
         "yaxis": "y"
        },
        {
         "hovertemplate": "country=Antigua and Barbuda<br>year_month=%{x}<br>temperature_celsius=%{y}<extra></extra>",
         "legendgroup": "Antigua and Barbuda",
         "line": {
          "color": "#19d3f3",
          "dash": "solid"
         },
         "marker": {
          "symbol": "circle"
         },
         "mode": "lines",
         "name": "Antigua and Barbuda",
         "orientation": "v",
         "showlegend": true,
         "type": "scatter",
         "x": [
          "2024-05-01T00:00:00.000000000",
          "2024-06-01T00:00:00.000000000",
          "2024-07-01T00:00:00.000000000"
         ],
         "xaxis": "x",
         "y": {
          "bdata": "oNGBXFh05z/fRYf1Xq3nPy/yB7XkIuc/",
          "dtype": "f8"
         },
         "yaxis": "y"
        },
        {
         "hovertemplate": "country=Argentina<br>year_month=%{x}<br>temperature_celsius=%{y}<extra></extra>",
         "legendgroup": "Argentina",
         "line": {
          "color": "#FF6692",
          "dash": "solid"
         },
         "marker": {
          "symbol": "circle"
         },
         "mode": "lines",
         "name": "Argentina",
         "orientation": "v",
         "showlegend": true,
         "type": "scatter",
         "x": [
          "2024-05-01T00:00:00.000000000",
          "2024-06-01T00:00:00.000000000",
          "2024-07-01T00:00:00.000000000"
         ],
         "xaxis": "x",
         "y": {
          "bdata": "ehGUosA13z+tCRROxprgPwW2iDpKYNs/",
          "dtype": "f8"
         },
         "yaxis": "y"
        },
        {
         "hovertemplate": "country=Armenia<br>year_month=%{x}<br>temperature_celsius=%{y}<extra></extra>",
         "legendgroup": "Armenia",
         "line": {
          "color": "#B6E880",
          "dash": "solid"
         },
         "marker": {
          "symbol": "circle"
         },
         "mode": "lines",
         "name": "Armenia",
         "orientation": "v",
         "showlegend": true,
         "type": "scatter",
         "x": [
          "2024-05-01T00:00:00.000000000",
          "2024-06-01T00:00:00.000000000",
          "2024-07-01T00:00:00.000000000"
         ],
         "xaxis": "x",
         "y": {
          "bdata": "df6bdP6b5D9ehOc01UXoP6HXDGragug/",
          "dtype": "f8"
         },
         "yaxis": "y"
        },
        {
         "hovertemplate": "country=Australia<br>year_month=%{x}<br>temperature_celsius=%{y}<extra></extra>",
         "legendgroup": "Australia",
         "line": {
          "color": "#FF97FF",
          "dash": "solid"
         },
         "marker": {
          "symbol": "circle"
         },
         "mode": "lines",
         "name": "Australia",
         "orientation": "v",
         "showlegend": true,
         "type": "scatter",
         "x": [
          "2024-05-01T00:00:00.000000000",
          "2024-06-01T00:00:00.000000000",
          "2024-07-01T00:00:00.000000000"
         ],
         "xaxis": "x",
         "y": {
          "bdata": "iY29DoDY2D8S71z3JPHYP7UHCaovT9k/",
          "dtype": "f8"
         },
         "yaxis": "y"
        },
        {
         "hovertemplate": "country=Austria<br>year_month=%{x}<br>temperature_celsius=%{y}<extra></extra>",
         "legendgroup": "Austria",
         "line": {
          "color": "#FECB52",
          "dash": "solid"
         },
         "marker": {
          "symbol": "circle"
         },
         "mode": "lines",
         "name": "Austria",
         "orientation": "v",
         "showlegend": true,
         "type": "scatter",
         "x": [
          "2024-05-01T00:00:00.000000000",
          "2024-06-01T00:00:00.000000000",
          "2024-07-01T00:00:00.000000000"
         ],
         "xaxis": "x",
         "y": {
          "bdata": "IKQkwWCr4z9aWAy4m4XlP9nwUIiSDec/",
          "dtype": "f8"
         },
         "yaxis": "y"
        },
        {
         "hovertemplate": "country=Azerbaijan<br>year_month=%{x}<br>temperature_celsius=%{y}<extra></extra>",
         "legendgroup": "Azerbaijan",
         "line": {
          "color": "#636efa",
          "dash": "solid"
         },
         "marker": {
          "symbol": "circle"
         },
         "mode": "lines",
         "name": "Azerbaijan",
         "orientation": "v",
         "showlegend": true,
         "type": "scatter",
         "x": [
          "2024-05-01T00:00:00.000000000",
          "2024-06-01T00:00:00.000000000",
          "2024-07-01T00:00:00.000000000"
         ],
         "xaxis": "x",
         "y": {
          "bdata": "z7Qj92PF4z/RclUGBy3nP8t+PTan7Oc/",
          "dtype": "f8"
         },
         "yaxis": "y"
        },
        {
         "hovertemplate": "country=Bahamas<br>year_month=%{x}<br>temperature_celsius=%{y}<extra></extra>",
         "legendgroup": "Bahamas",
         "line": {
          "color": "#EF553B",
          "dash": "solid"
         },
         "marker": {
          "symbol": "circle"
         },
         "mode": "lines",
         "name": "Bahamas",
         "orientation": "v",
         "showlegend": true,
         "type": "scatter",
         "x": [
          "2024-05-01T00:00:00.000000000",
          "2024-06-01T00:00:00.000000000",
          "2024-07-01T00:00:00.000000000"
         ],
         "xaxis": "x",
         "y": {
          "bdata": "vmMEiM8s5z+elJU04hTnP250A77SRuc/",
          "dtype": "f8"
         },
         "yaxis": "y"
        },
        {
         "hovertemplate": "country=Bahrain<br>year_month=%{x}<br>temperature_celsius=%{y}<extra></extra>",
         "legendgroup": "Bahrain",
         "line": {
          "color": "#00cc96",
          "dash": "solid"
         },
         "marker": {
          "symbol": "circle"
         },
         "mode": "lines",
         "name": "Bahrain",
         "orientation": "v",
         "showlegend": true,
         "type": "scatter",
         "x": [
          "2024-05-01T00:00:00.000000000",
          "2024-06-01T00:00:00.000000000",
          "2024-07-01T00:00:00.000000000"
         ],
         "xaxis": "x",
         "y": {
          "bdata": "LPTtlxyd6T+WqzI4aLnqP7eFqJ6aHes/",
          "dtype": "f8"
         },
         "yaxis": "y"
        },
        {
         "hovertemplate": "country=Bangladesh<br>year_month=%{x}<br>temperature_celsius=%{y}<extra></extra>",
         "legendgroup": "Bangladesh",
         "line": {
          "color": "#ab63fa",
          "dash": "solid"
         },
         "marker": {
          "symbol": "circle"
         },
         "mode": "lines",
         "name": "Bangladesh",
         "orientation": "v",
         "showlegend": true,
         "type": "scatter",
         "x": [
          "2024-05-01T00:00:00.000000000",
          "2024-06-01T00:00:00.000000000",
          "2024-07-01T00:00:00.000000000"
         ],
         "xaxis": "x",
         "y": {
          "bdata": "nLPSgOlm6D8rfBOWpMLnP598oWjoyec/",
          "dtype": "f8"
         },
         "yaxis": "y"
        },
        {
         "hovertemplate": "country=Barbados<br>year_month=%{x}<br>temperature_celsius=%{y}<extra></extra>",
         "legendgroup": "Barbados",
         "line": {
          "color": "#FFA15A",
          "dash": "solid"
         },
         "marker": {
          "symbol": "circle"
         },
         "mode": "lines",
         "name": "Barbados",
         "orientation": "v",
         "showlegend": true,
         "type": "scatter",
         "x": [
          "2024-05-01T00:00:00.000000000",
          "2024-06-01T00:00:00.000000000",
          "2024-07-01T00:00:00.000000000"
         ],
         "xaxis": "x",
         "y": {
          "bdata": "JB4BxdqH5z82d1i9aXPnP5U9v/u0KOc/",
          "dtype": "f8"
         },
         "yaxis": "y"
        },
        {
         "hovertemplate": "country=Belarus<br>year_month=%{x}<br>temperature_celsius=%{y}<extra></extra>",
         "legendgroup": "Belarus",
         "line": {
          "color": "#19d3f3",
          "dash": "solid"
         },
         "marker": {
          "symbol": "circle"
         },
         "mode": "lines",
         "name": "Belarus",
         "orientation": "v",
         "showlegend": true,
         "type": "scatter",
         "x": [
          "2024-05-01T00:00:00.000000000",
          "2024-06-01T00:00:00.000000000",
          "2024-07-01T00:00:00.000000000"
         ],
         "xaxis": "x",
         "y": {
          "bdata": "bmWdo/l05D8fRZXN5lHkPybh/dF1PuU/",
          "dtype": "f8"
         },
         "yaxis": "y"
        },
        {
         "hovertemplate": "country=Belgium<br>year_month=%{x}<br>temperature_celsius=%{y}<extra></extra>",
         "legendgroup": "Belgium",
         "line": {
          "color": "#FF6692",
          "dash": "solid"
         },
         "marker": {
          "symbol": "circle"
         },
         "mode": "lines",
         "name": "Belgium",
         "orientation": "v",
         "showlegend": true,
         "type": "scatter",
         "x": [
          "2024-05-01T00:00:00.000000000",
          "2024-06-01T00:00:00.000000000",
          "2024-07-01T00:00:00.000000000"
         ],
         "xaxis": "x",
         "y": {
          "bdata": "du81WiXK4T/eT9DS4MjiPzom4QnKEuQ/",
          "dtype": "f8"
         },
         "yaxis": "y"
        },
        {
         "hovertemplate": "country=Belize<br>year_month=%{x}<br>temperature_celsius=%{y}<extra></extra>",
         "legendgroup": "Belize",
         "line": {
          "color": "#B6E880",
          "dash": "solid"
         },
         "marker": {
          "symbol": "circle"
         },
         "mode": "lines",
         "name": "Belize",
         "orientation": "v",
         "showlegend": true,
         "type": "scatter",
         "x": [
          "2024-05-01T00:00:00.000000000",
          "2024-06-01T00:00:00.000000000",
          "2024-07-01T00:00:00.000000000"
         ],
         "xaxis": "x",
         "y": {
          "bdata": "XRR+NGXc5z9Ua2ToQrXmP7HZjyWf4eU/",
          "dtype": "f8"
         },
         "yaxis": "y"
        },
        {
         "hovertemplate": "country=Benin<br>year_month=%{x}<br>temperature_celsius=%{y}<extra></extra>",
         "legendgroup": "Benin",
         "line": {
          "color": "#FF97FF",
          "dash": "solid"
         },
         "marker": {
          "symbol": "circle"
         },
         "mode": "lines",
         "name": "Benin",
         "orientation": "v",
         "showlegend": true,
         "type": "scatter",
         "x": [
          "2024-05-01T00:00:00.000000000",
          "2024-06-01T00:00:00.000000000",
          "2024-07-01T00:00:00.000000000"
         ],
         "xaxis": "x",
         "y": {
          "bdata": "QXIi/fgU6D9VeUTpUJXnP09u15Hn5OY/",
          "dtype": "f8"
         },
         "yaxis": "y"
        },
        {
         "hovertemplate": "country=Bhutan<br>year_month=%{x}<br>temperature_celsius=%{y}<extra></extra>",
         "legendgroup": "Bhutan",
         "line": {
          "color": "#FECB52",
          "dash": "solid"
         },
         "marker": {
          "symbol": "circle"
         },
         "mode": "lines",
         "name": "Bhutan",
         "orientation": "v",
         "showlegend": true,
         "type": "scatter",
         "x": [
          "2024-05-01T00:00:00.000000000",
          "2024-06-01T00:00:00.000000000",
          "2024-07-01T00:00:00.000000000"
         ],
         "xaxis": "x",
         "y": {
          "bdata": "+lYoIwbK3z+EBLRoOkjgP7WUqdxDS+E/",
          "dtype": "f8"
         },
         "yaxis": "y"
        },
        {
         "hovertemplate": "country=Bolivia<br>year_month=%{x}<br>temperature_celsius=%{y}<extra></extra>",
         "legendgroup": "Bolivia",
         "line": {
          "color": "#636efa",
          "dash": "solid"
         },
         "marker": {
          "symbol": "circle"
         },
         "mode": "lines",
         "name": "Bolivia",
         "orientation": "v",
         "showlegend": true,
         "type": "scatter",
         "x": [
          "2024-05-01T00:00:00.000000000",
          "2024-06-01T00:00:00.000000000",
          "2024-07-01T00:00:00.000000000"
         ],
         "xaxis": "x",
         "y": {
          "bdata": "Ms0zP7Jp4z+zFEfDbQHkP2uXrF2yduE/",
          "dtype": "f8"
         },
         "yaxis": "y"
        },
        {
         "hovertemplate": "country=Bosnia and Herzegovina<br>year_month=%{x}<br>temperature_celsius=%{y}<extra></extra>",
         "legendgroup": "Bosnia and Herzegovina",
         "line": {
          "color": "#EF553B",
          "dash": "solid"
         },
         "marker": {
          "symbol": "circle"
         },
         "mode": "lines",
         "name": "Bosnia and Herzegovina",
         "orientation": "v",
         "showlegend": true,
         "type": "scatter",
         "x": [
          "2024-05-01T00:00:00.000000000",
          "2024-06-01T00:00:00.000000000",
          "2024-07-01T00:00:00.000000000"
         ],
         "xaxis": "x",
         "y": {
          "bdata": "bmWdo/l05D/eaGWn1I3mP7SJabXEgOc/",
          "dtype": "f8"
         },
         "yaxis": "y"
        },
        {
         "hovertemplate": "country=Botswana<br>year_month=%{x}<br>temperature_celsius=%{y}<extra></extra>",
         "legendgroup": "Botswana",
         "line": {
          "color": "#00cc96",
          "dash": "solid"
         },
         "marker": {
          "symbol": "circle"
         },
         "mode": "lines",
         "name": "Botswana",
         "orientation": "v",
         "showlegend": true,
         "type": "scatter",
         "x": [
          "2024-05-01T00:00:00.000000000",
          "2024-06-01T00:00:00.000000000",
          "2024-07-01T00:00:00.000000000"
         ],
         "xaxis": "x",
         "y": {
          "bdata": "DNi1XDb55T8fRZXN5lHkPwK33ol7XuU/",
          "dtype": "f8"
         },
         "yaxis": "y"
        },
        {
         "hovertemplate": "country=Brazil<br>year_month=%{x}<br>temperature_celsius=%{y}<extra></extra>",
         "legendgroup": "Brazil",
         "line": {
          "color": "#ab63fa",
          "dash": "solid"
         },
         "marker": {
          "symbol": "circle"
         },
         "mode": "lines",
         "name": "Brazil",
         "orientation": "v",
         "showlegend": true,
         "type": "scatter",
         "x": [
          "2024-05-01T00:00:00.000000000",
          "2024-06-01T00:00:00.000000000",
          "2024-07-01T00:00:00.000000000"
         ],
         "xaxis": "x",
         "y": {
          "bdata": "uLosq9X25j9Jd4/BhHTnPzyTSeDF/uY/",
          "dtype": "f8"
         },
         "yaxis": "y"
        },
        {
         "hovertemplate": "country=Brunei Darussalam<br>year_month=%{x}<br>temperature_celsius=%{y}<extra></extra>",
         "legendgroup": "Brunei Darussalam",
         "line": {
          "color": "#FFA15A",
          "dash": "solid"
         },
         "marker": {
          "symbol": "circle"
         },
         "mode": "lines",
         "name": "Brunei Darussalam",
         "orientation": "v",
         "showlegend": true,
         "type": "scatter",
         "x": [
          "2024-05-01T00:00:00.000000000",
          "2024-06-01T00:00:00.000000000",
          "2024-07-01T00:00:00.000000000"
         ],
         "xaxis": "x",
         "y": {
          "bdata": "LeWHfUPL5j9jtHoECE/mPyaedV/jkuY/",
          "dtype": "f8"
         },
         "yaxis": "y"
        },
        {
         "hovertemplate": "country=Bulgaria<br>year_month=%{x}<br>temperature_celsius=%{y}<extra></extra>",
         "legendgroup": "Bulgaria",
         "line": {
          "color": "#19d3f3",
          "dash": "solid"
         },
         "marker": {
          "symbol": "circle"
         },
         "mode": "lines",
         "name": "Bulgaria",
         "orientation": "v",
         "showlegend": true,
         "type": "scatter",
         "x": [
          "2024-05-01T00:00:00.000000000",
          "2024-06-01T00:00:00.000000000",
          "2024-07-01T00:00:00.000000000"
         ],
         "xaxis": "x",
         "y": {
          "bdata": "1QUiyoGQ4z/Jxy3wPZDnP4+U6mXlSOk/",
          "dtype": "f8"
         },
         "yaxis": "y"
        },
        {
         "hovertemplate": "country=Burkina Faso<br>year_month=%{x}<br>temperature_celsius=%{y}<extra></extra>",
         "legendgroup": "Burkina Faso",
         "line": {
          "color": "#FF6692",
          "dash": "solid"
         },
         "marker": {
          "symbol": "circle"
         },
         "mode": "lines",
         "name": "Burkina Faso",
         "orientation": "v",
         "showlegend": true,
         "type": "scatter",
         "x": [
          "2024-05-01T00:00:00.000000000",
          "2024-06-01T00:00:00.000000000",
          "2024-07-01T00:00:00.000000000"
         ],
         "xaxis": "x",
         "y": {
          "bdata": "xM0HgFT66j8gosP28iHqPzYD1QxUM+g/",
          "dtype": "f8"
         },
         "yaxis": "y"
        },
        {
         "hovertemplate": "country=Burundi<br>year_month=%{x}<br>temperature_celsius=%{y}<extra></extra>",
         "legendgroup": "Burundi",
         "line": {
          "color": "#B6E880",
          "dash": "solid"
         },
         "marker": {
          "symbol": "circle"
         },
         "mode": "lines",
         "name": "Burundi",
         "orientation": "v",
         "showlegend": true,
         "type": "scatter",
         "x": [
          "2024-05-01T00:00:00.000000000",
          "2024-06-01T00:00:00.000000000",
          "2024-07-01T00:00:00.000000000"
         ],
         "xaxis": "x",
         "y": {
          "bdata": "13NM1nNM5j/PaaqL8JzmP+5YR0thqeY/",
          "dtype": "f8"
         },
         "yaxis": "y"
        },
        {
         "hovertemplate": "country=Cambodia<br>year_month=%{x}<br>temperature_celsius=%{y}<extra></extra>",
         "legendgroup": "Cambodia",
         "line": {
          "color": "#FF97FF",
          "dash": "solid"
         },
         "marker": {
          "symbol": "circle"
         },
         "mode": "lines",
         "name": "Cambodia",
         "orientation": "v",
         "showlegend": true,
         "type": "scatter",
         "x": [
          "2024-05-01T00:00:00.000000000",
          "2024-06-01T00:00:00.000000000",
          "2024-07-01T00:00:00.000000000"
         ],
         "xaxis": "x",
         "y": {
          "bdata": "DCV9amj25z/ZdohRhG3nP6P4CWtXtuY/",
          "dtype": "f8"
         },
         "yaxis": "y"
        },
        {
         "hovertemplate": "country=Cameroon<br>year_month=%{x}<br>temperature_celsius=%{y}<extra></extra>",
         "legendgroup": "Cameroon",
         "line": {
          "color": "#FECB52",
          "dash": "solid"
         },
         "marker": {
          "symbol": "circle"
         },
         "mode": "lines",
         "name": "Cameroon",
         "orientation": "v",
         "showlegend": true,
         "type": "scatter",
         "x": [
          "2024-05-01T00:00:00.000000000",
          "2024-06-01T00:00:00.000000000",
          "2024-07-01T00:00:00.000000000"
         ],
         "xaxis": "x",
         "y": {
          "bdata": "+Umo62Ry5z/n0WGWcx7lP7hvPvfOU+U/",
          "dtype": "f8"
         },
         "yaxis": "y"
        },
        {
         "hovertemplate": "country=Canada<br>year_month=%{x}<br>temperature_celsius=%{y}<extra></extra>",
         "legendgroup": "Canada",
         "line": {
          "color": "#636efa",
          "dash": "solid"
         },
         "marker": {
          "symbol": "circle"
         },
         "mode": "lines",
         "name": "Canada",
         "orientation": "v",
         "showlegend": true,
         "type": "scatter",
         "x": [
          "2024-05-01T00:00:00.000000000",
          "2024-06-01T00:00:00.000000000",
          "2024-07-01T00:00:00.000000000"
         ],
         "xaxis": "x",
         "y": {
          "bdata": "tn6xmrRF4j+HMI/lcwjjP1RqUwa9VeM/",
          "dtype": "f8"
         },
         "yaxis": "y"
        },
        {
         "hovertemplate": "country=Cape Verde<br>year_month=%{x}<br>temperature_celsius=%{y}<extra></extra>",
         "legendgroup": "Cape Verde",
         "line": {
          "color": "#EF553B",
          "dash": "solid"
         },
         "marker": {
          "symbol": "circle"
         },
         "mode": "lines",
         "name": "Cape Verde",
         "orientation": "v",
         "showlegend": true,
         "type": "scatter",
         "x": [
          "2024-05-01T00:00:00.000000000",
          "2024-06-01T00:00:00.000000000",
          "2024-07-01T00:00:00.000000000"
         ],
         "xaxis": "x",
         "y": {
          "bdata": "dzuKdjuK5j/maZ7maZ7mP5MPNTqKfeY/",
          "dtype": "f8"
         },
         "yaxis": "y"
        },
        {
         "hovertemplate": "country=Central African Republic<br>year_month=%{x}<br>temperature_celsius=%{y}<extra></extra>",
         "legendgroup": "Central African Republic",
         "line": {
          "color": "#00cc96",
          "dash": "solid"
         },
         "marker": {
          "symbol": "circle"
         },
         "mode": "lines",
         "name": "Central African Republic",
         "orientation": "v",
         "showlegend": true,
         "type": "scatter",
         "x": [
          "2024-05-01T00:00:00.000000000",
          "2024-06-01T00:00:00.000000000",
          "2024-07-01T00:00:00.000000000"
         ],
         "xaxis": "x",
         "y": {
          "bdata": "K0Iol2rX6D+KisMCmKjoP8CFTgP/W+g/",
          "dtype": "f8"
         },
         "yaxis": "y"
        },
        {
         "hovertemplate": "country=Chad<br>year_month=%{x}<br>temperature_celsius=%{y}<extra></extra>",
         "legendgroup": "Chad",
         "line": {
          "color": "#ab63fa",
          "dash": "solid"
         },
         "marker": {
          "symbol": "circle"
         },
         "mode": "lines",
         "name": "Chad",
         "orientation": "v",
         "showlegend": true,
         "type": "scatter",
         "x": [
          "2024-05-01T00:00:00.000000000",
          "2024-06-01T00:00:00.000000000",
          "2024-07-01T00:00:00.000000000"
         ],
         "xaxis": "x",
         "y": {
          "bdata": "ytpqXrK77D8ksR/gNxLrP9gcO35cbOg/",
          "dtype": "f8"
         },
         "yaxis": "y"
        },
        {
         "hovertemplate": "country=Chile<br>year_month=%{x}<br>temperature_celsius=%{y}<extra></extra>",
         "legendgroup": "Chile",
         "line": {
          "color": "#FFA15A",
          "dash": "solid"
         },
         "marker": {
          "symbol": "circle"
         },
         "mode": "lines",
         "name": "Chile",
         "orientation": "v",
         "showlegend": true,
         "type": "scatter",
         "x": [
          "2024-05-01T00:00:00.000000000",
          "2024-06-01T00:00:00.000000000",
          "2024-07-01T00:00:00.000000000"
         ],
         "xaxis": "x",
         "y": {
          "bdata": "Jqi21Elz2z8SxP1iIkHcP2abzHkQKdk/",
          "dtype": "f8"
         },
         "yaxis": "y"
        },
        {
         "hovertemplate": "country=China<br>year_month=%{x}<br>temperature_celsius=%{y}<extra></extra>",
         "legendgroup": "China",
         "line": {
          "color": "#19d3f3",
          "dash": "solid"
         },
         "marker": {
          "symbol": "circle"
         },
         "mode": "lines",
         "name": "China",
         "orientation": "v",
         "showlegend": true,
         "type": "scatter",
         "x": [
          "2024-05-01T00:00:00.000000000",
          "2024-06-01T00:00:00.000000000",
          "2024-07-01T00:00:00.000000000"
         ],
         "xaxis": "x",
         "y": {
          "bdata": "NW8gNG8g5D/Cg4y9aZTmPyo9ElXLlOY/",
          "dtype": "f8"
         },
         "yaxis": "y"
        },
        {
         "hovertemplate": "country=Comoros<br>year_month=%{x}<br>temperature_celsius=%{y}<extra></extra>",
         "legendgroup": "Comoros",
         "line": {
          "color": "#FF6692",
          "dash": "solid"
         },
         "marker": {
          "symbol": "circle"
         },
         "mode": "lines",
         "name": "Comoros",
         "orientation": "v",
         "showlegend": true,
         "type": "scatter",
         "x": [
          "2024-05-01T00:00:00.000000000",
          "2024-06-01T00:00:00.000000000",
          "2024-07-01T00:00:00.000000000"
         ],
         "xaxis": "x",
         "y": {
          "bdata": "UV5DeQ3l5T8u4F4kQ7zlP09bwgritOU/",
          "dtype": "f8"
         },
         "yaxis": "y"
        },
        {
         "hovertemplate": "country=Congo<br>year_month=%{x}<br>temperature_celsius=%{y}<extra></extra>",
         "legendgroup": "Congo",
         "line": {
          "color": "#B6E880",
          "dash": "solid"
         },
         "marker": {
          "symbol": "circle"
         },
         "mode": "lines",
         "name": "Congo",
         "orientation": "v",
         "showlegend": true,
         "type": "scatter",
         "x": [
          "2024-05-01T00:00:00.000000000",
          "2024-06-01T00:00:00.000000000",
          "2024-07-01T00:00:00.000000000"
         ],
         "xaxis": "x",
         "y": {
          "bdata": "pywfOgRw6D8hZNsQCXfoP+fXhe3++ec/",
          "dtype": "f8"
         },
         "yaxis": "y"
        },
        {
         "hovertemplate": "country=Costa Rica<br>year_month=%{x}<br>temperature_celsius=%{y}<extra></extra>",
         "legendgroup": "Costa Rica",
         "line": {
          "color": "#FF97FF",
          "dash": "solid"
         },
         "marker": {
          "symbol": "circle"
         },
         "mode": "lines",
         "name": "Costa Rica",
         "orientation": "v",
         "showlegend": true,
         "type": "scatter",
         "x": [
          "2024-05-01T00:00:00.000000000",
          "2024-06-01T00:00:00.000000000",
          "2024-07-01T00:00:00.000000000"
         ],
         "xaxis": "x",
         "y": {
          "bdata": "Bn0Yf4r95D/iVUdcnkPkP4cvf+Vy+OI/",
          "dtype": "f8"
         },
         "yaxis": "y"
        },
        {
         "hovertemplate": "country=Croatia<br>year_month=%{x}<br>temperature_celsius=%{y}<extra></extra>",
         "legendgroup": "Croatia",
         "line": {
          "color": "#FECB52",
          "dash": "solid"
         },
         "marker": {
          "symbol": "circle"
         },
         "mode": "lines",
         "name": "Croatia",
         "orientation": "v",
         "showlegend": true,
         "type": "scatter",
         "x": [
          "2024-05-01T00:00:00.000000000",
          "2024-06-01T00:00:00.000000000",
          "2024-07-01T00:00:00.000000000"
         ],
         "xaxis": "x",
         "y": {
          "bdata": "OwgfBXRH5D/64VcfSWbmPz8EDkzpQ+g/",
          "dtype": "f8"
         },
         "yaxis": "y"
        },
        {
         "hovertemplate": "country=Cuba<br>year_month=%{x}<br>temperature_celsius=%{y}<extra></extra>",
         "legendgroup": "Cuba",
         "line": {
          "color": "#636efa",
          "dash": "solid"
         },
         "marker": {
          "symbol": "circle"
         },
         "mode": "lines",
         "name": "Cuba",
         "orientation": "v",
         "showlegend": true,
         "type": "scatter",
         "x": [
          "2024-05-01T00:00:00.000000000",
          "2024-06-01T00:00:00.000000000",
          "2024-07-01T00:00:00.000000000"
         ],
         "xaxis": "x",
         "y": {
          "bdata": "6ieEVVAz5z+na7qma7rmP+fGSFPBXOY/",
          "dtype": "f8"
         },
         "yaxis": "y"
        },
        {
         "hovertemplate": "country=Cyprus<br>year_month=%{x}<br>temperature_celsius=%{y}<extra></extra>",
         "legendgroup": "Cyprus",
         "line": {
          "color": "#EF553B",
          "dash": "solid"
         },
         "marker": {
          "symbol": "circle"
         },
         "mode": "lines",
         "name": "Cyprus",
         "orientation": "v",
         "showlegend": true,
         "type": "scatter",
         "x": [
          "2024-05-01T00:00:00.000000000",
          "2024-06-01T00:00:00.000000000",
          "2024-07-01T00:00:00.000000000"
         ],
         "xaxis": "x",
         "y": {
          "bdata": "yCqLQDhw5j/8pop0tG/qP2klLjORVuo/",
          "dtype": "f8"
         },
         "yaxis": "y"
        },
        {
         "hovertemplate": "country=Czech Republic<br>year_month=%{x}<br>temperature_celsius=%{y}<extra></extra>",
         "legendgroup": "Czech Republic",
         "line": {
          "color": "#00cc96",
          "dash": "solid"
         },
         "marker": {
          "symbol": "circle"
         },
         "mode": "lines",
         "name": "Czech Republic",
         "orientation": "v",
         "showlegend": true,
         "type": "scatter",
         "x": [
          "2024-05-01T00:00:00.000000000",
          "2024-06-01T00:00:00.000000000",
          "2024-07-01T00:00:00.000000000"
         ],
         "xaxis": "x",
         "y": {
          "bdata": "/aYrrEjo4j9cZQR/+q3kPxlZ6wGGkeU/",
          "dtype": "f8"
         },
         "yaxis": "y"
        },
        {
         "hovertemplate": "country=Democratic Republic of Congo<br>year_month=%{x}<br>temperature_celsius=%{y}<extra></extra>",
         "legendgroup": "Democratic Republic of Congo",
         "line": {
          "color": "#ab63fa",
          "dash": "solid"
         },
         "marker": {
          "symbol": "circle"
         },
         "mode": "lines",
         "name": "Democratic Republic of Congo",
         "orientation": "v",
         "showlegend": true,
         "type": "scatter",
         "x": [
          "2024-05-01T00:00:00.000000000",
          "2024-06-01T00:00:00.000000000",
          "2024-07-01T00:00:00.000000000"
         ],
         "xaxis": "x",
         "y": {
          "bdata": "yHdSTmpt6D9EjvpYA1foP3iAB3iAB+g/",
          "dtype": "f8"
         },
         "yaxis": "y"
        },
        {
         "hovertemplate": "country=Denmark<br>year_month=%{x}<br>temperature_celsius=%{y}<extra></extra>",
         "legendgroup": "Denmark",
         "line": {
          "color": "#FFA15A",
          "dash": "solid"
         },
         "marker": {
          "symbol": "circle"
         },
         "mode": "lines",
         "name": "Denmark",
         "orientation": "v",
         "showlegend": true,
         "type": "scatter",
         "x": [
          "2024-05-01T00:00:00.000000000",
          "2024-06-01T00:00:00.000000000",
          "2024-07-01T00:00:00.000000000"
         ],
         "xaxis": "x",
         "y": {
          "bdata": "ItKsqMTH4j80yuM/3bTiP2OSANCMFOM/",
          "dtype": "f8"
         },
         "yaxis": "y"
        },
        {
         "hovertemplate": "country=Djibouti<br>year_month=%{x}<br>temperature_celsius=%{y}<extra></extra>",
         "legendgroup": "Djibouti",
         "line": {
          "color": "#19d3f3",
          "dash": "solid"
         },
         "marker": {
          "symbol": "circle"
         },
         "mode": "lines",
         "name": "Djibouti",
         "orientation": "v",
         "showlegend": true,
         "type": "scatter",
         "x": [
          "2024-05-01T00:00:00.000000000",
          "2024-06-01T00:00:00.000000000",
          "2024-07-01T00:00:00.000000000"
         ],
         "xaxis": "x",
         "y": {
          "bdata": "FxIuMdyZ6T8DV/iyYWfqP8AxsNr7G+s/",
          "dtype": "f8"
         },
         "yaxis": "y"
        },
        {
         "hovertemplate": "country=Dominica<br>year_month=%{x}<br>temperature_celsius=%{y}<extra></extra>",
         "legendgroup": "Dominica",
         "line": {
          "color": "#FF6692",
          "dash": "solid"
         },
         "marker": {
          "symbol": "circle"
         },
         "mode": "lines",
         "name": "Dominica",
         "orientation": "v",
         "showlegend": true,
         "type": "scatter",
         "x": [
          "2024-05-01T00:00:00.000000000",
          "2024-06-01T00:00:00.000000000",
          "2024-07-01T00:00:00.000000000"
         ],
         "xaxis": "x",
         "y": {
          "bdata": "XRR+NGXc5z9ue3O+2bbnP27y8HrXJuc/",
          "dtype": "f8"
         },
         "yaxis": "y"
        },
        {
         "hovertemplate": "country=Dominican Republic<br>year_month=%{x}<br>temperature_celsius=%{y}<extra></extra>",
         "legendgroup": "Dominican Republic",
         "line": {
          "color": "#B6E880",
          "dash": "solid"
         },
         "marker": {
          "symbol": "circle"
         },
         "mode": "lines",
         "name": "Dominican Republic",
         "orientation": "v",
         "showlegend": true,
         "type": "scatter",
         "x": [
          "2024-05-01T00:00:00.000000000",
          "2024-06-01T00:00:00.000000000",
          "2024-07-01T00:00:00.000000000"
         ],
         "xaxis": "x",
         "y": {
          "bdata": "ASEIsMLE5j9Nc9YjxDTnP1Nl6W0vVeY/",
          "dtype": "f8"
         },
         "yaxis": "y"
        },
        {
         "hovertemplate": "country=Ecuador<br>year_month=%{x}<br>temperature_celsius=%{y}<extra></extra>",
         "legendgroup": "Ecuador",
         "line": {
          "color": "#FF97FF",
          "dash": "solid"
         },
         "marker": {
          "symbol": "circle"
         },
         "mode": "lines",
         "name": "Ecuador",
         "orientation": "v",
         "showlegend": true,
         "type": "scatter",
         "x": [
          "2024-05-01T00:00:00.000000000",
          "2024-06-01T00:00:00.000000000",
          "2024-07-01T00:00:00.000000000"
         ],
         "xaxis": "x",
         "y": {
          "bdata": "KfdGbHBU4T+3B1OBc3vgP8RevWgowN4/",
          "dtype": "f8"
         },
         "yaxis": "y"
        },
        {
         "hovertemplate": "country=Egypt<br>year_month=%{x}<br>temperature_celsius=%{y}<extra></extra>",
         "legendgroup": "Egypt",
         "line": {
          "color": "#FECB52",
          "dash": "solid"
         },
         "marker": {
          "symbol": "circle"
         },
         "mode": "lines",
         "name": "Egypt",
         "orientation": "v",
         "showlegend": true,
         "type": "scatter",
         "x": [
          "2024-05-01T00:00:00.000000000",
          "2024-06-01T00:00:00.000000000",
          "2024-07-01T00:00:00.000000000"
         ],
         "xaxis": "x",
         "y": {
          "bdata": "yDnxWhFC6T+OsWn52RjrPymvobyG8uo/",
          "dtype": "f8"
         },
         "yaxis": "y"
        },
        {
         "hovertemplate": "country=El Salvador<br>year_month=%{x}<br>temperature_celsius=%{y}<extra></extra>",
         "legendgroup": "El Salvador",
         "line": {
          "color": "#636efa",
          "dash": "solid"
         },
         "marker": {
          "symbol": "circle"
         },
         "mode": "lines",
         "name": "El Salvador",
         "orientation": "v",
         "showlegend": true,
         "type": "scatter",
         "x": [
          "2024-05-01T00:00:00.000000000",
          "2024-06-01T00:00:00.000000000",
          "2024-07-01T00:00:00.000000000"
         ],
         "xaxis": "x",
         "y": {
          "bdata": "7FUMPbRP5j/MHetoKSzlPz7LzrbYs+Q/",
          "dtype": "f8"
         },
         "yaxis": "y"
        },
        {
         "hovertemplate": "country=Equatorial Guinea<br>year_month=%{x}<br>temperature_celsius=%{y}<extra></extra>",
         "legendgroup": "Equatorial Guinea",
         "line": {
          "color": "#EF553B",
          "dash": "solid"
         },
         "marker": {
          "symbol": "circle"
         },
         "mode": "lines",
         "name": "Equatorial Guinea",
         "orientation": "v",
         "showlegend": true,
         "type": "scatter",
         "x": [
          "2024-05-01T00:00:00.000000000",
          "2024-06-01T00:00:00.000000000",
          "2024-07-01T00:00:00.000000000"
         ],
         "xaxis": "x",
         "y": {
          "bdata": "KMfYodS95z+tcuf90CrnP4p9NkLqMOY/",
          "dtype": "f8"
         },
         "yaxis": "y"
        },
        {
         "hovertemplate": "country=Eritrea<br>year_month=%{x}<br>temperature_celsius=%{y}<extra></extra>",
         "legendgroup": "Eritrea",
         "line": {
          "color": "#00cc96",
          "dash": "solid"
         },
         "marker": {
          "symbol": "circle"
         },
         "mode": "lines",
         "name": "Eritrea",
         "orientation": "v",
         "showlegend": true,
         "type": "scatter",
         "x": [
          "2024-05-01T00:00:00.000000000",
          "2024-06-01T00:00:00.000000000",
          "2024-07-01T00:00:00.000000000"
         ],
         "xaxis": "x",
         "y": {
          "bdata": "kIkzuDjV5D9RXkN5DeXlP9bMNoi2huQ/",
          "dtype": "f8"
         },
         "yaxis": "y"
        },
        {
         "hovertemplate": "country=Estonia<br>year_month=%{x}<br>temperature_celsius=%{y}<extra></extra>",
         "legendgroup": "Estonia",
         "line": {
          "color": "#ab63fa",
          "dash": "solid"
         },
         "marker": {
          "symbol": "circle"
         },
         "mode": "lines",
         "name": "Estonia",
         "orientation": "v",
         "showlegend": true,
         "type": "scatter",
         "x": [
          "2024-05-01T00:00:00.000000000",
          "2024-06-01T00:00:00.000000000",
          "2024-07-01T00:00:00.000000000"
         ],
         "xaxis": "x",
         "y": {
          "bdata": "sSKhy+wM5D/eMWGM0x3jP6s7re60uuM/",
          "dtype": "f8"
         },
         "yaxis": "y"
        },
        {
         "hovertemplate": "country=Ethiopia<br>year_month=%{x}<br>temperature_celsius=%{y}<extra></extra>",
         "legendgroup": "Ethiopia",
         "line": {
          "color": "#FFA15A",
          "dash": "solid"
         },
         "marker": {
          "symbol": "circle"
         },
         "mode": "lines",
         "name": "Ethiopia",
         "orientation": "v",
         "showlegend": true,
         "type": "scatter",
         "x": [
          "2024-05-01T00:00:00.000000000",
          "2024-06-01T00:00:00.000000000",
          "2024-07-01T00:00:00.000000000"
         ],
         "xaxis": "x",
         "y": {
          "bdata": "S9wInDpM5T+zTlIz7F3kPz8ygmbhI+M/",
          "dtype": "f8"
         },
         "yaxis": "y"
        },
        {
         "hovertemplate": "country=Fiji Islands<br>year_month=%{x}<br>temperature_celsius=%{y}<extra></extra>",
         "legendgroup": "Fiji Islands",
         "line": {
          "color": "#19d3f3",
          "dash": "solid"
         },
         "marker": {
          "symbol": "circle"
         },
         "mode": "lines",
         "name": "Fiji Islands",
         "orientation": "v",
         "showlegend": true,
         "type": "scatter",
         "x": [
          "2024-05-01T00:00:00.000000000",
          "2024-06-01T00:00:00.000000000",
          "2024-07-01T00:00:00.000000000"
         ],
         "xaxis": "x",
         "y": {
          "bdata": "4VGXgg4e5T8FSJt+VYDkPz2GvB8Yh+Q/",
          "dtype": "f8"
         },
         "yaxis": "y"
        },
        {
         "hovertemplate": "country=Finland<br>year_month=%{x}<br>temperature_celsius=%{y}<extra></extra>",
         "legendgroup": "Finland",
         "line": {
          "color": "#FF6692",
          "dash": "solid"
         },
         "marker": {
          "symbol": "circle"
         },
         "mode": "lines",
         "name": "Finland",
         "orientation": "v",
         "showlegend": true,
         "type": "scatter",
         "x": [
          "2024-05-01T00:00:00.000000000",
          "2024-06-01T00:00:00.000000000",
          "2024-07-01T00:00:00.000000000"
         ],
         "xaxis": "x",
         "y": {
          "bdata": "STocp32V5D9aOVKql5XjP7KNKszu4+M/",
          "dtype": "f8"
         },
         "yaxis": "y"
        },
        {
         "hovertemplate": "country=France<br>year_month=%{x}<br>temperature_celsius=%{y}<extra></extra>",
         "legendgroup": "France",
         "line": {
          "color": "#B6E880",
          "dash": "solid"
         },
         "marker": {
          "symbol": "circle"
         },
         "mode": "lines",
         "name": "France",
         "orientation": "v",
         "showlegend": true,
         "type": "scatter",
         "x": [
          "2024-05-01T00:00:00.000000000",
          "2024-06-01T00:00:00.000000000",
          "2024-07-01T00:00:00.000000000"
         ],
         "xaxis": "x",
         "y": {
          "bdata": "JdmXkAFH4j/vPT0X7d7jP1PPVa3KO+U/",
          "dtype": "f8"
         },
         "yaxis": "y"
        },
        {
         "hovertemplate": "country=Gabon<br>year_month=%{x}<br>temperature_celsius=%{y}<extra></extra>",
         "legendgroup": "Gabon",
         "line": {
          "color": "#FF97FF",
          "dash": "solid"
         },
         "marker": {
          "symbol": "circle"
         },
         "mode": "lines",
         "name": "Gabon",
         "orientation": "v",
         "showlegend": true,
         "type": "scatter",
         "x": [
          "2024-05-01T00:00:00.000000000",
          "2024-06-01T00:00:00.000000000",
          "2024-07-01T00:00:00.000000000"
         ],
         "xaxis": "x",
         "y": {
          "bdata": "0y4A+92h5z/TU8Sg2eTmP6AFqGifa+Y/",
          "dtype": "f8"
         },
         "yaxis": "y"
        },
        {
         "hovertemplate": "country=Gambia<br>year_month=%{x}<br>temperature_celsius=%{y}<extra></extra>",
         "legendgroup": "Gambia",
         "line": {
          "color": "#FECB52",
          "dash": "solid"
         },
         "marker": {
          "symbol": "circle"
         },
         "mode": "lines",
         "name": "Gambia",
         "orientation": "v",
         "showlegend": true,
         "type": "scatter",
         "x": [
          "2024-05-01T00:00:00.000000000",
          "2024-06-01T00:00:00.000000000",
          "2024-07-01T00:00:00.000000000"
         ],
         "xaxis": "x",
         "y": {
          "bdata": "jUN064bt6D9VCm0vo17oP250A77SRuc/",
          "dtype": "f8"
         },
         "yaxis": "y"
        },
        {
         "hovertemplate": "country=Georgia<br>year_month=%{x}<br>temperature_celsius=%{y}<extra></extra>",
         "legendgroup": "Georgia",
         "line": {
          "color": "#636efa",
          "dash": "solid"
         },
         "marker": {
          "symbol": "circle"
         },
         "mode": "lines",
         "name": "Georgia",
         "orientation": "v",
         "showlegend": true,
         "type": "scatter",
         "x": [
          "2024-05-01T00:00:00.000000000",
          "2024-06-01T00:00:00.000000000",
          "2024-07-01T00:00:00.000000000"
         ],
         "xaxis": "x",
         "y": {
          "bdata": "wYImVVp34z/PIYoFHxTnP9v7GwOrvec/",
          "dtype": "f8"
         },
         "yaxis": "y"
        },
        {
         "hovertemplate": "country=Germany<br>year_month=%{x}<br>temperature_celsius=%{y}<extra></extra>",
         "legendgroup": "Germany",
         "line": {
          "color": "#EF553B",
          "dash": "solid"
         },
         "marker": {
          "symbol": "circle"
         },
         "mode": "lines",
         "name": "Germany",
         "orientation": "v",
         "showlegend": true,
         "type": "scatter",
         "x": [
          "2024-05-01T00:00:00.000000000",
          "2024-06-01T00:00:00.000000000",
          "2024-07-01T00:00:00.000000000"
         ],
         "xaxis": "x",
         "y": {
          "bdata": "6hgeO3dh5D9mR6xYYnbkP0fyf8wSNuU/",
          "dtype": "f8"
         },
         "yaxis": "y"
        },
        {
         "hovertemplate": "country=Ghana<br>year_month=%{x}<br>temperature_celsius=%{y}<extra></extra>",
         "legendgroup": "Ghana",
         "line": {
          "color": "#00cc96",
          "dash": "solid"
         },
         "marker": {
          "symbol": "circle"
         },
         "mode": "lines",
         "name": "Ghana",
         "orientation": "v",
         "showlegend": true,
         "type": "scatter",
         "x": [
          "2024-05-01T00:00:00.000000000",
          "2024-06-01T00:00:00.000000000",
          "2024-07-01T00:00:00.000000000"
         ],
         "xaxis": "x",
         "y": {
          "bdata": "lUFxrwvd5z+RdHHGCEnnPw/9ZuvQb+Y/",
          "dtype": "f8"
         },
         "yaxis": "y"
        },
        {
         "hovertemplate": "country=Greece<br>year_month=%{x}<br>temperature_celsius=%{y}<extra></extra>",
         "legendgroup": "Greece",
         "line": {
          "color": "#ab63fa",
          "dash": "solid"
         },
         "marker": {
          "symbol": "circle"
         },
         "mode": "lines",
         "name": "Greece",
         "orientation": "v",
         "showlegend": true,
         "type": "scatter",
         "x": [
          "2024-05-01T00:00:00.000000000",
          "2024-06-01T00:00:00.000000000",
          "2024-07-01T00:00:00.000000000"
         ],
         "xaxis": "x",
         "y": {
          "bdata": "74OUJBhs5T9m75GG4HHpP0ud78Oq1Ok/",
          "dtype": "f8"
         },
         "yaxis": "y"
        },
        {
         "hovertemplate": "country=Grenada<br>year_month=%{x}<br>temperature_celsius=%{y}<extra></extra>",
         "legendgroup": "Grenada",
         "line": {
          "color": "#FFA15A",
          "dash": "solid"
         },
         "marker": {
          "symbol": "circle"
         },
         "mode": "lines",
         "name": "Grenada",
         "orientation": "v",
         "showlegend": true,
         "type": "scatter",
         "x": [
          "2024-05-01T00:00:00.000000000",
          "2024-06-01T00:00:00.000000000",
          "2024-07-01T00:00:00.000000000"
         ],
         "xaxis": "x",
         "y": {
          "bdata": "B3yljW7A5z+deSD6vJnnP7TIQU7HBuc/",
          "dtype": "f8"
         },
         "yaxis": "y"
        },
        {
         "hovertemplate": "country=Guatemala<br>year_month=%{x}<br>temperature_celsius=%{y}<extra></extra>",
         "legendgroup": "Guatemala",
         "line": {
          "color": "#19d3f3",
          "dash": "solid"
         },
         "marker": {
          "symbol": "circle"
         },
         "mode": "lines",
         "name": "Guatemala",
         "orientation": "v",
         "showlegend": true,
         "type": "scatter",
         "x": [
          "2024-05-01T00:00:00.000000000",
          "2024-06-01T00:00:00.000000000",
          "2024-07-01T00:00:00.000000000"
         ],
         "xaxis": "x",
         "y": {
          "bdata": "sSKhy+wM5D++VRM52SbjPzokNn2dQ+I/",
          "dtype": "f8"
         },
         "yaxis": "y"
        },
        {
         "hovertemplate": "country=Guinea<br>year_month=%{x}<br>temperature_celsius=%{y}<extra></extra>",
         "legendgroup": "Guinea",
         "line": {
          "color": "#FF6692",
          "dash": "solid"
         },
         "marker": {
          "symbol": "circle"
         },
         "mode": "lines",
         "name": "Guinea",
         "orientation": "v",
         "showlegend": true,
         "type": "scatter",
         "x": [
          "2024-05-01T00:00:00.000000000",
          "2024-06-01T00:00:00.000000000",
          "2024-07-01T00:00:00.000000000"
         ],
         "xaxis": "x",
         "y": {
          "bdata": "4WD9nOfv5z/KdZK7kFznP3h7xMO/D+Y/",
          "dtype": "f8"
         },
         "yaxis": "y"
        },
        {
         "hovertemplate": "country=Guinea-Bissau<br>year_month=%{x}<br>temperature_celsius=%{y}<extra></extra>",
         "legendgroup": "Guinea-Bissau",
         "line": {
          "color": "#B6E880",
          "dash": "solid"
         },
         "marker": {
          "symbol": "circle"
         },
         "mode": "lines",
         "name": "Guinea-Bissau",
         "orientation": "v",
         "showlegend": true,
         "type": "scatter",
         "x": [
          "2024-05-01T00:00:00.000000000",
          "2024-06-01T00:00:00.000000000",
          "2024-07-01T00:00:00.000000000"
         ],
         "xaxis": "x",
         "y": {
          "bdata": "ATBuypuW6T8WiUCqYJHoP7jUQJ7cOec/",
          "dtype": "f8"
         },
         "yaxis": "y"
        },
        {
         "hovertemplate": "country=Guyana<br>year_month=%{x}<br>temperature_celsius=%{y}<extra></extra>",
         "legendgroup": "Guyana",
         "line": {
          "color": "#FF97FF",
          "dash": "solid"
         },
         "marker": {
          "symbol": "circle"
         },
         "mode": "lines",
         "name": "Guyana",
         "orientation": "v",
         "showlegend": true,
         "type": "scatter",
         "x": [
          "2024-05-01T00:00:00.000000000",
          "2024-06-01T00:00:00.000000000",
          "2024-07-01T00:00:00.000000000"
         ],
         "xaxis": "x",
         "y": {
          "bdata": "3PWGs0bl5j89a3CNybPmP0hbMk2wQeY/",
          "dtype": "f8"
         },
         "yaxis": "y"
        },
        {
         "hovertemplate": "country=Haiti<br>year_month=%{x}<br>temperature_celsius=%{y}<extra></extra>",
         "legendgroup": "Haiti",
         "line": {
          "color": "#FECB52",
          "dash": "solid"
         },
         "marker": {
          "symbol": "circle"
         },
         "mode": "lines",
         "name": "Haiti",
         "orientation": "v",
         "showlegend": true,
         "type": "scatter",
         "x": [
          "2024-05-01T00:00:00.000000000",
          "2024-06-01T00:00:00.000000000",
          "2024-07-01T00:00:00.000000000"
         ],
         "xaxis": "x",
         "y": {
          "bdata": "6ieEVVAz5z/we7Ey9b7nP0Ay5tWtAOc/",
          "dtype": "f8"
         },
         "yaxis": "y"
        },
        {
         "hovertemplate": "country=Honduras<br>year_month=%{x}<br>temperature_celsius=%{y}<extra></extra>",
         "legendgroup": "Honduras",
         "line": {
          "color": "#636efa",
          "dash": "solid"
         },
         "marker": {
          "symbol": "circle"
         },
         "mode": "lines",
         "name": "Honduras",
         "orientation": "v",
         "showlegend": true,
         "type": "scatter",
         "x": [
          "2024-05-01T00:00:00.000000000",
          "2024-06-01T00:00:00.000000000",
          "2024-07-01T00:00:00.000000000"
         ],
         "xaxis": "x",
         "y": {
          "bdata": "mPuUiRZf5T8MQyNPvDDkP140iQzWReM/",
          "dtype": "f8"
         },
         "yaxis": "y"
        },
        {
         "hovertemplate": "country=Hungary<br>year_month=%{x}<br>temperature_celsius=%{y}<extra></extra>",
         "legendgroup": "Hungary",
         "line": {
          "color": "#EF553B",
          "dash": "solid"
         },
         "marker": {
          "symbol": "circle"
         },
         "mode": "lines",
         "name": "Hungary",
         "orientation": "v",
         "showlegend": true,
         "type": "scatter",
         "x": [
          "2024-05-01T00:00:00.000000000",
          "2024-06-01T00:00:00.000000000",
          "2024-07-01T00:00:00.000000000"
         ],
         "xaxis": "x",
         "y": {
          "bdata": "1B+a4ATQ5D+wZYPl+VrmP+crS/rOQug/",
          "dtype": "f8"
         },
         "yaxis": "y"
        },
        {
         "hovertemplate": "country=Iceland<br>year_month=%{x}<br>temperature_celsius=%{y}<extra></extra>",
         "legendgroup": "Iceland",
         "line": {
          "color": "#00cc96",
          "dash": "solid"
         },
         "marker": {
          "symbol": "circle"
         },
         "mode": "lines",
         "name": "Iceland",
         "orientation": "v",
         "showlegend": true,
         "type": "scatter",
         "x": [
          "2024-05-01T00:00:00.000000000",
          "2024-06-01T00:00:00.000000000",
          "2024-07-01T00:00:00.000000000"
         ],
         "xaxis": "x",
         "y": {
          "bdata": "DIGqknPF3D/s2l1/sq7dP8yDWQab294/",
          "dtype": "f8"
         },
         "yaxis": "y"
        },
        {
         "hovertemplate": "country=India<br>year_month=%{x}<br>temperature_celsius=%{y}<extra></extra>",
         "legendgroup": "India",
         "line": {
          "color": "#ab63fa",
          "dash": "solid"
         },
         "marker": {
          "symbol": "circle"
         },
         "mode": "lines",
         "name": "India",
         "orientation": "v",
         "showlegend": true,
         "type": "scatter",
         "x": [
          "2024-05-01T00:00:00.000000000",
          "2024-06-01T00:00:00.000000000",
          "2024-07-01T00:00:00.000000000"
         ],
         "xaxis": "x",
         "y": {
          "bdata": "PGPZO2PZ6z//s6vj6T/rP6GagWoGquk/",
          "dtype": "f8"
         },
         "yaxis": "y"
        },
        {
         "hovertemplate": "country=Indonesia<br>year_month=%{x}<br>temperature_celsius=%{y}<extra></extra>",
         "legendgroup": "Indonesia",
         "line": {
          "color": "#FFA15A",
          "dash": "solid"
         },
         "marker": {
          "symbol": "circle"
         },
         "mode": "lines",
         "name": "Indonesia",
         "orientation": "v",
         "showlegend": true,
         "type": "scatter",
         "x": [
          "2024-05-01T00:00:00.000000000",
          "2024-06-01T00:00:00.000000000",
          "2024-07-01T00:00:00.000000000"
         ],
         "xaxis": "x",
         "y": {
          "bdata": "WB7fSTmp5T/6reIofV3lP6mdLieXcOU/",
          "dtype": "f8"
         },
         "yaxis": "y"
        },
        {
         "hovertemplate": "country=Iran<br>year_month=%{x}<br>temperature_celsius=%{y}<extra></extra>",
         "legendgroup": "Iran",
         "line": {
          "color": "#19d3f3",
          "dash": "solid"
         },
         "marker": {
          "symbol": "circle"
         },
         "mode": "lines",
         "name": "Iran",
         "orientation": "v",
         "showlegend": true,
         "type": "scatter",
         "x": [
          "2024-05-01T00:00:00.000000000",
          "2024-06-01T00:00:00.000000000",
          "2024-07-01T00:00:00.000000000"
         ],
         "xaxis": "x",
         "y": {
          "bdata": "Luk26m8p5T8VrCMsAgvoP7YDzNS3fuk/",
          "dtype": "f8"
         },
         "yaxis": "y"
        },
        {
         "hovertemplate": "country=Iraq<br>year_month=%{x}<br>temperature_celsius=%{y}<extra></extra>",
         "legendgroup": "Iraq",
         "line": {
          "color": "#FF6692",
          "dash": "solid"
         },
         "marker": {
          "symbol": "circle"
         },
         "mode": "lines",
         "name": "Iraq",
         "orientation": "v",
         "showlegend": true,
         "type": "scatter",
         "x": [
          "2024-05-01T00:00:00.000000000",
          "2024-06-01T00:00:00.000000000",
          "2024-07-01T00:00:00.000000000"
         ],
         "xaxis": "x",
         "y": {
          "bdata": "+QrUBvAJ6z9b4Jl1qgXuP5nhd8GQGe4/",
          "dtype": "f8"
         },
         "yaxis": "y"
        },
        {
         "hovertemplate": "country=Ireland<br>year_month=%{x}<br>temperature_celsius=%{y}<extra></extra>",
         "legendgroup": "Ireland",
         "line": {
          "color": "#B6E880",
          "dash": "solid"
         },
         "marker": {
          "symbol": "circle"
         },
         "mode": "lines",
         "name": "Ireland",
         "orientation": "v",
         "showlegend": true,
         "type": "scatter",
         "x": [
          "2024-05-01T00:00:00.000000000",
          "2024-06-01T00:00:00.000000000",
          "2024-07-01T00:00:00.000000000"
         ],
         "xaxis": "x",
         "y": {
          "bdata": "Q5K3u5+c4T/vPi3KBbrhPx3VD7/6SOI/",
          "dtype": "f8"
         },
         "yaxis": "y"
        },
        {
         "hovertemplate": "country=Israel<br>year_month=%{x}<br>temperature_celsius=%{y}<extra></extra>",
         "legendgroup": "Israel",
         "line": {
          "color": "#FF97FF",
          "dash": "solid"
         },
         "marker": {
          "symbol": "circle"
         },
         "mode": "lines",
         "name": "Israel",
         "orientation": "v",
         "showlegend": true,
         "type": "scatter",
         "x": [
          "2024-05-01T00:00:00.000000000",
          "2024-06-01T00:00:00.000000000",
          "2024-07-01T00:00:00.000000000"
         ],
         "xaxis": "x",
         "y": {
          "bdata": "H7OK2zl95j9ag2tMnjXoP62HAQvLeug/",
          "dtype": "f8"
         },
         "yaxis": "y"
        },
        {
         "hovertemplate": "country=Italy<br>year_month=%{x}<br>temperature_celsius=%{y}<extra></extra>",
         "legendgroup": "Italy",
         "line": {
          "color": "#FECB52",
          "dash": "solid"
         },
         "marker": {
          "symbol": "circle"
         },
         "mode": "lines",
         "name": "Italy",
         "orientation": "v",
         "showlegend": true,
         "type": "scatter",
         "x": [
          "2024-05-01T00:00:00.000000000",
          "2024-06-01T00:00:00.000000000",
          "2024-07-01T00:00:00.000000000"
         ],
         "xaxis": "x",
         "y": {
          "bdata": "4VGXgg4e5T+jduNEM2rnP54ZEz/Wmek/",
          "dtype": "f8"
         },
         "yaxis": "y"
        },
        {
         "hovertemplate": "country=Jamaica<br>year_month=%{x}<br>temperature_celsius=%{y}<extra></extra>",
         "legendgroup": "Jamaica",
         "line": {
          "color": "#636efa",
          "dash": "solid"
         },
         "marker": {
          "symbol": "circle"
         },
         "mode": "lines",
         "name": "Jamaica",
         "orientation": "v",
         "showlegend": true,
         "type": "scatter",
         "x": [
          "2024-05-01T00:00:00.000000000",
          "2024-06-01T00:00:00.000000000",
          "2024-07-01T00:00:00.000000000"
         ],
         "xaxis": "x",
         "y": {
          "bdata": "XwSlKHDN5z+SfRxBH9nnP7dn3kOvCOc/",
          "dtype": "f8"
         },
         "yaxis": "y"
        },
        {
         "hovertemplate": "country=Japan<br>year_month=%{x}<br>temperature_celsius=%{y}<extra></extra>",
         "legendgroup": "Japan",
         "line": {
          "color": "#EF553B",
          "dash": "solid"
         },
         "marker": {
          "symbol": "circle"
         },
         "mode": "lines",
         "name": "Japan",
         "orientation": "v",
         "showlegend": true,
         "type": "scatter",
         "x": [
          "2024-05-01T00:00:00.000000000",
          "2024-06-01T00:00:00.000000000",
          "2024-07-01T00:00:00.000000000"
         ],
         "xaxis": "x",
         "y": {
          "bdata": "ke4xq7id4z+2SMGoY4vkP2DWBXYdx+Y/",
          "dtype": "f8"
         },
         "yaxis": "y"
        },
        {
         "hovertemplate": "country=Jordan<br>year_month=%{x}<br>temperature_celsius=%{y}<extra></extra>",
         "legendgroup": "Jordan",
         "line": {
          "color": "#00cc96",
          "dash": "solid"
         },
         "marker": {
          "symbol": "circle"
         },
         "mode": "lines",
         "name": "Jordan",
         "orientation": "v",
         "showlegend": true,
         "type": "scatter",
         "x": [
          "2024-05-01T00:00:00.000000000",
          "2024-06-01T00:00:00.000000000",
          "2024-07-01T00:00:00.000000000"
         ],
         "xaxis": "x",
         "y": {
          "bdata": "ftSIR0Cx5j9jnO6YMMbpP4GgTySY7eg/",
          "dtype": "f8"
         },
         "yaxis": "y"
        },
        {
         "hovertemplate": "country=Kazakhstan<br>year_month=%{x}<br>temperature_celsius=%{y}<extra></extra>",
         "legendgroup": "Kazakhstan",
         "line": {
          "color": "#ab63fa",
          "dash": "solid"
         },
         "marker": {
          "symbol": "circle"
         },
         "mode": "lines",
         "name": "Kazakhstan",
         "orientation": "v",
         "showlegend": true,
         "type": "scatter",
         "x": [
          "2024-05-01T00:00:00.000000000",
          "2024-06-01T00:00:00.000000000",
          "2024-07-01T00:00:00.000000000"
         ],
         "xaxis": "x",
         "y": {
          "bdata": "yAy/C4bM4D8gKcSOMFTlP7ExBQz/T+U/",
          "dtype": "f8"
         },
         "yaxis": "y"
        },
        {
         "hovertemplate": "country=Kenya<br>year_month=%{x}<br>temperature_celsius=%{y}<extra></extra>",
         "legendgroup": "Kenya",
         "line": {
          "color": "#FFA15A",
          "dash": "solid"
         },
         "marker": {
          "symbol": "circle"
         },
         "mode": "lines",
         "name": "Kenya",
         "orientation": "v",
         "showlegend": true,
         "type": "scatter",
         "x": [
          "2024-05-01T00:00:00.000000000",
          "2024-06-01T00:00:00.000000000",
          "2024-07-01T00:00:00.000000000"
         ],
         "xaxis": "x",
         "y": {
          "bdata": "PaoL+jD+5D9auy//ynvkPxoI2MpNXuQ/",
          "dtype": "f8"
         },
         "yaxis": "y"
        },
        {
         "hovertemplate": "country=Kiribati<br>year_month=%{x}<br>temperature_celsius=%{y}<extra></extra>",
         "legendgroup": "Kiribati",
         "line": {
          "color": "#19d3f3",
          "dash": "solid"
         },
         "marker": {
          "symbol": "circle"
         },
         "mode": "lines",
         "name": "Kiribati",
         "orientation": "v",
         "showlegend": true,
         "type": "scatter",
         "x": [
          "2024-05-01T00:00:00.000000000",
          "2024-06-01T00:00:00.000000000",
          "2024-07-01T00:00:00.000000000"
         ],
         "xaxis": "x",
         "y": {
          "bdata": "CLXkIn9Q5z9NfB4RkzfnP5BxQcYFGec/",
          "dtype": "f8"
         },
         "yaxis": "y"
        },
        {
         "hovertemplate": "country=Kuwait<br>year_month=%{x}<br>temperature_celsius=%{y}<extra></extra>",
         "legendgroup": "Kuwait",
         "line": {
          "color": "#FF6692",
          "dash": "solid"
         },
         "marker": {
          "symbol": "circle"
         },
         "mode": "lines",
         "name": "Kuwait",
         "orientation": "v",
         "showlegend": true,
         "type": "scatter",
         "x": [
          "2024-05-01T00:00:00.000000000",
          "2024-06-01T00:00:00.000000000",
          "2024-07-01T00:00:00.000000000"
         ],
         "xaxis": "x",
         "y": {
          "bdata": "qfQ1PcyG6z8B3BBsBMDtP0JQn/P+1+0/",
          "dtype": "f8"
         },
         "yaxis": "y"
        },
        {
         "hovertemplate": "country=Kyrghyzstan<br>year_month=%{x}<br>temperature_celsius=%{y}<extra></extra>",
         "legendgroup": "Kyrghyzstan",
         "line": {
          "color": "#B6E880",
          "dash": "solid"
         },
         "marker": {
          "symbol": "circle"
         },
         "mode": "lines",
         "name": "Kyrghyzstan",
         "orientation": "v",
         "showlegend": true,
         "type": "scatter",
         "x": [
          "2024-05-01T00:00:00.000000000",
          "2024-06-01T00:00:00.000000000",
          "2024-07-01T00:00:00.000000000"
         ],
         "xaxis": "x",
         "y": {
          "bdata": "GM437h6W4T8lWGerSoLlP9Hr8sIGveY/",
          "dtype": "f8"
         },
         "yaxis": "y"
        },
        {
         "hovertemplate": "country=Latvia<br>year_month=%{x}<br>temperature_celsius=%{y}<extra></extra>",
         "legendgroup": "Latvia",
         "line": {
          "color": "#FF97FF",
          "dash": "solid"
         },
         "marker": {
          "symbol": "circle"
         },
         "mode": "lines",
         "name": "Latvia",
         "orientation": "v",
         "showlegend": true,
         "type": "scatter",
         "x": [
          "2024-05-01T00:00:00.000000000",
          "2024-06-01T00:00:00.000000000",
          "2024-07-01T00:00:00.000000000"
         ],
         "xaxis": "x",
         "y": {
          "bdata": "azcVvJVY5T9HPlAsdOTjP1xHcR3FdeQ/",
          "dtype": "f8"
         },
         "yaxis": "y"
        },
        {
         "hovertemplate": "country=Lebanon<br>year_month=%{x}<br>temperature_celsius=%{y}<extra></extra>",
         "legendgroup": "Lebanon",
         "line": {
          "color": "#FECB52",
          "dash": "solid"
         },
         "marker": {
          "symbol": "circle"
         },
         "mode": "lines",
         "name": "Lebanon",
         "orientation": "v",
         "showlegend": true,
         "type": "scatter",
         "x": [
          "2024-05-01T00:00:00.000000000",
          "2024-06-01T00:00:00.000000000",
          "2024-07-01T00:00:00.000000000"
         ],
         "xaxis": "x",
         "y": {
          "bdata": "npSTWhuG5T+8caIZtRvnPyP9PQgz0uc/",
          "dtype": "f8"
         },
         "yaxis": "y"
        },
        {
         "hovertemplate": "country=Lesotho<br>year_month=%{x}<br>temperature_celsius=%{y}<extra></extra>",
         "legendgroup": "Lesotho",
         "line": {
          "color": "#636efa",
          "dash": "solid"
         },
         "marker": {
          "symbol": "circle"
         },
         "mode": "lines",
         "name": "Lesotho",
         "orientation": "v",
         "showlegend": true,
         "type": "scatter",
         "x": [
          "2024-05-01T00:00:00.000000000",
          "2024-06-01T00:00:00.000000000",
          "2024-07-01T00:00:00.000000000"
         ],
         "xaxis": "x",
         "y": {
          "bdata": "EVtjKyXP4z9EFLApSkThP/2Vy+HLX+E/",
          "dtype": "f8"
         },
         "yaxis": "y"
        },
        {
         "hovertemplate": "country=Liberia<br>year_month=%{x}<br>temperature_celsius=%{y}<extra></extra>",
         "legendgroup": "Liberia",
         "line": {
          "color": "#EF553B",
          "dash": "solid"
         },
         "marker": {
          "symbol": "circle"
         },
         "mode": "lines",
         "name": "Liberia",
         "orientation": "v",
         "showlegend": true,
         "type": "scatter",
         "x": [
          "2024-05-01T00:00:00.000000000",
          "2024-06-01T00:00:00.000000000",
          "2024-07-01T00:00:00.000000000"
         ],
         "xaxis": "x",
         "y": {
          "bdata": "ZK18BWoD6D8OpfEEcQHnPxbOPXxzQuY/",
          "dtype": "f8"
         },
         "yaxis": "y"
        },
        {
         "hovertemplate": "country=Liechtenstein<br>year_month=%{x}<br>temperature_celsius=%{y}<extra></extra>",
         "legendgroup": "Liechtenstein",
         "line": {
          "color": "#00cc96",
          "dash": "solid"
         },
         "marker": {
          "symbol": "circle"
         },
         "mode": "lines",
         "name": "Liechtenstein",
         "orientation": "v",
         "showlegend": true,
         "type": "scatter",
         "x": [
          "2024-05-01T00:00:00.000000000",
          "2024-06-01T00:00:00.000000000",
          "2024-07-01T00:00:00.000000000"
         ],
         "xaxis": "x",
         "y": {
          "bdata": "2qkylzAl4j83Ox8ccbPjP2XHaKdAduQ/",
          "dtype": "f8"
         },
         "yaxis": "y"
        },
        {
         "hovertemplate": "country=Lithuania<br>year_month=%{x}<br>temperature_celsius=%{y}<extra></extra>",
         "legendgroup": "Lithuania",
         "line": {
          "color": "#ab63fa",
          "dash": "solid"
         },
         "marker": {
          "symbol": "circle"
         },
         "mode": "lines",
         "name": "Lithuania",
         "orientation": "v",
         "showlegend": true,
         "type": "scatter",
         "x": [
          "2024-05-01T00:00:00.000000000",
          "2024-06-01T00:00:00.000000000",
          "2024-07-01T00:00:00.000000000"
         ],
         "xaxis": "x",
         "y": {
          "bdata": "NW8gNG8g5D/vQnKd5C7kP2NNoHAy1uQ/",
          "dtype": "f8"
         },
         "yaxis": "y"
        },
        {
         "hovertemplate": "country=Luxembourg<br>year_month=%{x}<br>temperature_celsius=%{y}<extra></extra>",
         "legendgroup": "Luxembourg",
         "line": {
          "color": "#FFA15A",
          "dash": "solid"
         },
         "marker": {
          "symbol": "circle"
         },
         "mode": "lines",
         "name": "Luxembourg",
         "orientation": "v",
         "showlegend": true,
         "type": "scatter",
         "x": [
          "2024-05-01T00:00:00.000000000",
          "2024-06-01T00:00:00.000000000",
          "2024-07-01T00:00:00.000000000"
         ],
         "xaxis": "x",
         "y": {
          "bdata": "cg/ocQ/o4T/e+TLZSO3iP76/MbDa++M/",
          "dtype": "f8"
         },
         "yaxis": "y"
        },
        {
         "hovertemplate": "country=Macedonia<br>year_month=%{x}<br>temperature_celsius=%{y}<extra></extra>",
         "legendgroup": "Macedonia",
         "line": {
          "color": "#19d3f3",
          "dash": "solid"
         },
         "marker": {
          "symbol": "circle"
         },
         "mode": "lines",
         "name": "Macedonia",
         "orientation": "v",
         "showlegend": true,
         "type": "scatter",
         "x": [
          "2024-05-01T00:00:00.000000000",
          "2024-06-01T00:00:00.000000000",
          "2024-07-01T00:00:00.000000000"
         ],
         "xaxis": "x",
         "y": {
          "bdata": "qFsaE4TJ5D80Dtio0ynpP9adVnda3ek/",
          "dtype": "f8"
         },
         "yaxis": "y"
        },
        {
         "hovertemplate": "country=Madagascar<br>year_month=%{x}<br>temperature_celsius=%{y}<extra></extra>",
         "legendgroup": "Madagascar",
         "line": {
          "color": "#FF6692",
          "dash": "solid"
         },
         "marker": {
          "symbol": "circle"
         },
         "mode": "lines",
         "name": "Madagascar",
         "orientation": "v",
         "showlegend": true,
         "type": "scatter",
         "x": [
          "2024-05-01T00:00:00.000000000",
          "2024-06-01T00:00:00.000000000",
          "2024-07-01T00:00:00.000000000"
         ],
         "xaxis": "x",
         "y": {
          "bdata": "niAvTcLr4z9qEY72ShLkPxpKlvQ2eeU/",
          "dtype": "f8"
         },
         "yaxis": "y"
        },
        {
         "hovertemplate": "country=Malawi<br>year_month=%{x}<br>temperature_celsius=%{y}<extra></extra>",
         "legendgroup": "Malawi",
         "line": {
          "color": "#B6E880",
          "dash": "solid"
         },
         "marker": {
          "symbol": "circle"
         },
         "mode": "lines",
         "name": "Malawi",
         "orientation": "v",
         "showlegend": true,
         "type": "scatter",
         "x": [
          "2024-05-01T00:00:00.000000000",
          "2024-06-01T00:00:00.000000000",
          "2024-07-01T00:00:00.000000000"
         ],
         "xaxis": "x",
         "y": {
          "bdata": "wR0oYtqu5D9NT+ePyPTkPyPEsKqIMOY/",
          "dtype": "f8"
         },
         "yaxis": "y"
        },
        {
         "hovertemplate": "country=Malaysia<br>year_month=%{x}<br>temperature_celsius=%{y}<extra></extra>",
         "legendgroup": "Malaysia",
         "line": {
          "color": "#FF97FF",
          "dash": "solid"
         },
         "marker": {
          "symbol": "circle"
         },
         "mode": "lines",
         "name": "Malaysia",
         "orientation": "v",
         "showlegend": true,
         "type": "scatter",
         "x": [
          "2024-05-01T00:00:00.000000000",
          "2024-06-01T00:00:00.000000000",
          "2024-07-01T00:00:00.000000000"
         ],
         "xaxis": "x",
         "y": {
          "bdata": "LeWHfUPL5j85aLkqg4PmPxzvKUBWOOc/",
          "dtype": "f8"
         },
         "yaxis": "y"
        },
        {
         "hovertemplate": "country=Maldives<br>year_month=%{x}<br>temperature_celsius=%{y}<extra></extra>",
         "legendgroup": "Maldives",
         "line": {
          "color": "#FECB52",
          "dash": "solid"
         },
         "marker": {
          "symbol": "circle"
         },
         "mode": "lines",
         "name": "Maldives",
         "orientation": "v",
         "showlegend": true,
         "type": "scatter",
         "x": [
          "2024-05-01T00:00:00.000000000",
          "2024-06-01T00:00:00.000000000",
          "2024-07-01T00:00:00.000000000"
         ],
         "xaxis": "x",
         "y": {
          "bdata": "6ieEVVAz5z/J8V94kxznPybxznVPEuc/",
          "dtype": "f8"
         },
         "yaxis": "y"
        },
        {
         "hovertemplate": "country=Mali<br>year_month=%{x}<br>temperature_celsius=%{y}<extra></extra>",
         "legendgroup": "Mali",
         "line": {
          "color": "#636efa",
          "dash": "solid"
         },
         "marker": {
          "symbol": "circle"
         },
         "mode": "lines",
         "name": "Mali",
         "orientation": "v",
         "showlegend": true,
         "type": "scatter",
         "x": [
          "2024-05-01T00:00:00.000000000",
          "2024-06-01T00:00:00.000000000",
          "2024-07-01T00:00:00.000000000"
         ],
         "xaxis": "x",
         "y": {
          "bdata": "DDTjhEHI6j8Mnhb+uODpP/kxbVKJiec/",
          "dtype": "f8"
         },
         "yaxis": "y"
        },
        {
         "hovertemplate": "country=Malta<br>year_month=%{x}<br>temperature_celsius=%{y}<extra></extra>",
         "legendgroup": "Malta",
         "line": {
          "color": "#EF553B",
          "dash": "solid"
         },
         "marker": {
          "symbol": "circle"
         },
         "mode": "lines",
         "name": "Malta",
         "orientation": "v",
         "showlegend": true,
         "type": "scatter",
         "x": [
          "2024-05-01T00:00:00.000000000",
          "2024-06-01T00:00:00.000000000",
          "2024-07-01T00:00:00.000000000"
         ],
         "xaxis": "x",
         "y": {
          "bdata": "YnCOAy0V5j+wcShs+BrnP5a/DsqvHOg/",
          "dtype": "f8"
         },
         "yaxis": "y"
        },
        {
         "hovertemplate": "country=Marshall Islands<br>year_month=%{x}<br>temperature_celsius=%{y}<extra></extra>",
         "legendgroup": "Marshall Islands",
         "line": {
          "color": "#00cc96",
          "dash": "solid"
         },
         "marker": {
          "symbol": "circle"
         },
         "mode": "lines",
         "name": "Marshall Islands",
         "orientation": "v",
         "showlegend": true,
         "type": "scatter",
         "x": [
          "2024-05-01T00:00:00.000000000",
          "2024-06-01T00:00:00.000000000",
          "2024-07-01T00:00:00.000000000"
         ],
         "xaxis": "x",
         "y": {
          "bdata": "8G8MrPb+5j+RbzxAEfnmPxqCx+UoB+c/",
          "dtype": "f8"
         },
         "yaxis": "y"
        },
        {
         "hovertemplate": "country=Mauritania<br>year_month=%{x}<br>temperature_celsius=%{y}<extra></extra>",
         "legendgroup": "Mauritania",
         "line": {
          "color": "#ab63fa",
          "dash": "solid"
         },
         "marker": {
          "symbol": "circle"
         },
         "mode": "lines",
         "name": "Mauritania",
         "orientation": "v",
         "showlegend": true,
         "type": "scatter",
         "x": [
          "2024-05-01T00:00:00.000000000",
          "2024-06-01T00:00:00.000000000",
          "2024-07-01T00:00:00.000000000"
         ],
         "xaxis": "x",
         "y": {
          "bdata": "JKqct4Ht5T+maX8sXJrmP3waYbmnEeY/",
          "dtype": "f8"
         },
         "yaxis": "y"
        },
        {
         "hovertemplate": "country=Mauritius<br>year_month=%{x}<br>temperature_celsius=%{y}<extra></extra>",
         "legendgroup": "Mauritius",
         "line": {
          "color": "#FFA15A",
          "dash": "solid"
         },
         "marker": {
          "symbol": "circle"
         },
         "mode": "lines",
         "name": "Mauritius",
         "orientation": "v",
         "showlegend": true,
         "type": "scatter",
         "x": [
          "2024-05-01T00:00:00.000000000",
          "2024-06-01T00:00:00.000000000",
          "2024-07-01T00:00:00.000000000"
         ],
         "xaxis": "x",
         "y": {
          "bdata": "XQUYGowK5T+wTTnY/NrkP8lDJrTOyeQ/",
          "dtype": "f8"
         },
         "yaxis": "y"
        },
        {
         "hovertemplate": "country=Mexico<br>year_month=%{x}<br>temperature_celsius=%{y}<extra></extra>",
         "legendgroup": "Mexico",
         "line": {
          "color": "#19d3f3",
          "dash": "solid"
         },
         "marker": {
          "symbol": "circle"
         },
         "mode": "lines",
         "name": "Mexico",
         "orientation": "v",
         "showlegend": true,
         "type": "scatter",
         "x": [
          "2024-05-01T00:00:00.000000000",
          "2024-06-01T00:00:00.000000000",
          "2024-07-01T00:00:00.000000000"
         ],
         "xaxis": "x",
         "y": {
          "bdata": "H8vBwIdI4z92Ju7UaWfiP2KSTpgmJuE/",
          "dtype": "f8"
         },
         "yaxis": "y"
        },
        {
         "hovertemplate": "country=Micronesia<br>year_month=%{x}<br>temperature_celsius=%{y}<extra></extra>",
         "legendgroup": "Micronesia",
         "line": {
          "color": "#FF6692",
          "dash": "solid"
         },
         "marker": {
          "symbol": "circle"
         },
         "mode": "lines",
         "name": "Micronesia",
         "orientation": "v",
         "showlegend": true,
         "type": "scatter",
         "x": [
          "2024-05-01T00:00:00.000000000",
          "2024-06-01T00:00:00.000000000",
          "2024-07-01T00:00:00.000000000"
         ],
         "xaxis": "x",
         "y": {
          "bdata": "M+kZkSyT5j9YRAd+fXrmPzJo/NMkg+Y/",
          "dtype": "f8"
         },
         "yaxis": "y"
        },
        {
         "hovertemplate": "country=Monaco<br>year_month=%{x}<br>temperature_celsius=%{y}<extra></extra>",
         "legendgroup": "Monaco",
         "line": {
          "color": "#B6E880",
          "dash": "solid"
         },
         "marker": {
          "symbol": "circle"
         },
         "mode": "lines",
         "name": "Monaco",
         "orientation": "v",
         "showlegend": true,
         "type": "scatter",
         "x": [
          "2024-05-01T00:00:00.000000000",
          "2024-06-01T00:00:00.000000000",
          "2024-07-01T00:00:00.000000000"
         ],
         "xaxis": "x",
         "y": {
          "bdata": "z7Qj92PF4z+z9txMjO/kPwVmD5g9YOY/",
          "dtype": "f8"
         },
         "yaxis": "y"
        },
        {
         "hovertemplate": "country=Mongolia<br>year_month=%{x}<br>temperature_celsius=%{y}<extra></extra>",
         "legendgroup": "Mongolia",
         "line": {
          "color": "#FF97FF",
          "dash": "solid"
         },
         "marker": {
          "symbol": "circle"
         },
         "mode": "lines",
         "name": "Mongolia",
         "orientation": "v",
         "showlegend": true,
         "type": "scatter",
         "x": [
          "2024-05-01T00:00:00.000000000",
          "2024-06-01T00:00:00.000000000",
          "2024-07-01T00:00:00.000000000"
         ],
         "xaxis": "x",
         "y": {
          "bdata": "C8rCM3lk4D/uFdiO0l7hP8u3fMu3fOM/",
          "dtype": "f8"
         },
         "yaxis": "y"
        },
        {
         "hovertemplate": "country=Montenegro<br>year_month=%{x}<br>temperature_celsius=%{y}<extra></extra>",
         "legendgroup": "Montenegro",
         "line": {
          "color": "#FECB52",
          "dash": "solid"
         },
         "marker": {
          "symbol": "circle"
         },
         "mode": "lines",
         "name": "Montenegro",
         "orientation": "v",
         "showlegend": true,
         "type": "scatter",
         "x": [
          "2024-05-01T00:00:00.000000000",
          "2024-06-01T00:00:00.000000000",
          "2024-07-01T00:00:00.000000000"
         ],
         "xaxis": "x",
         "y": {
          "bdata": "/+MZroXW5D934MZqzfXnPzqHOVMWjuk/",
          "dtype": "f8"
         },
         "yaxis": "y"
        },
        {
         "hovertemplate": "country=Morocco<br>year_month=%{x}<br>temperature_celsius=%{y}<extra></extra>",
         "legendgroup": "Morocco",
         "line": {
          "color": "#636efa",
          "dash": "solid"
         },
         "marker": {
          "symbol": "circle"
         },
         "mode": "lines",
         "name": "Morocco",
         "orientation": "v",
         "showlegend": true,
         "type": "scatter",
         "x": [
          "2024-05-01T00:00:00.000000000",
          "2024-06-01T00:00:00.000000000",
          "2024-07-01T00:00:00.000000000"
         ],
         "xaxis": "x",
         "y": {
          "bdata": "oYNHXQo65D92TxLvXPfkP2rcWoWmxuU/",
          "dtype": "f8"
         },
         "yaxis": "y"
        },
        {
         "hovertemplate": "country=Mozambique<br>year_month=%{x}<br>temperature_celsius=%{y}<extra></extra>",
         "legendgroup": "Mozambique",
         "line": {
          "color": "#EF553B",
          "dash": "solid"
         },
         "marker": {
          "symbol": "circle"
         },
         "mode": "lines",
         "name": "Mozambique",
         "orientation": "v",
         "showlegend": true,
         "type": "scatter",
         "x": [
          "2024-05-01T00:00:00.000000000",
          "2024-06-01T00:00:00.000000000",
          "2024-07-01T00:00:00.000000000"
         ],
         "xaxis": "x",
         "y": {
          "bdata": "E3G0LTsg5j+UVjOhO2nlPzffv3YQOuY/",
          "dtype": "f8"
         },
         "yaxis": "y"
        },
        {
         "hovertemplate": "country=Myanmar<br>year_month=%{x}<br>temperature_celsius=%{y}<extra></extra>",
         "legendgroup": "Myanmar",
         "line": {
          "color": "#00cc96",
          "dash": "solid"
         },
         "marker": {
          "symbol": "circle"
         },
         "mode": "lines",
         "name": "Myanmar",
         "orientation": "v",
         "showlegend": true,
         "type": "scatter",
         "x": [
          "2024-05-01T00:00:00.000000000",
          "2024-06-01T00:00:00.000000000",
          "2024-07-01T00:00:00.000000000"
         ],
         "xaxis": "x",
         "y": {
          "bdata": "3r4QqCo55z9TaSluM5XmP637Gpe0WeY/",
          "dtype": "f8"
         },
         "yaxis": "y"
        },
        {
         "hovertemplate": "country=Namibia<br>year_month=%{x}<br>temperature_celsius=%{y}<extra></extra>",
         "legendgroup": "Namibia",
         "line": {
          "color": "#ab63fa",
          "dash": "solid"
         },
         "marker": {
          "symbol": "circle"
         },
         "mode": "lines",
         "name": "Namibia",
         "orientation": "v",
         "showlegend": true,
         "type": "scatter",
         "x": [
          "2024-05-01T00:00:00.000000000",
          "2024-06-01T00:00:00.000000000",
          "2024-07-01T00:00:00.000000000"
         ],
         "xaxis": "x",
         "y": {
          "bdata": "QHOV7hRS5T8s9VzVqrzjP8dpYf9zZ+Q/",
          "dtype": "f8"
         },
         "yaxis": "y"
        },
        {
         "hovertemplate": "country=Nepal<br>year_month=%{x}<br>temperature_celsius=%{y}<extra></extra>",
         "legendgroup": "Nepal",
         "line": {
          "color": "#FFA15A",
          "dash": "solid"
         },
         "marker": {
          "symbol": "circle"
         },
         "mode": "lines",
         "name": "Nepal",
         "orientation": "v",
         "showlegend": true,
         "type": "scatter",
         "x": [
          "2024-05-01T00:00:00.000000000",
          "2024-06-01T00:00:00.000000000",
          "2024-07-01T00:00:00.000000000"
         ],
         "xaxis": "x",
         "y": {
          "bdata": "npSTWhuG5T/jXH13NM7lP8XQ/gdKDOU/",
          "dtype": "f8"
         },
         "yaxis": "y"
        },
        {
         "hovertemplate": "country=Netherlands<br>year_month=%{x}<br>temperature_celsius=%{y}<extra></extra>",
         "legendgroup": "Netherlands",
         "line": {
          "color": "#19d3f3",
          "dash": "solid"
         },
         "marker": {
          "symbol": "circle"
         },
         "mode": "lines",
         "name": "Netherlands",
         "orientation": "v",
         "showlegend": true,
         "type": "scatter",
         "x": [
          "2024-05-01T00:00:00.000000000",
          "2024-06-01T00:00:00.000000000"
         ],
         "xaxis": "x",
         "y": {
          "bdata": "Gzmu17+g4j/wLGMK987iPw==",
          "dtype": "f8"
         },
         "yaxis": "y"
        },
        {
         "hovertemplate": "country=New Zealand<br>year_month=%{x}<br>temperature_celsius=%{y}<extra></extra>",
         "legendgroup": "New Zealand",
         "line": {
          "color": "#FF6692",
          "dash": "solid"
         },
         "marker": {
          "symbol": "circle"
         },
         "mode": "lines",
         "name": "New Zealand",
         "orientation": "v",
         "showlegend": true,
         "type": "scatter",
         "x": [
          "2024-05-01T00:00:00.000000000",
          "2024-06-01T00:00:00.000000000"
         ],
         "xaxis": "x",
         "y": {
          "bdata": "M+kZkSyT3j/w6blo957ePw==",
          "dtype": "f8"
         },
         "yaxis": "y"
        },
        {
         "hovertemplate": "country=Nicaragua<br>year_month=%{x}<br>temperature_celsius=%{y}<extra></extra>",
         "legendgroup": "Nicaragua",
         "line": {
          "color": "#B6E880",
          "dash": "solid"
         },
         "marker": {
          "symbol": "circle"
         },
         "mode": "lines",
         "name": "Nicaragua",
         "orientation": "v",
         "showlegend": true,
         "type": "scatter",
         "x": [
          "2024-05-01T00:00:00.000000000",
          "2024-06-01T00:00:00.000000000"
         ],
         "xaxis": "x",
         "y": {
          "bdata": "YBtpHKJb5z/cZO+ytU3mPw==",
          "dtype": "f8"
         },
         "yaxis": "y"
        },
        {
         "hovertemplate": "country=Niger<br>year_month=%{x}<br>temperature_celsius=%{y}<extra></extra>",
         "legendgroup": "Niger",
         "line": {
          "color": "#FF97FF",
          "dash": "solid"
         },
         "marker": {
          "symbol": "circle"
         },
         "mode": "lines",
         "name": "Niger",
         "orientation": "v",
         "showlegend": true,
         "type": "scatter",
         "x": [
          "2024-05-01T00:00:00.000000000",
          "2024-06-01T00:00:00.000000000"
         ],
         "xaxis": "x",
         "y": {
          "bdata": "JWpV4fBH7D/rrcNwoN7qPw==",
          "dtype": "f8"
         },
         "yaxis": "y"
        },
        {
         "hovertemplate": "country=Nigeria<br>year_month=%{x}<br>temperature_celsius=%{y}<extra></extra>",
         "legendgroup": "Nigeria",
         "line": {
          "color": "#FECB52",
          "dash": "solid"
         },
         "marker": {
          "symbol": "circle"
         },
         "mode": "lines",
         "name": "Nigeria",
         "orientation": "v",
         "showlegend": true,
         "type": "scatter",
         "x": [
          "2024-05-01T00:00:00.000000000",
          "2024-06-01T00:00:00.000000000"
         ],
         "xaxis": "x",
         "y": {
          "bdata": "Akcyvs0k6T+jexjLKrrnPw==",
          "dtype": "f8"
         },
         "yaxis": "y"
        },
        {
         "hovertemplate": "country=North Korea<br>year_month=%{x}<br>temperature_celsius=%{y}<extra></extra>",
         "legendgroup": "North Korea",
         "line": {
          "color": "#636efa",
          "dash": "solid"
         },
         "marker": {
          "symbol": "circle"
         },
         "mode": "lines",
         "name": "North Korea",
         "orientation": "v",
         "showlegend": true,
         "type": "scatter",
         "x": [
          "2024-05-01T00:00:00.000000000",
          "2024-06-01T00:00:00.000000000"
         ],
         "xaxis": "x",
         "y": {
          "bdata": "IxAOnB3z4T8kOa2dRpLjPw==",
          "dtype": "f8"
         },
         "yaxis": "y"
        },
        {
         "hovertemplate": "country=Norway<br>year_month=%{x}<br>temperature_celsius=%{y}<extra></extra>",
         "legendgroup": "Norway",
         "line": {
          "color": "#EF553B",
          "dash": "solid"
         },
         "marker": {
          "symbol": "circle"
         },
         "mode": "lines",
         "name": "Norway",
         "orientation": "v",
         "showlegend": true,
         "type": "scatter",
         "x": [
          "2024-05-01T00:00:00.000000000",
          "2024-06-01T00:00:00.000000000"
         ],
         "xaxis": "x",
         "y": {
          "bdata": "MASqSs4V4z9nBj4xcmbgPw==",
          "dtype": "f8"
         },
         "yaxis": "y"
        },
        {
         "hovertemplate": "country=Oman<br>year_month=%{x}<br>temperature_celsius=%{y}<extra></extra>",
         "legendgroup": "Oman",
         "line": {
          "color": "#00cc96",
          "dash": "solid"
         },
         "marker": {
          "symbol": "circle"
         },
         "mode": "lines",
         "name": "Oman",
         "orientation": "v",
         "showlegend": true,
         "type": "scatter",
         "x": [
          "2024-05-01T00:00:00.000000000",
          "2024-06-01T00:00:00.000000000"
         ],
         "xaxis": "x",
         "y": {
          "bdata": "BZvkszyh6j+Cqn9LFqjqPw==",
          "dtype": "f8"
         },
         "yaxis": "y"
        },
        {
         "hovertemplate": "country=Pakistan<br>year_month=%{x}<br>temperature_celsius=%{y}<extra></extra>",
         "legendgroup": "Pakistan",
         "line": {
          "color": "#ab63fa",
          "dash": "solid"
         },
         "marker": {
          "symbol": "circle"
         },
         "mode": "lines",
         "name": "Pakistan",
         "orientation": "v",
         "showlegend": true,
         "type": "scatter",
         "x": [
          "2024-05-01T00:00:00.000000000",
          "2024-06-01T00:00:00.000000000"
         ],
         "xaxis": "x",
         "y": {
          "bdata": "Tj8hrIKa6T/RqVkhCJ3qPw==",
          "dtype": "f8"
         },
         "yaxis": "y"
        },
        {
         "hovertemplate": "country=Palau<br>year_month=%{x}<br>temperature_celsius=%{y}<extra></extra>",
         "legendgroup": "Palau",
         "line": {
          "color": "#FFA15A",
          "dash": "solid"
         },
         "marker": {
          "symbol": "circle"
         },
         "mode": "lines",
         "name": "Palau",
         "orientation": "v",
         "showlegend": true,
         "type": "scatter",
         "x": [
          "2024-05-01T00:00:00.000000000",
          "2024-06-01T00:00:00.000000000"
         ],
         "xaxis": "x",
         "y": {
          "bdata": "nGYLc7dp5j9PmWs4gEXmPw==",
          "dtype": "f8"
         },
         "yaxis": "y"
        },
        {
         "hovertemplate": "country=Panama<br>year_month=%{x}<br>temperature_celsius=%{y}<extra></extra>",
         "legendgroup": "Panama",
         "line": {
          "color": "#19d3f3",
          "dash": "solid"
         },
         "marker": {
          "symbol": "circle"
         },
         "mode": "lines",
         "name": "Panama",
         "orientation": "v",
         "showlegend": true,
         "type": "scatter",
         "x": [
          "2024-05-01T00:00:00.000000000",
          "2024-06-01T00:00:00.000000000"
         ],
         "xaxis": "x",
         "y": {
          "bdata": "CLoGgcfr5j9patxahabmPw==",
          "dtype": "f8"
         },
         "yaxis": "y"
        },
        {
         "hovertemplate": "country=Papua New Guinea<br>year_month=%{x}<br>temperature_celsius=%{y}<extra></extra>",
         "legendgroup": "Papua New Guinea",
         "line": {
          "color": "#FF6692",
          "dash": "solid"
         },
         "marker": {
          "symbol": "circle"
         },
         "mode": "lines",
         "name": "Papua New Guinea",
         "orientation": "v",
         "showlegend": true,
         "type": "scatter",
         "x": [
          "2024-05-01T00:00:00.000000000",
          "2024-06-01T00:00:00.000000000"
         ],
         "xaxis": "x",
         "y": {
          "bdata": "Mp3FdBbT5T8T3dk5G4/lPw==",
          "dtype": "f8"
         },
         "yaxis": "y"
        },
        {
         "hovertemplate": "country=Paraguay<br>year_month=%{x}<br>temperature_celsius=%{y}<extra></extra>",
         "legendgroup": "Paraguay",
         "line": {
          "color": "#B6E880",
          "dash": "solid"
         },
         "marker": {
          "symbol": "circle"
         },
         "mode": "lines",
         "name": "Paraguay",
         "orientation": "v",
         "showlegend": true,
         "type": "scatter",
         "x": [
          "2024-05-01T00:00:00.000000000",
          "2024-06-01T00:00:00.000000000"
         ],
         "xaxis": "x",
         "y": {
          "bdata": "9+aP2xwk4z/NWY8Q05zlPw==",
          "dtype": "f8"
         },
         "yaxis": "y"
        },
        {
         "hovertemplate": "country=Peru<br>year_month=%{x}<br>temperature_celsius=%{y}<extra></extra>",
         "legendgroup": "Peru",
         "line": {
          "color": "#FF97FF",
          "dash": "solid"
         },
         "marker": {
          "symbol": "circle"
         },
         "mode": "lines",
         "name": "Peru",
         "orientation": "v",
         "showlegend": true,
         "type": "scatter",
         "x": [
          "2024-05-01T00:00:00.000000000",
          "2024-06-01T00:00:00.000000000"
         ],
         "xaxis": "x",
         "y": {
          "bdata": "xLCuPL6T4j90InjgSifiPw==",
          "dtype": "f8"
         },
         "yaxis": "y"
        },
        {
         "hovertemplate": "country=Philippines<br>year_month=%{x}<br>temperature_celsius=%{y}<extra></extra>",
         "legendgroup": "Philippines",
         "line": {
          "color": "#FECB52",
          "dash": "solid"
         },
         "marker": {
          "symbol": "circle"
         },
         "mode": "lines",
         "name": "Philippines",
         "orientation": "v",
         "showlegend": true,
         "type": "scatter",
         "x": [
          "2024-05-01T00:00:00.000000000",
          "2024-06-01T00:00:00.000000000"
         ],
         "xaxis": "x",
         "y": {
          "bdata": "7f2NgdXe5z9qc4fVmzbnPw==",
          "dtype": "f8"
         },
         "yaxis": "y"
        },
        {
         "hovertemplate": "country=Poland<br>year_month=%{x}<br>temperature_celsius=%{y}<extra></extra>",
         "legendgroup": "Poland",
         "line": {
          "color": "#636efa",
          "dash": "solid"
         },
         "marker": {
          "symbol": "circle"
         },
         "mode": "lines",
         "name": "Poland",
         "orientation": "v",
         "showlegend": true,
         "type": "scatter",
         "x": [
          "2024-05-01T00:00:00.000000000",
          "2024-06-01T00:00:00.000000000"
         ],
         "xaxis": "x",
         "y": {
          "bdata": "rvQY5Ijw5D99UQrAyhflPw==",
          "dtype": "f8"
         },
         "yaxis": "y"
        },
        {
         "hovertemplate": "country=Portugal<br>year_month=%{x}<br>temperature_celsius=%{y}<extra></extra>",
         "legendgroup": "Portugal",
         "line": {
          "color": "#EF553B",
          "dash": "solid"
         },
         "marker": {
          "symbol": "circle"
         },
         "mode": "lines",
         "name": "Portugal",
         "orientation": "v",
         "showlegend": true,
         "type": "scatter",
         "x": [
          "2024-05-01T00:00:00.000000000",
          "2024-06-01T00:00:00.000000000"
         ],
         "xaxis": "x",
         "y": {
          "bdata": "UNMaeIK85D9XTSbDddXkPw==",
          "dtype": "f8"
         },
         "yaxis": "y"
        },
        {
         "hovertemplate": "country=Qatar<br>year_month=%{x}<br>temperature_celsius=%{y}<extra></extra>",
         "legendgroup": "Qatar",
         "line": {
          "color": "#00cc96",
          "dash": "solid"
         },
         "marker": {
          "symbol": "circle"
         },
         "mode": "lines",
         "name": "Qatar",
         "orientation": "v",
         "showlegend": true,
         "type": "scatter",
         "x": [
          "2024-05-01T00:00:00.000000000",
          "2024-06-01T00:00:00.000000000"
         ],
         "xaxis": "x",
         "y": {
          "bdata": "DDTjhEHI6j+XuRI5dpnrPw==",
          "dtype": "f8"
         },
         "yaxis": "y"
        },
        {
         "hovertemplate": "country=Romania<br>year_month=%{x}<br>temperature_celsius=%{y}<extra></extra>",
         "legendgroup": "Romania",
         "line": {
          "color": "#ab63fa",
          "dash": "solid"
         },
         "marker": {
          "symbol": "circle"
         },
         "mode": "lines",
         "name": "Romania",
         "orientation": "v",
         "showlegend": true,
         "type": "scatter",
         "x": [
          "2024-05-01T00:00:00.000000000",
          "2024-06-01T00:00:00.000000000"
         ],
         "xaxis": "x",
         "y": {
          "bdata": "8rEcDHyI5D/1hxMQUn/oPw==",
          "dtype": "f8"
         },
         "yaxis": "y"
        },
        {
         "hovertemplate": "country=Russia<br>year_month=%{x}<br>temperature_celsius=%{y}<extra></extra>",
         "legendgroup": "Russia",
         "line": {
          "color": "#FFA15A",
          "dash": "solid"
         },
         "marker": {
          "symbol": "circle"
         },
         "mode": "lines",
         "name": "Russia",
         "orientation": "v",
         "showlegend": true,
         "type": "scatter",
         "x": [
          "2024-05-01T00:00:00.000000000",
          "2024-06-01T00:00:00.000000000"
         ],
         "xaxis": "x",
         "y": {
          "bdata": "6hgeO3dh5D+tRsfyx2rkPw==",
          "dtype": "f8"
         },
         "yaxis": "y"
        },
        {
         "hovertemplate": "country=Rwanda<br>year_month=%{x}<br>temperature_celsius=%{y}<extra></extra>",
         "legendgroup": "Rwanda",
         "line": {
          "color": "#19d3f3",
          "dash": "solid"
         },
         "marker": {
          "symbol": "circle"
         },
         "mode": "lines",
         "name": "Rwanda",
         "orientation": "v",
         "showlegend": true,
         "type": "scatter",
         "x": [
          "2024-05-01T00:00:00.000000000",
          "2024-06-01T00:00:00.000000000"
         ],
         "xaxis": "x",
         "y": {
          "bdata": "7FUMPbRP5j9wYmofBCfmPw==",
          "dtype": "f8"
         },
         "yaxis": "y"
        },
        {
         "hovertemplate": "country=Saint Kitts and Nevis<br>year_month=%{x}<br>temperature_celsius=%{y}<extra></extra>",
         "legendgroup": "Saint Kitts and Nevis",
         "line": {
          "color": "#FF6692",
          "dash": "solid"
         },
         "marker": {
          "symbol": "circle"
         },
         "mode": "lines",
         "name": "Saint Kitts and Nevis",
         "orientation": "v",
         "showlegend": true,
         "type": "scatter",
         "x": [
          "2024-05-01T00:00:00.000000000",
          "2024-06-01T00:00:00.000000000"
         ],
         "xaxis": "x",
         "y": {
          "bdata": "p2qALV2b5z/nfLNtb87nPw==",
          "dtype": "f8"
         },
         "yaxis": "y"
        },
        {
         "hovertemplate": "country=Saint Lucia<br>year_month=%{x}<br>temperature_celsius=%{y}<extra></extra>",
         "legendgroup": "Saint Lucia",
         "line": {
          "color": "#B6E880",
          "dash": "solid"
         },
         "marker": {
          "symbol": "circle"
         },
         "mode": "lines",
         "name": "Saint Lucia",
         "orientation": "v",
         "showlegend": true,
         "type": "scatter",
         "x": [
          "2024-05-01T00:00:00.000000000",
          "2024-06-01T00:00:00.000000000"
         ],
         "xaxis": "x",
         "y": {
          "bdata": "Krf/ld+u5z9VeUTpUJXnPw==",
          "dtype": "f8"
         },
         "yaxis": "y"
        },
        {
         "hovertemplate": "country=Saint Vincent and the Grenadines<br>year_month=%{x}<br>temperature_celsius=%{y}<extra></extra>",
         "legendgroup": "Saint Vincent and the Grenadines",
         "line": {
          "color": "#FF97FF",
          "dash": "solid"
         },
         "marker": {
          "symbol": "circle"
         },
         "mode": "lines",
         "name": "Saint Vincent and the Grenadines",
         "orientation": "v",
         "showlegend": true,
         "type": "scatter",
         "x": [
          "2024-05-01T00:00:00.000000000",
          "2024-06-01T00:00:00.000000000"
         ],
         "xaxis": "x",
         "y": {
          "bdata": "j5iZ0hGn5z9Jd4/BhHTnPw==",
          "dtype": "f8"
         },
         "yaxis": "y"
        },
        {
         "hovertemplate": "country=Samoa<br>year_month=%{x}<br>temperature_celsius=%{y}<extra></extra>",
         "legendgroup": "Samoa",
         "line": {
          "color": "#FECB52",
          "dash": "solid"
         },
         "marker": {
          "symbol": "circle"
         },
         "mode": "lines",
         "name": "Samoa",
         "orientation": "v",
         "showlegend": true,
         "type": "scatter",
         "x": [
          "2024-05-01T00:00:00.000000000",
          "2024-06-01T00:00:00.000000000"
         ],
         "xaxis": "x",
         "y": {
          "bdata": "Zx6IPm/m5T/5XTBkht/lPw==",
          "dtype": "f8"
         },
         "yaxis": "y"
        },
        {
         "hovertemplate": "country=San Marino<br>year_month=%{x}<br>temperature_celsius=%{y}<extra></extra>",
         "legendgroup": "San Marino",
         "line": {
          "color": "#636efa",
          "dash": "solid"
         },
         "marker": {
          "symbol": "circle"
         },
         "mode": "lines",
         "name": "San Marino",
         "orientation": "v",
         "showlegend": true,
         "type": "scatter",
         "x": [
          "2024-05-01T00:00:00.000000000",
          "2024-06-01T00:00:00.000000000"
         ],
         "xaxis": "x",
         "y": {
          "bdata": "UwGjX+bY4z8RsryTqsvlPw==",
          "dtype": "f8"
         },
         "yaxis": "y"
        },
        {
         "hovertemplate": "country=Saudi Arabia<br>year_month=%{x}<br>temperature_celsius=%{y}<extra></extra>",
         "legendgroup": "Saudi Arabia",
         "line": {
          "color": "#EF553B",
          "dash": "solid"
         },
         "marker": {
          "symbol": "circle"
         },
         "mode": "lines",
         "name": "Saudi Arabia",
         "orientation": "v",
         "showlegend": true,
         "type": "scatter",
         "x": [
          "2024-05-01T00:00:00.000000000",
          "2024-06-01T00:00:00.000000000"
         ],
         "xaxis": "x",
         "y": {
          "bdata": "HtFWEOwg7D+z2TyKKpvtPw==",
          "dtype": "f8"
         },
         "yaxis": "y"
        },
        {
         "hovertemplate": "country=Senegal<br>year_month=%{x}<br>temperature_celsius=%{y}<extra></extra>",
         "legendgroup": "Senegal",
         "line": {
          "color": "#00cc96",
          "dash": "solid"
         },
         "marker": {
          "symbol": "circle"
         },
         "mode": "lines",
         "name": "Senegal",
         "orientation": "v",
         "showlegend": true,
         "type": "scatter",
         "x": [
          "2024-05-01T00:00:00.000000000",
          "2024-06-01T00:00:00.000000000"
         ],
         "xaxis": "x",
         "y": {
          "bdata": "lc0MorJC5j+Sage6GanmPw==",
          "dtype": "f8"
         },
         "yaxis": "y"
        },
        {
         "hovertemplate": "country=Serbia<br>year_month=%{x}<br>temperature_celsius=%{y}<extra></extra>",
         "legendgroup": "Serbia",
         "line": {
          "color": "#ab63fa",
          "dash": "solid"
         },
         "marker": {
          "symbol": "circle"
         },
         "mode": "lines",
         "name": "Serbia",
         "orientation": "v",
         "showlegend": true,
         "type": "scatter",
         "x": [
          "2024-05-01T00:00:00.000000000",
          "2024-06-01T00:00:00.000000000"
         ],
         "xaxis": "x",
         "y": {
          "bdata": "XgUYGowK5T+qdqCbkWrnPw==",
          "dtype": "f8"
         },
         "yaxis": "y"
        },
        {
         "hovertemplate": "country=Seychelles Islands<br>year_month=%{x}<br>temperature_celsius=%{y}<extra></extra>",
         "legendgroup": "Seychelles Islands",
         "line": {
          "color": "#FFA15A",
          "dash": "solid"
         },
         "marker": {
          "symbol": "circle"
         },
         "mode": "lines",
         "name": "Seychelles Islands",
         "orientation": "v",
         "showlegend": true,
         "type": "scatter",
         "x": [
          "2024-05-01T00:00:00.000000000",
          "2024-06-01T00:00:00.000000000"
         ],
         "xaxis": "x",
         "y": {
          "bdata": "6ieEVVAz5z8agsflKAfnPw==",
          "dtype": "f8"
         },
         "yaxis": "y"
        },
        {
         "hovertemplate": "country=Sierra Leone<br>year_month=%{x}<br>temperature_celsius=%{y}<extra></extra>",
         "legendgroup": "Sierra Leone",
         "line": {
          "color": "#19d3f3",
          "dash": "solid"
         },
         "marker": {
          "symbol": "circle"
         },
         "mode": "lines",
         "name": "Sierra Leone",
         "orientation": "v",
         "showlegend": true,
         "type": "scatter",
         "x": [
          "2024-05-01T00:00:00.000000000",
          "2024-06-01T00:00:00.000000000"
         ],
         "xaxis": "x",
         "y": {
          "bdata": "PtA1CDxe5z8thDlkUyjnPw==",
          "dtype": "f8"
         },
         "yaxis": "y"
        },
        {
         "hovertemplate": "country=Singapore<br>year_month=%{x}<br>temperature_celsius=%{y}<extra></extra>",
         "legendgroup": "Singapore",
         "line": {
          "color": "#FF6692",
          "dash": "solid"
         },
         "marker": {
          "symbol": "circle"
         },
         "mode": "lines",
         "name": "Singapore",
         "orientation": "v",
         "showlegend": true,
         "type": "scatter",
         "x": [
          "2024-05-01T00:00:00.000000000",
          "2024-06-01T00:00:00.000000000"
         ],
         "xaxis": "x",
         "y": {
          "bdata": "YEIGHMn45j8BcEOwEQDnPw==",
          "dtype": "f8"
         },
         "yaxis": "y"
        },
        {
         "hovertemplate": "country=Slovakia<br>year_month=%{x}<br>temperature_celsius=%{y}<extra></extra>",
         "legendgroup": "Slovakia",
         "line": {
          "color": "#B6E880",
          "dash": "solid"
         },
         "marker": {
          "symbol": "circle"
         },
         "mode": "lines",
         "name": "Slovakia",
         "orientation": "v",
         "showlegend": true,
         "type": "scatter",
         "x": [
          "2024-05-01T00:00:00.000000000",
          "2024-06-01T00:00:00.000000000"
         ],
         "xaxis": "x",
         "y": {
          "bdata": "1k0iyGjs4z/JWw00hLzlPw==",
          "dtype": "f8"
         },
         "yaxis": "y"
        },
        {
         "hovertemplate": "country=Slovenia<br>year_month=%{x}<br>temperature_celsius=%{y}<extra></extra>",
         "legendgroup": "Slovenia",
         "line": {
          "color": "#FF97FF",
          "dash": "solid"
         },
         "marker": {
          "symbol": "circle"
         },
         "mode": "lines",
         "name": "Slovenia",
         "orientation": "v",
         "showlegend": true,
         "type": "scatter",
         "x": [
          "2024-05-01T00:00:00.000000000",
          "2024-06-01T00:00:00.000000000"
         ],
         "xaxis": "x",
         "y": {
          "bdata": "MASqSs4V4z/RVdZyEl3lPw==",
          "dtype": "f8"
         },
         "yaxis": "y"
        },
        {
         "hovertemplate": "country=Solomon Islands<br>year_month=%{x}<br>temperature_celsius=%{y}<extra></extra>",
         "legendgroup": "Solomon Islands",
         "line": {
          "color": "#FECB52",
          "dash": "solid"
         },
         "marker": {
          "symbol": "circle"
         },
         "mode": "lines",
         "name": "Solomon Islands",
         "orientation": "v",
         "showlegend": true,
         "type": "scatter",
         "x": [
          "2024-05-01T00:00:00.000000000",
          "2024-06-01T00:00:00.000000000"
         ],
         "xaxis": "x",
         "y": {
          "bdata": "kj+oJRf55T+2W9YvabvlPw==",
          "dtype": "f8"
         },
         "yaxis": "y"
        },
        {
         "hovertemplate": "country=Somalia<br>year_month=%{x}<br>temperature_celsius=%{y}<extra></extra>",
         "legendgroup": "Somalia",
         "line": {
          "color": "#636efa",
          "dash": "solid"
         },
         "marker": {
          "symbol": "circle"
         },
         "mode": "lines",
         "name": "Somalia",
         "orientation": "v",
         "showlegend": true,
         "type": "scatter",
         "x": [
          "2024-05-01T00:00:00.000000000",
          "2024-06-01T00:00:00.000000000"
         ],
         "xaxis": "x",
         "y": {
          "bdata": "k3jnuieJ5z8pcS2hfhLnPw==",
          "dtype": "f8"
         },
         "yaxis": "y"
        },
        {
         "hovertemplate": "country=South Africa<br>year_month=%{x}<br>temperature_celsius=%{y}<extra></extra>",
         "legendgroup": "South Africa",
         "line": {
          "color": "#EF553B",
          "dash": "solid"
         },
         "marker": {
          "symbol": "circle"
         },
         "mode": "lines",
         "name": "South Africa",
         "orientation": "v",
         "showlegend": true,
         "type": "scatter",
         "x": [
          "2024-05-01T00:00:00.000000000",
          "2024-06-01T00:00:00.000000000"
         ],
         "xaxis": "x",
         "y": {
          "bdata": "1//nyBqy5D/2LlvbZO/iPw==",
          "dtype": "f8"
         },
         "yaxis": "y"
        },
        {
         "hovertemplate": "country=South Korea<br>year_month=%{x}<br>temperature_celsius=%{y}<extra></extra>",
         "legendgroup": "South Korea",
         "line": {
          "color": "#00cc96",
          "dash": "solid"
         },
         "marker": {
          "symbol": "circle"
         },
         "mode": "lines",
         "name": "South Korea",
         "orientation": "v",
         "showlegend": true,
         "type": "scatter",
         "x": [
          "2024-05-01T00:00:00.000000000",
          "2024-06-01T00:00:00.000000000"
         ],
         "xaxis": "x",
         "y": {
          "bdata": "qEy0+Kr34T83Qo8ceCPkPw==",
          "dtype": "f8"
         },
         "yaxis": "y"
        },
        {
         "hovertemplate": "country=Spain<br>year_month=%{x}<br>temperature_celsius=%{y}<extra></extra>",
         "legendgroup": "Spain",
         "line": {
          "color": "#ab63fa",
          "dash": "solid"
         },
         "marker": {
          "symbol": "circle"
         },
         "mode": "lines",
         "name": "Spain",
         "orientation": "v",
         "showlegend": true,
         "type": "scatter",
         "x": [
          "2024-05-01T00:00:00.000000000",
          "2024-06-01T00:00:00.000000000"
         ],
         "xaxis": "x",
         "y": {
          "bdata": "4GFwjgMt5T+bZND4p0nmPw==",
          "dtype": "f8"
         },
         "yaxis": "y"
        },
        {
         "hovertemplate": "country=Sri Lanka<br>year_month=%{x}<br>temperature_celsius=%{y}<extra></extra>",
         "legendgroup": "Sri Lanka",
         "line": {
          "color": "#FFA15A",
          "dash": "solid"
         },
         "marker": {
          "symbol": "circle"
         },
         "mode": "lines",
         "name": "Sri Lanka",
         "orientation": "v",
         "showlegend": true,
         "type": "scatter",
         "x": [
          "2024-05-01T00:00:00.000000000",
          "2024-06-01T00:00:00.000000000"
         ],
         "xaxis": "x",
         "y": {
          "bdata": "kP2XxZFv5j/eb9Wn2/3mPw==",
          "dtype": "f8"
         },
         "yaxis": "y"
        },
        {
         "hovertemplate": "country=Sudan<br>year_month=%{x}<br>temperature_celsius=%{y}<extra></extra>",
         "legendgroup": "Sudan",
         "line": {
          "color": "#19d3f3",
          "dash": "solid"
         },
         "marker": {
          "symbol": "circle"
         },
         "mode": "lines",
         "name": "Sudan",
         "orientation": "v",
         "showlegend": true,
         "type": "scatter",
         "x": [
          "2024-05-01T00:00:00.000000000",
          "2024-06-01T00:00:00.000000000"
         ],
         "xaxis": "x",
         "y": {
          "bdata": "/f02dgsc7D9PFe9uCaPrPw==",
          "dtype": "f8"
         },
         "yaxis": "y"
        },
        {
         "hovertemplate": "country=Suriname<br>year_month=%{x}<br>temperature_celsius=%{y}<extra></extra>",
         "legendgroup": "Suriname",
         "line": {
          "color": "#FF6692",
          "dash": "solid"
         },
         "marker": {
          "symbol": "circle"
         },
         "mode": "lines",
         "name": "Suriname",
         "orientation": "v",
         "showlegend": true,
         "type": "scatter",
         "x": [
          "2024-05-01T00:00:00.000000000",
          "2024-06-01T00:00:00.000000000"
         ],
         "xaxis": "x",
         "y": {
          "bdata": "UflEho0c5z8W4yrwQAXnPw==",
          "dtype": "f8"
         },
         "yaxis": "y"
        },
        {
         "hovertemplate": "country=Swaziland<br>year_month=%{x}<br>temperature_celsius=%{y}<extra></extra>",
         "legendgroup": "Swaziland",
         "line": {
          "color": "#B6E880",
          "dash": "solid"
         },
         "marker": {
          "symbol": "circle"
         },
         "mode": "lines",
         "name": "Swaziland",
         "orientation": "v",
         "showlegend": true,
         "type": "scatter",
         "x": [
          "2024-05-01T00:00:00.000000000",
          "2024-06-01T00:00:00.000000000"
         ],
         "xaxis": "x",
         "y": {
          "bdata": "tvIVqA3g4z8tMTtixRLjPw==",
          "dtype": "f8"
         },
         "yaxis": "y"
        },
        {
         "hovertemplate": "country=Sweden<br>year_month=%{x}<br>temperature_celsius=%{y}<extra></extra>",
         "legendgroup": "Sweden",
         "line": {
          "color": "#FF97FF",
          "dash": "solid"
         },
         "marker": {
          "symbol": "circle"
         },
         "mode": "lines",
         "name": "Sweden",
         "orientation": "v",
         "showlegend": true,
         "type": "scatter",
         "x": [
          "2024-05-01T00:00:00.000000000",
          "2024-06-01T00:00:00.000000000"
         ],
         "xaxis": "x",
         "y": {
          "bdata": "uLufnPEz5D9NN52Cy3TjPw==",
          "dtype": "f8"
         },
         "yaxis": "y"
        },
        {
         "hovertemplate": "country=Switzerland<br>year_month=%{x}<br>temperature_celsius=%{y}<extra></extra>",
         "legendgroup": "Switzerland",
         "line": {
          "color": "#FECB52",
          "dash": "solid"
         },
         "marker": {
          "symbol": "circle"
         },
         "mode": "lines",
         "name": "Switzerland",
         "orientation": "v",
         "showlegend": true,
         "type": "scatter",
         "x": [
          "2024-05-01T00:00:00.000000000",
          "2024-06-01T00:00:00.000000000"
         ],
         "xaxis": "x",
         "y": {
          "bdata": "K5kzYS0L4j+fQ5jH8jnkPw==",
          "dtype": "f8"
         },
         "yaxis": "y"
        },
        {
         "hovertemplate": "country=Syria<br>year_month=%{x}<br>temperature_celsius=%{y}<extra></extra>",
         "legendgroup": "Syria",
         "line": {
          "color": "#636efa",
          "dash": "solid"
         },
         "marker": {
          "symbol": "circle"
         },
         "mode": "lines",
         "name": "Syria",
         "orientation": "v",
         "showlegend": true,
         "type": "scatter",
         "x": [
          "2024-05-01T00:00:00.000000000",
          "2024-06-01T00:00:00.000000000"
         ],
         "xaxis": "x",
         "y": {
          "bdata": "DCV9amj25z9xs/PBETfrPw==",
          "dtype": "f8"
         },
         "yaxis": "y"
        },
        {
         "hovertemplate": "country=Tajikistan<br>year_month=%{x}<br>temperature_celsius=%{y}<extra></extra>",
         "legendgroup": "Tajikistan",
         "line": {
          "color": "#EF553B",
          "dash": "solid"
         },
         "marker": {
          "symbol": "circle"
         },
         "mode": "lines",
         "name": "Tajikistan",
         "orientation": "v",
         "showlegend": true,
         "type": "scatter",
         "x": [
          "2024-05-01T00:00:00.000000000",
          "2024-06-01T00:00:00.000000000"
         ],
         "xaxis": "x",
         "y": {
          "bdata": "FK8VIZRL5T/XdE3XdE3nPw==",
          "dtype": "f8"
         },
         "yaxis": "y"
        },
        {
         "hovertemplate": "country=Tanzania<br>year_month=%{x}<br>temperature_celsius=%{y}<extra></extra>",
         "legendgroup": "Tanzania",
         "line": {
          "color": "#00cc96",
          "dash": "solid"
         },
         "marker": {
          "symbol": "circle"
         },
         "mode": "lines",
         "name": "Tanzania",
         "orientation": "v",
         "showlegend": true,
         "type": "scatter",
         "x": [
          "2024-05-01T00:00:00.000000000",
          "2024-06-01T00:00:00.000000000"
         ],
         "xaxis": "x",
         "y": {
          "bdata": "yCqLQDhw5j9wZ5+l+3bmPw==",
          "dtype": "f8"
         },
         "yaxis": "y"
        },
        {
         "hovertemplate": "country=Thailand<br>year_month=%{x}<br>temperature_celsius=%{y}<extra></extra>",
         "legendgroup": "Thailand",
         "line": {
          "color": "#ab63fa",
          "dash": "solid"
         },
         "marker": {
          "symbol": "circle"
         },
         "mode": "lines",
         "name": "Thailand",
         "orientation": "v",
         "showlegend": true,
         "type": "scatter",
         "x": [
          "2024-05-01T00:00:00.000000000",
          "2024-06-01T00:00:00.000000000"
         ],
         "xaxis": "x",
         "y": {
          "bdata": "bxVNWVYo5z8h+yiQa2vnPw==",
          "dtype": "f8"
         },
         "yaxis": "y"
        },
        {
         "hovertemplate": "country=Timor-Leste<br>year_month=%{x}<br>temperature_celsius=%{y}<extra></extra>",
         "legendgroup": "Timor-Leste",
         "line": {
          "color": "#FFA15A",
          "dash": "solid"
         },
         "marker": {
          "symbol": "circle"
         },
         "mode": "lines",
         "name": "Timor-Leste",
         "orientation": "v",
         "showlegend": true,
         "type": "scatter",
         "x": [
          "2024-05-01T00:00:00.000000000",
          "2024-06-01T00:00:00.000000000"
         ],
         "xaxis": "x",
         "y": {
          "bdata": "8UweGfy/5T9aDY+Ymj/lPw==",
          "dtype": "f8"
         },
         "yaxis": "y"
        },
        {
         "hovertemplate": "country=Tonga<br>year_month=%{x}<br>temperature_celsius=%{y}<extra></extra>",
         "legendgroup": "Tonga",
         "line": {
          "color": "#19d3f3",
          "dash": "solid"
         },
         "marker": {
          "symbol": "circle"
         },
         "mode": "lines",
         "name": "Tonga",
         "orientation": "v",
         "showlegend": true,
         "type": "scatter",
         "x": [
          "2024-05-01T00:00:00.000000000",
          "2024-06-01T00:00:00.000000000"
         ],
         "xaxis": "x",
         "y": {
          "bdata": "a+9vDKz25D9gR+8BBHbkPw==",
          "dtype": "f8"
         },
         "yaxis": "y"
        },
        {
         "hovertemplate": "country=Trinidad and Tobago<br>year_month=%{x}<br>temperature_celsius=%{y}<extra></extra>",
         "legendgroup": "Trinidad and Tobago",
         "line": {
          "color": "#FF6692",
          "dash": "solid"
         },
         "marker": {
          "symbol": "circle"
         },
         "mode": "lines",
         "name": "Trinidad and Tobago",
         "orientation": "v",
         "showlegend": true,
         "type": "scatter",
         "x": [
          "2024-05-01T00:00:00.000000000",
          "2024-06-01T00:00:00.000000000"
         ],
         "xaxis": "x",
         "y": {
          "bdata": "rgN//mHC5z8ad6cLknHnPw==",
          "dtype": "f8"
         },
         "yaxis": "y"
        },
        {
         "hovertemplate": "country=Tunisia<br>year_month=%{x}<br>temperature_celsius=%{y}<extra></extra>",
         "legendgroup": "Tunisia",
         "line": {
          "color": "#B6E880",
          "dash": "solid"
         },
         "marker": {
          "symbol": "circle"
         },
         "mode": "lines",
         "name": "Tunisia",
         "orientation": "v",
         "showlegend": true,
         "type": "scatter",
         "x": [
          "2024-05-01T00:00:00.000000000",
          "2024-06-01T00:00:00.000000000"
         ],
         "xaxis": "x",
         "y": {
          "bdata": "K/VgiTja5j9UfD71OMXnPw==",
          "dtype": "f8"
         },
         "yaxis": "y"
        },
        {
         "hovertemplate": "country=Turkey<br>year_month=%{x}<br>temperature_celsius=%{y}<extra></extra>",
         "legendgroup": "Turkey",
         "line": {
          "color": "#FF97FF",
          "dash": "solid"
         },
         "marker": {
          "symbol": "circle"
         },
         "mode": "lines",
         "name": "Turkey",
         "orientation": "v",
         "showlegend": true,
         "type": "scatter",
         "x": [
          "2024-05-01T00:00:00.000000000",
          "2024-06-01T00:00:00.000000000"
         ],
         "xaxis": "x",
         "y": {
          "bdata": "X/U+Dpf75D996u3NGpboPw==",
          "dtype": "f8"
         },
         "yaxis": "y"
        },
        {
         "hovertemplate": "country=Turkmenistan<br>year_month=%{x}<br>temperature_celsius=%{y}<extra></extra>",
         "legendgroup": "Turkmenistan",
         "line": {
          "color": "#FECB52",
          "dash": "solid"
         },
         "marker": {
          "symbol": "circle"
         },
         "mode": "lines",
         "name": "Turkmenistan",
         "orientation": "v",
         "showlegend": true,
         "type": "scatter",
         "x": [
          "2024-05-01T00:00:00.000000000",
          "2024-06-01T00:00:00.000000000"
         ],
         "xaxis": "x",
         "y": {
          "bdata": "npSTWhuG5T9OoHAy1gTqPw==",
          "dtype": "f8"
         },
         "yaxis": "y"
        },
        {
         "hovertemplate": "country=Tuvalu<br>year_month=%{x}<br>temperature_celsius=%{y}<extra></extra>",
         "legendgroup": "Tuvalu",
         "line": {
          "color": "#636efa",
          "dash": "solid"
         },
         "marker": {
          "symbol": "circle"
         },
         "mode": "lines",
         "name": "Tuvalu",
         "orientation": "v",
         "showlegend": true,
         "type": "scatter",
         "x": [
          "2024-05-01T00:00:00.000000000",
          "2024-06-01T00:00:00.000000000"
         ],
         "xaxis": "x",
         "y": {
          "bdata": "UBLvXPck5z/qb09VmP7mPw==",
          "dtype": "f8"
         },
         "yaxis": "y"
        },
        {
         "hovertemplate": "country=Uganda<br>year_month=%{x}<br>temperature_celsius=%{y}<extra></extra>",
         "legendgroup": "Uganda",
         "line": {
          "color": "#EF553B",
          "dash": "solid"
         },
         "marker": {
          "symbol": "circle"
         },
         "mode": "lines",
         "name": "Uganda",
         "orientation": "v",
         "showlegend": true,
         "type": "scatter",
         "x": [
          "2024-05-01T00:00:00.000000000",
          "2024-06-01T00:00:00.000000000"
         ],
         "xaxis": "x",
         "y": {
          "bdata": "m42oct4G5j/2Xu/1Xu/lPw==",
          "dtype": "f8"
         },
         "yaxis": "y"
        },
        {
         "hovertemplate": "country=Ukraine<br>year_month=%{x}<br>temperature_celsius=%{y}<extra></extra>",
         "legendgroup": "Ukraine",
         "line": {
          "color": "#00cc96",
          "dash": "solid"
         },
         "marker": {
          "symbol": "circle"
         },
         "mode": "lines",
         "name": "Ukraine",
         "orientation": "v",
         "showlegend": true,
         "type": "scatter",
         "x": [
          "2024-05-01T00:00:00.000000000",
          "2024-06-01T00:00:00.000000000"
         ],
         "xaxis": "x",
         "y": {
          "bdata": "CPnaZTxU4z9nUFfTeAblPw==",
          "dtype": "f8"
         },
         "yaxis": "y"
        },
        {
         "hovertemplate": "country=United Arab Emirates<br>year_month=%{x}<br>temperature_celsius=%{y}<extra></extra>",
         "legendgroup": "United Arab Emirates",
         "line": {
          "color": "#ab63fa",
          "dash": "solid"
         },
         "marker": {
          "symbol": "circle"
         },
         "mode": "lines",
         "name": "United Arab Emirates",
         "orientation": "v",
         "showlegend": true,
         "type": "scatter",
         "x": [
          "2024-05-01T00:00:00.000000000",
          "2024-06-01T00:00:00.000000000"
         ],
         "xaxis": "x",
         "y": {
          "bdata": "6TbqbykF6j/xr7tBDv/qPw==",
          "dtype": "f8"
         },
         "yaxis": "y"
        },
        {
         "hovertemplate": "country=United Kingdom<br>year_month=%{x}<br>temperature_celsius=%{y}<extra></extra>",
         "legendgroup": "United Kingdom",
         "line": {
          "color": "#FFA15A",
          "dash": "solid"
         },
         "marker": {
          "symbol": "circle"
         },
         "mode": "lines",
         "name": "United Kingdom",
         "orientation": "v",
         "showlegend": true,
         "type": "scatter",
         "x": [
          "2024-05-01T00:00:00.000000000",
          "2024-06-01T00:00:00.000000000"
         ],
         "xaxis": "x",
         "y": {
          "bdata": "r+Wyya8e4j9hYMY00kPjPw==",
          "dtype": "f8"
         },
         "yaxis": "y"
        },
        {
         "hovertemplate": "country=United States of America<br>year_month=%{x}<br>temperature_celsius=%{y}<extra></extra>",
         "legendgroup": "United States of America",
         "line": {
          "color": "#19d3f3",
          "dash": "solid"
         },
         "marker": {
          "symbol": "circle"
         },
         "mode": "lines",
         "name": "United States of America",
         "orientation": "v",
         "showlegend": true,
         "type": "scatter",
         "x": [
          "2024-05-01T00:00:00.000000000",
          "2024-06-01T00:00:00.000000000"
         ],
         "xaxis": "x",
         "y": {
          "bdata": "6bm0l1tx3j9t8+UAyzbfPw==",
          "dtype": "f8"
         },
         "yaxis": "y"
        },
        {
         "hovertemplate": "country=Uruguay<br>year_month=%{x}<br>temperature_celsius=%{y}<extra></extra>",
         "legendgroup": "Uruguay",
         "line": {
          "color": "#FF6692",
          "dash": "solid"
         },
         "marker": {
          "symbol": "circle"
         },
         "mode": "lines",
         "name": "Uruguay",
         "orientation": "v",
         "showlegend": true,
         "type": "scatter",
         "x": [
          "2024-05-01T00:00:00.000000000",
          "2024-06-01T00:00:00.000000000"
         ],
         "xaxis": "x",
         "y": {
          "bdata": "l3WO5tPR3z8TCeJ+MZHgPw==",
          "dtype": "f8"
         },
         "yaxis": "y"
        },
        {
         "hovertemplate": "country=Uzbekistan<br>year_month=%{x}<br>temperature_celsius=%{y}<extra></extra>",
         "legendgroup": "Uzbekistan",
         "line": {
          "color": "#B6E880",
          "dash": "solid"
         },
         "marker": {
          "symbol": "circle"
         },
         "mode": "lines",
         "name": "Uzbekistan",
         "orientation": "v",
         "showlegend": true,
         "type": "scatter",
         "x": [
          "2024-05-01T00:00:00.000000000",
          "2024-06-01T00:00:00.000000000"
         ],
         "xaxis": "x",
         "y": {
          "bdata": "MkGYTAsE5T8almEZlmHpPw==",
          "dtype": "f8"
         },
         "yaxis": "y"
        },
        {
         "hovertemplate": "country=Vanuatu<br>year_month=%{x}<br>temperature_celsius=%{y}<extra></extra>",
         "legendgroup": "Vanuatu",
         "line": {
          "color": "#FF97FF",
          "dash": "solid"
         },
         "marker": {
          "symbol": "circle"
         },
         "mode": "lines",
         "name": "Vanuatu",
         "orientation": "v",
         "showlegend": true,
         "type": "scatter",
         "x": [
          "2024-05-01T00:00:00.000000000",
          "2024-06-01T00:00:00.000000000"
         ],
         "xaxis": "x",
         "y": {
          "bdata": "LszdptnC5D8mScgYZJLkPw==",
          "dtype": "f8"
         },
         "yaxis": "y"
        },
        {
         "hovertemplate": "country=Vatican City<br>year_month=%{x}<br>temperature_celsius=%{y}<extra></extra>",
         "legendgroup": "Vatican City",
         "line": {
          "color": "#FECB52",
          "dash": "solid"
         },
         "marker": {
          "symbol": "circle"
         },
         "mode": "lines",
         "name": "Vatican City",
         "orientation": "v",
         "showlegend": true,
         "type": "scatter",
         "x": [
          "2024-05-01T00:00:00.000000000",
          "2024-06-01T00:00:00.000000000"
         ],
         "xaxis": "x",
         "y": {
          "bdata": "to0XtY0X5T8EdvQeQGDnPw==",
          "dtype": "f8"
         },
         "yaxis": "y"
        },
        {
         "hovertemplate": "country=Venezuela<br>year_month=%{x}<br>temperature_celsius=%{y}<extra></extra>",
         "legendgroup": "Venezuela",
         "line": {
          "color": "#636efa",
          "dash": "solid"
         },
         "marker": {
          "symbol": "circle"
         },
         "mode": "lines",
         "name": "Venezuela",
         "orientation": "v",
         "showlegend": true,
         "type": "scatter",
         "x": [
          "2024-05-01T00:00:00.000000000",
          "2024-06-01T00:00:00.000000000"
         ],
         "xaxis": "x",
         "y": {
          "bdata": "R4D4zHIT5z+RaMw/ConmPw==",
          "dtype": "f8"
         },
         "yaxis": "y"
        },
        {
         "hovertemplate": "country=Vietnam<br>year_month=%{x}<br>temperature_celsius=%{y}<extra></extra>",
         "legendgroup": "Vietnam",
         "line": {
          "color": "#EF553B",
          "dash": "solid"
         },
         "marker": {
          "symbol": "circle"
         },
         "mode": "lines",
         "name": "Vietnam",
         "orientation": "v",
         "showlegend": true,
         "type": "scatter",
         "x": [
          "2024-05-01T00:00:00.000000000",
          "2024-06-01T00:00:00.000000000"
         ],
         "xaxis": "x",
         "y": {
          "bdata": "uMoFt8oF5z9MoeMj8kHnPw==",
          "dtype": "f8"
         },
         "yaxis": "y"
        },
        {
         "hovertemplate": "country=Yemen<br>year_month=%{x}<br>temperature_celsius=%{y}<extra></extra>",
         "legendgroup": "Yemen",
         "line": {
          "color": "#00cc96",
          "dash": "solid"
         },
         "marker": {
          "symbol": "circle"
         },
         "mode": "lines",
         "name": "Yemen",
         "orientation": "v",
         "showlegend": true,
         "type": "scatter",
         "x": [
          "2024-05-01T00:00:00.000000000",
          "2024-06-01T00:00:00.000000000"
         ],
         "xaxis": "x",
         "y": {
          "bdata": "xmEBTFQc5j97Zd7YqFfmPw==",
          "dtype": "f8"
         },
         "yaxis": "y"
        },
        {
         "hovertemplate": "country=Zambia<br>year_month=%{x}<br>temperature_celsius=%{y}<extra></extra>",
         "legendgroup": "Zambia",
         "line": {
          "color": "#ab63fa",
          "dash": "solid"
         },
         "marker": {
          "symbol": "circle"
         },
         "mode": "lines",
         "name": "Zambia",
         "orientation": "v",
         "showlegend": true,
         "type": "scatter",
         "x": [
          "2024-05-01T00:00:00.000000000",
          "2024-06-01T00:00:00.000000000"
         ],
         "xaxis": "x",
         "y": {
          "bdata": "n6tXTk0U5T/ZUpm9iC3lPw==",
          "dtype": "f8"
         },
         "yaxis": "y"
        },
        {
         "hovertemplate": "country=Zimbabwe<br>year_month=%{x}<br>temperature_celsius=%{y}<extra></extra>",
         "legendgroup": "Zimbabwe",
         "line": {
          "color": "#FFA15A",
          "dash": "solid"
         },
         "marker": {
          "symbol": "circle"
         },
         "mode": "lines",
         "name": "Zimbabwe",
         "orientation": "v",
         "showlegend": true,
         "type": "scatter",
         "x": [
          "2024-05-01T00:00:00.000000000",
          "2024-06-01T00:00:00.000000000"
         ],
         "xaxis": "x",
         "y": {
          "bdata": "RGqnylzC5D/ZRvQ2im3kPw==",
          "dtype": "f8"
         },
         "yaxis": "y"
        },
        {
         "hovertemplate": "country=Colombia<br>year_month=%{x}<br>temperature_celsius=%{y}<extra></extra>",
         "legendgroup": "Colombia",
         "line": {
          "color": "#19d3f3",
          "dash": "solid"
         },
         "marker": {
          "symbol": "circle"
         },
         "mode": "lines",
         "name": "Colombia",
         "orientation": "v",
         "showlegend": true,
         "type": "scatter",
         "x": [
          "2024-06-01T00:00:00.000000000"
         ],
         "xaxis": "x",
         "y": {
          "bdata": "VAkBOT+V4D8=",
          "dtype": "f8"
         },
         "yaxis": "y"
        },
        {
         "hovertemplate": "country=Kosovo<br>year_month=%{x}<br>temperature_celsius=%{y}<extra></extra>",
         "legendgroup": "Kosovo",
         "line": {
          "color": "#FF6692",
          "dash": "solid"
         },
         "marker": {
          "symbol": "circle"
         },
         "mode": "lines",
         "name": "Kosovo",
         "orientation": "v",
         "showlegend": true,
         "type": "scatter",
         "x": [
          "2024-06-01T00:00:00.000000000"
         ],
         "xaxis": "x",
         "y": {
          "bdata": "gHZ1PP1n5z8=",
          "dtype": "f8"
         },
         "yaxis": "y"
        },
        {
         "hovertemplate": "country=Lao People's Democratic Republic<br>year_month=%{x}<br>temperature_celsius=%{y}<extra></extra>",
         "legendgroup": "Lao People's Democratic Republic",
         "line": {
          "color": "#B6E880",
          "dash": "solid"
         },
         "marker": {
          "symbol": "circle"
         },
         "mode": "lines",
         "name": "Lao People's Democratic Republic",
         "orientation": "v",
         "showlegend": true,
         "type": "scatter",
         "x": [
          "2024-06-01T00:00:00.000000000"
         ],
         "xaxis": "x",
         "y": {
          "bdata": "ylgTKJyM5T8=",
          "dtype": "f8"
         },
         "yaxis": "y"
        },
        {
         "hovertemplate": "country=Libya<br>year_month=%{x}<br>temperature_celsius=%{y}<extra></extra>",
         "legendgroup": "Libya",
         "line": {
          "color": "#FF97FF",
          "dash": "solid"
         },
         "marker": {
          "symbol": "circle"
         },
         "mode": "lines",
         "name": "Libya",
         "orientation": "v",
         "showlegend": true,
         "type": "scatter",
         "x": [
          "2024-06-01T00:00:00.000000000"
         ],
         "xaxis": "x",
         "y": {
          "bdata": "nGYLc7dp5j8=",
          "dtype": "f8"
         },
         "yaxis": "y"
        },
        {
         "hovertemplate": "country=Togo<br>year_month=%{x}<br>temperature_celsius=%{y}<extra></extra>",
         "legendgroup": "Togo",
         "line": {
          "color": "#FECB52",
          "dash": "solid"
         },
         "marker": {
          "symbol": "circle"
         },
         "mode": "lines",
         "name": "Togo",
         "orientation": "v",
         "showlegend": true,
         "type": "scatter",
         "x": [
          "2024-06-01T00:00:00.000000000"
         ],
         "xaxis": "x",
         "y": {
          "bdata": "1Gxh7jbN5j8=",
          "dtype": "f8"
         },
         "yaxis": "y"
        },
        {
         "hovertemplate": "country=USA United States of America<br>year_month=%{x}<br>temperature_celsius=%{y}<extra></extra>",
         "legendgroup": "USA United States of America",
         "line": {
          "color": "#636efa",
          "dash": "solid"
         },
         "marker": {
          "symbol": "circle"
         },
         "mode": "lines",
         "name": "USA United States of America",
         "orientation": "v",
         "showlegend": true,
         "type": "scatter",
         "x": [
          "2024-06-01T00:00:00.000000000"
         ],
         "xaxis": "x",
         "y": {
          "bdata": "kFW3uARZ5T8=",
          "dtype": "f8"
         },
         "yaxis": "y"
        },
        {
         "hovertemplate": "country=Bélgica<br>year_month=%{x}<br>temperature_celsius=%{y}<extra></extra>",
         "legendgroup": "Bélgica",
         "line": {
          "color": "#EF553B",
          "dash": "solid"
         },
         "marker": {
          "symbol": "circle"
         },
         "mode": "lines",
         "name": "Bélgica",
         "orientation": "v",
         "showlegend": true,
         "type": "scatter",
         "x": [
          "2024-07-01T00:00:00.000000000"
         ],
         "xaxis": "x",
         "y": {
          "bdata": "RiTLpGdE4j8=",
          "dtype": "f8"
         },
         "yaxis": "y"
        },
        {
         "hovertemplate": "country=Estonie<br>year_month=%{x}<br>temperature_celsius=%{y}<extra></extra>",
         "legendgroup": "Estonie",
         "line": {
          "color": "#00cc96",
          "dash": "solid"
         },
         "marker": {
          "symbol": "circle"
         },
         "mode": "lines",
         "name": "Estonie",
         "orientation": "v",
         "showlegend": true,
         "type": "scatter",
         "x": [
          "2024-07-01T00:00:00.000000000"
         ],
         "xaxis": "x",
         "y": {
          "bdata": "C02NW6vQ5D8=",
          "dtype": "f8"
         },
         "yaxis": "y"
        },
        {
         "hovertemplate": "country=Inde<br>year_month=%{x}<br>temperature_celsius=%{y}<extra></extra>",
         "legendgroup": "Inde",
         "line": {
          "color": "#ab63fa",
          "dash": "solid"
         },
         "marker": {
          "symbol": "circle"
         },
         "mode": "lines",
         "name": "Inde",
         "orientation": "v",
         "showlegend": true,
         "type": "scatter",
         "x": [
          "2024-07-01T00:00:00.000000000"
         ],
         "xaxis": "x",
         "y": {
          "bdata": "oYNHXQo66D8=",
          "dtype": "f8"
         },
         "yaxis": "y"
        },
        {
         "hovertemplate": "country=Jemen<br>year_month=%{x}<br>temperature_celsius=%{y}<extra></extra>",
         "legendgroup": "Jemen",
         "line": {
          "color": "#FFA15A",
          "dash": "solid"
         },
         "marker": {
          "symbol": "circle"
         },
         "mode": "lines",
         "name": "Jemen",
         "orientation": "v",
         "showlegend": true,
         "type": "scatter",
         "x": [
          "2024-07-01T00:00:00.000000000"
         ],
         "xaxis": "x",
         "y": {
          "bdata": "ZGC19zcG5j8=",
          "dtype": "f8"
         },
         "yaxis": "y"
        },
        {
         "hovertemplate": "country=Komoren<br>year_month=%{x}<br>temperature_celsius=%{y}<extra></extra>",
         "legendgroup": "Komoren",
         "line": {
          "color": "#19d3f3",
          "dash": "solid"
         },
         "marker": {
          "symbol": "circle"
         },
         "mode": "lines",
         "name": "Komoren",
         "orientation": "v",
         "showlegend": true,
         "type": "scatter",
         "x": [
          "2024-07-01T00:00:00.000000000"
         ],
         "xaxis": "x",
         "y": {
          "bdata": "LFpffLii5T8=",
          "dtype": "f8"
         },
         "yaxis": "y"
        },
        {
         "hovertemplate": "country=Letonia<br>year_month=%{x}<br>temperature_celsius=%{y}<extra></extra>",
         "legendgroup": "Letonia",
         "line": {
          "color": "#FF6692",
          "dash": "solid"
         },
         "marker": {
          "symbol": "circle"
         },
         "mode": "lines",
         "name": "Letonia",
         "orientation": "v",
         "showlegend": true,
         "type": "scatter",
         "x": [
          "2024-07-01T00:00:00.000000000"
         ],
         "xaxis": "x",
         "y": {
          "bdata": "YzqL6Sym4z8=",
          "dtype": "f8"
         },
         "yaxis": "y"
        },
        {
         "hovertemplate": "country=Malásia<br>year_month=%{x}<br>temperature_celsius=%{y}<extra></extra>",
         "legendgroup": "Malásia",
         "line": {
          "color": "#B6E880",
          "dash": "solid"
         },
         "marker": {
          "symbol": "circle"
         },
         "mode": "lines",
         "name": "Malásia",
         "orientation": "v",
         "showlegend": true,
         "type": "scatter",
         "x": [
          "2024-07-01T00:00:00.000000000"
         ],
         "xaxis": "x",
         "y": {
          "bdata": "9FMJATk/5T8=",
          "dtype": "f8"
         },
         "yaxis": "y"
        },
        {
         "hovertemplate": "country=Marrocos<br>year_month=%{x}<br>temperature_celsius=%{y}<extra></extra>",
         "legendgroup": "Marrocos",
         "line": {
          "color": "#FF97FF",
          "dash": "solid"
         },
         "marker": {
          "symbol": "circle"
         },
         "mode": "lines",
         "name": "Marrocos",
         "orientation": "v",
         "showlegend": true,
         "type": "scatter",
         "x": [
          "2024-07-01T00:00:00.000000000"
         ],
         "xaxis": "x",
         "y": {
          "bdata": "gsLJWBMo7D8=",
          "dtype": "f8"
         },
         "yaxis": "y"
        },
        {
         "hovertemplate": "country=Mexique<br>year_month=%{x}<br>temperature_celsius=%{y}<extra></extra>",
         "legendgroup": "Mexique",
         "line": {
          "color": "#FECB52",
          "dash": "solid"
         },
         "marker": {
          "symbol": "circle"
         },
         "mode": "lines",
         "name": "Mexique",
         "orientation": "v",
         "showlegend": true,
         "type": "scatter",
         "x": [
          "2024-07-01T00:00:00.000000000"
         ],
         "xaxis": "x",
         "y": {
          "bdata": "X2mjG/CV5j8=",
          "dtype": "f8"
         },
         "yaxis": "y"
        }
       ],
       "layout": {
        "legend": {
         "title": {
          "text": "country"
         },
         "tracegroupgap": 0
        },
        "template": {
         "data": {
          "bar": [
           {
            "error_x": {
             "color": "#2a3f5f"
            },
            "error_y": {
             "color": "#2a3f5f"
            },
            "marker": {
             "line": {
              "color": "#E5ECF6",
              "width": 0.5
             },
             "pattern": {
              "fillmode": "overlay",
              "size": 10,
              "solidity": 0.2
             }
            },
            "type": "bar"
           }
          ],
          "barpolar": [
           {
            "marker": {
             "line": {
              "color": "#E5ECF6",
              "width": 0.5
             },
             "pattern": {
              "fillmode": "overlay",
              "size": 10,
              "solidity": 0.2
             }
            },
            "type": "barpolar"
           }
          ],
          "carpet": [
           {
            "aaxis": {
             "endlinecolor": "#2a3f5f",
             "gridcolor": "white",
             "linecolor": "white",
             "minorgridcolor": "white",
             "startlinecolor": "#2a3f5f"
            },
            "baxis": {
             "endlinecolor": "#2a3f5f",
             "gridcolor": "white",
             "linecolor": "white",
             "minorgridcolor": "white",
             "startlinecolor": "#2a3f5f"
            },
            "type": "carpet"
           }
          ],
          "choropleth": [
           {
            "colorbar": {
             "outlinewidth": 0,
             "ticks": ""
            },
            "type": "choropleth"
           }
          ],
          "contour": [
           {
            "colorbar": {
             "outlinewidth": 0,
             "ticks": ""
            },
            "colorscale": [
             [
              0,
              "#0d0887"
             ],
             [
              0.1111111111111111,
              "#46039f"
             ],
             [
              0.2222222222222222,
              "#7201a8"
             ],
             [
              0.3333333333333333,
              "#9c179e"
             ],
             [
              0.4444444444444444,
              "#bd3786"
             ],
             [
              0.5555555555555556,
              "#d8576b"
             ],
             [
              0.6666666666666666,
              "#ed7953"
             ],
             [
              0.7777777777777778,
              "#fb9f3a"
             ],
             [
              0.8888888888888888,
              "#fdca26"
             ],
             [
              1,
              "#f0f921"
             ]
            ],
            "type": "contour"
           }
          ],
          "contourcarpet": [
           {
            "colorbar": {
             "outlinewidth": 0,
             "ticks": ""
            },
            "type": "contourcarpet"
           }
          ],
          "heatmap": [
           {
            "colorbar": {
             "outlinewidth": 0,
             "ticks": ""
            },
            "colorscale": [
             [
              0,
              "#0d0887"
             ],
             [
              0.1111111111111111,
              "#46039f"
             ],
             [
              0.2222222222222222,
              "#7201a8"
             ],
             [
              0.3333333333333333,
              "#9c179e"
             ],
             [
              0.4444444444444444,
              "#bd3786"
             ],
             [
              0.5555555555555556,
              "#d8576b"
             ],
             [
              0.6666666666666666,
              "#ed7953"
             ],
             [
              0.7777777777777778,
              "#fb9f3a"
             ],
             [
              0.8888888888888888,
              "#fdca26"
             ],
             [
              1,
              "#f0f921"
             ]
            ],
            "type": "heatmap"
           }
          ],
          "histogram": [
           {
            "marker": {
             "pattern": {
              "fillmode": "overlay",
              "size": 10,
              "solidity": 0.2
             }
            },
            "type": "histogram"
           }
          ],
          "histogram2d": [
           {
            "colorbar": {
             "outlinewidth": 0,
             "ticks": ""
            },
            "colorscale": [
             [
              0,
              "#0d0887"
             ],
             [
              0.1111111111111111,
              "#46039f"
             ],
             [
              0.2222222222222222,
              "#7201a8"
             ],
             [
              0.3333333333333333,
              "#9c179e"
             ],
             [
              0.4444444444444444,
              "#bd3786"
             ],
             [
              0.5555555555555556,
              "#d8576b"
             ],
             [
              0.6666666666666666,
              "#ed7953"
             ],
             [
              0.7777777777777778,
              "#fb9f3a"
             ],
             [
              0.8888888888888888,
              "#fdca26"
             ],
             [
              1,
              "#f0f921"
             ]
            ],
            "type": "histogram2d"
           }
          ],
          "histogram2dcontour": [
           {
            "colorbar": {
             "outlinewidth": 0,
             "ticks": ""
            },
            "colorscale": [
             [
              0,
              "#0d0887"
             ],
             [
              0.1111111111111111,
              "#46039f"
             ],
             [
              0.2222222222222222,
              "#7201a8"
             ],
             [
              0.3333333333333333,
              "#9c179e"
             ],
             [
              0.4444444444444444,
              "#bd3786"
             ],
             [
              0.5555555555555556,
              "#d8576b"
             ],
             [
              0.6666666666666666,
              "#ed7953"
             ],
             [
              0.7777777777777778,
              "#fb9f3a"
             ],
             [
              0.8888888888888888,
              "#fdca26"
             ],
             [
              1,
              "#f0f921"
             ]
            ],
            "type": "histogram2dcontour"
           }
          ],
          "mesh3d": [
           {
            "colorbar": {
             "outlinewidth": 0,
             "ticks": ""
            },
            "type": "mesh3d"
           }
          ],
          "parcoords": [
           {
            "line": {
             "colorbar": {
              "outlinewidth": 0,
              "ticks": ""
             }
            },
            "type": "parcoords"
           }
          ],
          "pie": [
           {
            "automargin": true,
            "type": "pie"
           }
          ],
          "scatter": [
           {
            "fillpattern": {
             "fillmode": "overlay",
             "size": 10,
             "solidity": 0.2
            },
            "type": "scatter"
           }
          ],
          "scatter3d": [
           {
            "line": {
             "colorbar": {
              "outlinewidth": 0,
              "ticks": ""
             }
            },
            "marker": {
             "colorbar": {
              "outlinewidth": 0,
              "ticks": ""
             }
            },
            "type": "scatter3d"
           }
          ],
          "scattercarpet": [
           {
            "marker": {
             "colorbar": {
              "outlinewidth": 0,
              "ticks": ""
             }
            },
            "type": "scattercarpet"
           }
          ],
          "scattergeo": [
           {
            "marker": {
             "colorbar": {
              "outlinewidth": 0,
              "ticks": ""
             }
            },
            "type": "scattergeo"
           }
          ],
          "scattergl": [
           {
            "marker": {
             "colorbar": {
              "outlinewidth": 0,
              "ticks": ""
             }
            },
            "type": "scattergl"
           }
          ],
          "scattermap": [
           {
            "marker": {
             "colorbar": {
              "outlinewidth": 0,
              "ticks": ""
             }
            },
            "type": "scattermap"
           }
          ],
          "scattermapbox": [
           {
            "marker": {
             "colorbar": {
              "outlinewidth": 0,
              "ticks": ""
             }
            },
            "type": "scattermapbox"
           }
          ],
          "scatterpolar": [
           {
            "marker": {
             "colorbar": {
              "outlinewidth": 0,
              "ticks": ""
             }
            },
            "type": "scatterpolar"
           }
          ],
          "scatterpolargl": [
           {
            "marker": {
             "colorbar": {
              "outlinewidth": 0,
              "ticks": ""
             }
            },
            "type": "scatterpolargl"
           }
          ],
          "scatterternary": [
           {
            "marker": {
             "colorbar": {
              "outlinewidth": 0,
              "ticks": ""
             }
            },
            "type": "scatterternary"
           }
          ],
          "surface": [
           {
            "colorbar": {
             "outlinewidth": 0,
             "ticks": ""
            },
            "colorscale": [
             [
              0,
              "#0d0887"
             ],
             [
              0.1111111111111111,
              "#46039f"
             ],
             [
              0.2222222222222222,
              "#7201a8"
             ],
             [
              0.3333333333333333,
              "#9c179e"
             ],
             [
              0.4444444444444444,
              "#bd3786"
             ],
             [
              0.5555555555555556,
              "#d8576b"
             ],
             [
              0.6666666666666666,
              "#ed7953"
             ],
             [
              0.7777777777777778,
              "#fb9f3a"
             ],
             [
              0.8888888888888888,
              "#fdca26"
             ],
             [
              1,
              "#f0f921"
             ]
            ],
            "type": "surface"
           }
          ],
          "table": [
           {
            "cells": {
             "fill": {
              "color": "#EBF0F8"
             },
             "line": {
              "color": "white"
             }
            },
            "header": {
             "fill": {
              "color": "#C8D4E3"
             },
             "line": {
              "color": "white"
             }
            },
            "type": "table"
           }
          ]
         },
         "layout": {
          "annotationdefaults": {
           "arrowcolor": "#2a3f5f",
           "arrowhead": 0,
           "arrowwidth": 1
          },
          "autotypenumbers": "strict",
          "coloraxis": {
           "colorbar": {
            "outlinewidth": 0,
            "ticks": ""
           }
          },
          "colorscale": {
           "diverging": [
            [
             0,
             "#8e0152"
            ],
            [
             0.1,
             "#c51b7d"
            ],
            [
             0.2,
             "#de77ae"
            ],
            [
             0.3,
             "#f1b6da"
            ],
            [
             0.4,
             "#fde0ef"
            ],
            [
             0.5,
             "#f7f7f7"
            ],
            [
             0.6,
             "#e6f5d0"
            ],
            [
             0.7,
             "#b8e186"
            ],
            [
             0.8,
             "#7fbc41"
            ],
            [
             0.9,
             "#4d9221"
            ],
            [
             1,
             "#276419"
            ]
           ],
           "sequential": [
            [
             0,
             "#0d0887"
            ],
            [
             0.1111111111111111,
             "#46039f"
            ],
            [
             0.2222222222222222,
             "#7201a8"
            ],
            [
             0.3333333333333333,
             "#9c179e"
            ],
            [
             0.4444444444444444,
             "#bd3786"
            ],
            [
             0.5555555555555556,
             "#d8576b"
            ],
            [
             0.6666666666666666,
             "#ed7953"
            ],
            [
             0.7777777777777778,
             "#fb9f3a"
            ],
            [
             0.8888888888888888,
             "#fdca26"
            ],
            [
             1,
             "#f0f921"
            ]
           ],
           "sequentialminus": [
            [
             0,
             "#0d0887"
            ],
            [
             0.1111111111111111,
             "#46039f"
            ],
            [
             0.2222222222222222,
             "#7201a8"
            ],
            [
             0.3333333333333333,
             "#9c179e"
            ],
            [
             0.4444444444444444,
             "#bd3786"
            ],
            [
             0.5555555555555556,
             "#d8576b"
            ],
            [
             0.6666666666666666,
             "#ed7953"
            ],
            [
             0.7777777777777778,
             "#fb9f3a"
            ],
            [
             0.8888888888888888,
             "#fdca26"
            ],
            [
             1,
             "#f0f921"
            ]
           ]
          },
          "colorway": [
           "#636efa",
           "#EF553B",
           "#00cc96",
           "#ab63fa",
           "#FFA15A",
           "#19d3f3",
           "#FF6692",
           "#B6E880",
           "#FF97FF",
           "#FECB52"
          ],
          "font": {
           "color": "#2a3f5f"
          },
          "geo": {
           "bgcolor": "white",
           "lakecolor": "white",
           "landcolor": "#E5ECF6",
           "showlakes": true,
           "showland": true,
           "subunitcolor": "white"
          },
          "hoverlabel": {
           "align": "left"
          },
          "hovermode": "closest",
          "mapbox": {
           "style": "light"
          },
          "paper_bgcolor": "white",
          "plot_bgcolor": "#E5ECF6",
          "polar": {
           "angularaxis": {
            "gridcolor": "white",
            "linecolor": "white",
            "ticks": ""
           },
           "bgcolor": "#E5ECF6",
           "radialaxis": {
            "gridcolor": "white",
            "linecolor": "white",
            "ticks": ""
           }
          },
          "scene": {
           "xaxis": {
            "backgroundcolor": "#E5ECF6",
            "gridcolor": "white",
            "gridwidth": 2,
            "linecolor": "white",
            "showbackground": true,
            "ticks": "",
            "zerolinecolor": "white"
           },
           "yaxis": {
            "backgroundcolor": "#E5ECF6",
            "gridcolor": "white",
            "gridwidth": 2,
            "linecolor": "white",
            "showbackground": true,
            "ticks": "",
            "zerolinecolor": "white"
           },
           "zaxis": {
            "backgroundcolor": "#E5ECF6",
            "gridcolor": "white",
            "gridwidth": 2,
            "linecolor": "white",
            "showbackground": true,
            "ticks": "",
            "zerolinecolor": "white"
           }
          },
          "shapedefaults": {
           "line": {
            "color": "#2a3f5f"
           }
          },
          "ternary": {
           "aaxis": {
            "gridcolor": "white",
            "linecolor": "white",
            "ticks": ""
           },
           "baxis": {
            "gridcolor": "white",
            "linecolor": "white",
            "ticks": ""
           },
           "bgcolor": "#E5ECF6",
           "caxis": {
            "gridcolor": "white",
            "linecolor": "white",
            "ticks": ""
           }
          },
          "title": {
           "x": 0.05
          },
          "xaxis": {
           "automargin": true,
           "gridcolor": "white",
           "linecolor": "white",
           "ticks": "",
           "title": {
            "standoff": 15
           },
           "zerolinecolor": "white",
           "zerolinewidth": 2
          },
          "yaxis": {
           "automargin": true,
           "gridcolor": "white",
           "linecolor": "white",
           "ticks": "",
           "title": {
            "standoff": 15
           },
           "zerolinecolor": "white",
           "zerolinewidth": 2
          }
         }
        },
        "title": {
         "text": "Temperature Trends (Sample)"
        },
        "xaxis": {
         "anchor": "y",
         "domain": [
          0,
          1
         ],
         "title": {
          "text": "year_month"
         }
        },
        "yaxis": {
         "anchor": "x",
         "domain": [
          0,
          1
         ],
         "title": {
          "text": "temperature_celsius"
         }
        }
       }
      }
     },
     "metadata": {},
     "output_type": "display_data"
    }
   ],
   "source": [
    "# Convert Period back to timestamp for Plotly\n",
    "if \"temperature_celsius\" in monthly_df.columns:\n",
    "    # If your monthly_df index is a period, convert it\n",
    "    if isinstance(monthly_df.iloc[0,0], pd.Period):\n",
    "        monthly_df[\"year_month\"] = monthly_df[\"last_updated\"].dt.to_timestamp()\n",
    "    else:\n",
    "        monthly_df[\"year_month\"] = monthly_df[\"last_updated\"]\n",
    "\n",
    "    fig = px.line(\n",
    "        monthly_df.head(500),\n",
    "        x=\"year_month\",\n",
    "        y=\"temperature_celsius\",\n",
    "        color=\"country\",\n",
    "        title=\"Temperature Trends (Sample)\"\n",
    "    )\n",
    "    fig.show()\n"
   ]
  },
  {
   "cell_type": "markdown",
   "id": "b16b4fcb",
   "metadata": {},
   "source": [
    "Milestone 1 Deliverables:\n",
    "# - Cleaned & preprocessed dataset: cleaned_weather.csv, cleaned_weather.parquet\n",
    "# - Initial inspection and summary of schema, key variables, and data issues"
   ]
  }
 ],
 "metadata": {
  "kernelspec": {
   "display_name": "Python 3",
   "language": "python",
   "name": "python3"
  },
  "language_info": {
   "codemirror_mode": {
    "name": "ipython",
    "version": 3
   },
   "file_extension": ".py",
   "mimetype": "text/x-python",
   "name": "python",
   "nbconvert_exporter": "python",
   "pygments_lexer": "ipython3",
   "version": "3.13.7"
  }
 },
 "nbformat": 4,
 "nbformat_minor": 5
}
